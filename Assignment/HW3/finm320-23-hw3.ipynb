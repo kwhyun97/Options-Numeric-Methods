{
 "cells": [
  {
   "cell_type": "markdown",
   "source": [
    "<left>FINM 32000 - Numerical Methods</left>\n",
    "<left>Spring 2023</left>\n",
    "<br>\n",
    "<h1><center> Homework 3 </center></h1>\n",
    "<center>Due - 23:59 [CST] April 21st, 2023</center>\n",
    "<br>\n",
    "<h3>Ki Hyun</h3>\n",
    "<h3>Student ID: 12125881</h3>"
   ],
   "metadata": {
    "collapsed": false
   }
  },
  {
   "cell_type": "markdown",
   "source": [
    "#### Imports"
   ],
   "metadata": {
    "collapsed": false
   }
  },
  {
   "cell_type": "code",
   "execution_count": 1,
   "metadata": {},
   "outputs": [],
   "source": [
    "import numpy as np"
   ]
  },
  {
   "cell_type": "markdown",
   "source": [
    "#### Helper Functions"
   ],
   "metadata": {
    "collapsed": false
   }
  },
  {
   "cell_type": "code",
   "execution_count": 2,
   "metadata": {},
   "outputs": [],
   "source": [
    "class Vasicek:\n",
    "    \n",
    "    def __init__(self,kappa,theta,sigma): \n",
    "        self.kappa=kappa\n",
    "        self.theta=theta\n",
    "        self.sigma=sigma"
   ]
  },
  {
   "cell_type": "code",
   "execution_count": 3,
   "metadata": {},
   "outputs": [],
   "source": [
    "class Bond:\n",
    "    \n",
    "    def __init__(self, T):\n",
    "        self.T=T\n"
   ]
  },
  {
   "cell_type": "code",
   "execution_count": 12,
   "metadata": {},
   "outputs": [],
   "source": [
    "class FDexplicit:\n",
    "    \n",
    "    def __init__(self, rMax, rMin, deltar, deltat, useUpwind):         \n",
    "        self.rMax=rMax\n",
    "        self.rMin=rMin\n",
    "        self.deltar=deltar\n",
    "        self.deltat=deltat\n",
    "        self.useUpwind=useUpwind\n",
    "        \n",
    "    \n",
    "    def price_bond_vasicek(self,contract,dynamics):\n",
    "    # You complete the coding of this function\n",
    "    #\n",
    "    # Returns array of all initial short rates,\n",
    "    # and the corresponding array of zero-coupon\n",
    "    # T-maturity bond prices\n",
    "\n",
    "        T = contract.T\n",
    "        N = round(T/self.deltat)\n",
    "        if abs(N-T/self.deltat) > 1e-12:\n",
    "            raise ValueError(\"Bad delta t\")\n",
    "\n",
    "        r = np.arange(self.rMax,self.rMin-self.deltar/2,-self.deltar)\n",
    "        #I'm making the FIRST indices of the array correspond to HIGH levels of r\n",
    "        bondprice = np.ones(np.size(r))\n",
    "\n",
    "        nu = dynamics.kappa * (dynamics.theta - r)\n",
    "        sigma = dynamics.sigma\n",
    "\n",
    "        if self.useUpwind:\n",
    "            qu =  (sigma**2 * self.deltat/(self.deltar))/2 + np.maximum(nu, 0) * self.deltat/self.deltar\n",
    "            qd =  (sigma**2 * self.deltat/(self.deltar))/2 - np.minimum(nu, 0) * self.deltat/self.deltar\n",
    "            qm =  1 - qu - qd\n",
    "        else:\n",
    "            qu =  (sigma**2 * self.deltat/(self.deltar) + nu * self.deltat/self.deltar)/2\n",
    "            qd =  (sigma**2 * self.deltat/(self.deltar) - nu * self.deltat/self.deltar)/2\n",
    "            qm =  1 - (sigma**2 * self.deltat/(self.deltar))\n",
    "\n",
    "        for t in np.arange(N-1,-1,-1)*self.deltat:\n",
    "            bondprice=1/(1+r*self.deltat)*(qd*np.roll(bondprice,-1)+qm*bondprice+qu*np.roll(bondprice,1))\n",
    "\n",
    "            # It is not obvious in this case,\n",
    "            # what boundary conditions to use at the top and bottom\n",
    "            # so let us assume \"linearity\" boundary conditions\n",
    "            bondprice[0]=2*bondprice[1]-bondprice[2]\n",
    "            bondprice[-1]=2*bondprice[-2]-bondprice[-3]\n",
    "\n",
    "        return (r, bondprice)"
   ]
  },
  {
   "cell_type": "markdown",
   "source": [
    "# Problem 1."
   ],
   "metadata": {
    "collapsed": false
   }
  },
  {
   "cell_type": "code",
   "execution_count": 6,
   "outputs": [],
   "source": [
    "hw3dynamics = Vasicek(kappa=3, theta=0.05, sigma=0.03)"
   ],
   "metadata": {
    "collapsed": false
   }
  },
  {
   "cell_type": "code",
   "execution_count": 7,
   "outputs": [],
   "source": [
    "hw3contract = Bond(T=5)"
   ],
   "metadata": {
    "collapsed": false
   }
  },
  {
   "cell_type": "markdown",
   "source": [
    "## (a)\n",
    "\n",
    "Using Ito's third rule:\n",
    "\n",
    "$$\n",
    "dC(r_t, t) = C'(r_t, t) dr_t +\n",
    "\\dot{C}(r_t, t) dt\n",
    "+ \\frac{1}{2} C''(r_t, t) d<r>_t\n",
    "$$\n",
    "\n",
    "We were also given from the question that\n",
    "\n",
    "$$\n",
    "dr_t = \\alpha(r_t, t) dt + \\beta(r_t, t) dW_t\n",
    "$$\n",
    "\n",
    "Combining the two:\n",
    "\n",
    "$$\n",
    "\\begin{aligned}\n",
    "dC(r_t, t) &= C'(r_t, t) \\left(\n",
    "\\alpha(r_t, t) dt + \\beta(r_t, t) dW_t\n",
    "\\right) +\\dot{C}(r_t, t) dt\n",
    "+ \\frac{1}{2} (\\beta(r_t, t))^2 \\cdot C''(r_t, t) dt \\\\\n",
    "&= \\left(\n",
    "\\dot{C}(r_t, t) +\n",
    "\\alpha(r_t, t) \\cdot C'(r_t, t) +\n",
    "\\frac{1}{2} (\\beta(r_t, t))^2 \\cdot C''(r_t, t)\n",
    "\\right) dt +\n",
    "\\beta(r_t, t) \\cdot C'(r_t, t) dW_t\n",
    "\\end{aligned}\n",
    "$$\n",
    "\n",
    "Since the drift was set to be equal to $rC$, the PDE for $C(r_t, t)$ can be set as below:\n",
    "\n",
    "$$\n",
    "r_t C(r_t, t) =\n",
    "\\dot{C}(r_t, t) +\n",
    "\\alpha(r_t, t) \\cdot C'(r_t, t) +\n",
    "\\frac{1}{2} (\\beta(r_t, t))^2 \\cdot C''(r_t, t)\n",
    "$$"
   ],
   "metadata": {
    "collapsed": false
   }
  },
  {
   "cell_type": "markdown",
   "source": [
    "## (b)\n",
    "\n",
    "With the risk-neutral Vasicek dynamics of $r_t$:\n",
    "\n",
    "$$\n",
    "dr_t = \\kappa (\\theta - r_t) dt + \\sigma dW_t\n",
    "$$\n",
    "\n",
    "the PDE of $C(r_t, t)$ becomes:\n",
    "\n",
    "$$\n",
    "r_t C(r_t, t) =\n",
    "\\dot{C}(r_t, t) +\n",
    "\\kappa (\\theta - r_t) \\cdot C'(r_t, t) +\n",
    "\\frac{1}{2} \\sigma^2 \\cdot C''(r_t, t)\n",
    "$$\n",
    "\n",
    "Moreover, the finite difference solution for $C^{j}_{n}$ may be derived from:\n",
    "\n",
    "$$\n",
    "\\begin{aligned}\n",
    "q_u &= \\frac{1}{2} \\left[\n",
    "\\frac{\\sigma^2 \\Delta t}{(\\Delta r)^2} +\n",
    "\\kappa (\\theta - r_t) \\frac{\\Delta t}{\\Delta r}\n",
    "\\right] \\\\\n",
    "q_m &= 1 - \\frac{\\sigma^2 \\Delta t}{(\\Delta r)^2} \\\\\n",
    "q_d &= \\frac{1}{2} \\left[\n",
    "\\frac{\\sigma^2 \\Delta t}{(\\Delta r)^2} -\n",
    "\\kappa (\\theta - r_t) \\frac{\\Delta t}{\\Delta r}\n",
    "\\right]\n",
    "\\end{aligned}\n",
    "$$\n",
    "\n",
    "as\n",
    "\n",
    "$$\n",
    "C^j_n = \\frac{1}{1 + r_t \\Delta t}\n",
    "(q_u C^{j + 1}_{n + 1} +\n",
    "q_m C^{j}_{n + 1} +\n",
    "q_d C^{j - 1}_{n + 1})\n",
    "$$"
   ],
   "metadata": {
    "collapsed": false
   }
  },
  {
   "cell_type": "code",
   "execution_count": 8,
   "metadata": {},
   "outputs": [],
   "source": [
    "hw3FD = FDexplicit(rMax=0.35,rMin=-0.25,deltar=0.01,deltat=0.01,useUpwind=False)"
   ]
  },
  {
   "cell_type": "code",
   "execution_count": 9,
   "metadata": {},
   "outputs": [],
   "source": [
    "(r, bondprice) = hw3FD.price_bond_vasicek(hw3contract,hw3dynamics)"
   ]
  },
  {
   "cell_type": "code",
   "execution_count": 10,
   "metadata": {},
   "outputs": [],
   "source": [
    "np.set_printoptions(precision=4,suppress=True)\n",
    "displayrows=(r < 0.15 + hw3FD.deltar/2) & (r > 0.0 - hw3FD.deltar/2)"
   ]
  },
  {
   "cell_type": "code",
   "execution_count": 11,
   "metadata": {},
   "outputs": [
    {
     "name": "stdout",
     "output_type": "stream",
     "text": [
      "[[ 1.5000e-01  1.5847e+24]\n",
      " [ 1.4000e-01 -6.2015e+23]\n",
      " [ 1.3000e-01 -6.4913e+22]\n",
      " [ 1.2000e-01  1.5446e+22]\n",
      " [ 1.1000e-01  1.4539e+21]\n",
      " [ 1.0000e-01 -1.9860e+20]\n",
      " [ 9.0000e-02 -1.4779e+19]\n",
      " [ 8.0000e-02  9.8659e+17]\n",
      " [ 7.0000e-02  4.3241e+16]\n",
      " [ 6.0000e-02 -7.7557e+14]\n",
      " [ 5.0000e-02  6.6014e+12]\n",
      " [ 4.0000e-02 -1.1135e+16]\n",
      " [ 3.0000e-02  4.1447e+17]\n",
      " [ 2.0000e-02  1.3710e+19]\n",
      " [ 1.0000e-02 -1.3958e+20]\n",
      " [-3.3307e-16 -2.6921e+21]]\n"
     ]
    }
   ],
   "source": [
    "print(np.stack((r, bondprice),1)[displayrows])"
   ]
  },
  {
   "cell_type": "markdown",
   "source": [
    "## (c)\n",
    "\n",
    "When $\\kappa (\\theta - r_j) \\geq 0$:\n",
    "\n",
    "$$\n",
    "\\frac{C^{j}_{n + 1} - C^{j}_{n}}{\\Delta t} +\n",
    "\\kappa (\\theta - r_j) \\frac{C^{j + 1}_{n + 1} - C^{j}_{n + 1}}{\\Delta x} +\n",
    "\\frac{1}{2} \\sigma^2 \\frac{C^{j + 1}_{n + 1} - 2C^{j}_{n + 1} + C^{j - 1}_{n + 1}}{(\\Delta x)^2}\n",
    "= r C^{j}_{n}\n",
    "$$\n",
    "\n",
    "From this we can get:\n",
    "\n",
    "$$\n",
    "\\begin{aligned}\n",
    "q_u &= \\frac{1}{2} \\left[\n",
    "\\frac{\\sigma^2 \\Delta t}{(\\Delta r)^2} \\right] +\n",
    "\\kappa (\\theta - r_t) \\frac{\\Delta t}{\\Delta r} \\\\\n",
    "q_m &= 1 - \\frac{\\sigma^2 \\Delta t}{(\\Delta r)^2} -\n",
    "\\kappa (\\theta - r_t) \\frac{\\Delta t}{\\Delta r} \\\\\n",
    "q_d &= \\frac{1}{2} \\left[\n",
    "\\frac{\\sigma^2 \\Delta t}{(\\Delta r)^2}\n",
    "\\right]\n",
    "\\end{aligned}\n",
    "$$\n",
    "\n",
    "When $\\kappa (\\theta - r_j) < 0$:\n",
    "\n",
    "$$\n",
    "\\frac{C^{j}_{n + 1} - C^{j}_{n}}{\\Delta t} +\n",
    "\\kappa (\\theta - r_j) \\frac{C^{j}_{n + 1} - C^{j - 1}_{n + 1}}{\\Delta x} +\n",
    "\\frac{1}{2} \\sigma^2 \\frac{C^{j + 1}_{n + 1} - 2C^{j}_{n + 1} + C^{j - 1}_{n + 1}}{(\\Delta x)^2}\n",
    "= r C^{j}_{n}\n",
    "$$\n",
    "\n",
    "From this we can get:\n",
    "\n",
    "$$\n",
    "\\begin{aligned}\n",
    "q_u &= \\frac{1}{2} \\left[\n",
    "\\frac{\\sigma^2 \\Delta t}{(\\Delta r)^2} \\right] \\\\\n",
    "q_m &= 1 - \\frac{\\sigma^2 \\Delta t}{(\\Delta r)^2} +\n",
    "\\kappa (\\theta - r_t) \\frac{\\Delta t}{\\Delta r} \\\\\n",
    "q_d &= \\frac{1}{2} \\left[\n",
    "\\frac{\\sigma^2 \\Delta t}{(\\Delta r)^2} \\right] -\n",
    "\\kappa (\\theta - r_t) \\frac{\\Delta t}{\\Delta r}\n",
    "\\end{aligned}\n",
    "$$"
   ],
   "metadata": {
    "collapsed": false
   }
  },
  {
   "cell_type": "code",
   "execution_count": 13,
   "outputs": [],
   "source": [
    "hw3FD_upwind = FDexplicit(rMax=0.35,rMin=-0.25,deltar=0.01,deltat=0.01,useUpwind=True)"
   ],
   "metadata": {
    "collapsed": false
   }
  },
  {
   "cell_type": "code",
   "execution_count": 14,
   "outputs": [],
   "source": [
    "(r_upwind, bondprice_upwind) = hw3FD_upwind.price_bond_vasicek(hw3contract, hw3dynamics)"
   ],
   "metadata": {
    "collapsed": false
   }
  },
  {
   "cell_type": "code",
   "execution_count": 15,
   "outputs": [],
   "source": [
    "np.set_printoptions(precision=4, suppress=True)\n",
    "displayrows = (r < 0.15 + hw3FD_upwind.deltar / 2) & (r > 0.0 - hw3FD_upwind.deltar / 2)"
   ],
   "metadata": {
    "collapsed": false
   }
  },
  {
   "cell_type": "code",
   "execution_count": 16,
   "outputs": [
    {
     "name": "stdout",
     "output_type": "stream",
     "text": [
      "[[ 0.15    0.7534]\n",
      " [ 0.14    0.7559]\n",
      " [ 0.13    0.7584]\n",
      " [ 0.12    0.7609]\n",
      " [ 0.11    0.7635]\n",
      " [ 0.1     0.766 ]\n",
      " [ 0.09    0.7686]\n",
      " [ 0.08    0.7711]\n",
      " [ 0.07    0.7737]\n",
      " [ 0.06    0.7763]\n",
      " [ 0.05    0.7789]\n",
      " [ 0.04    0.7815]\n",
      " [ 0.03    0.7841]\n",
      " [ 0.02    0.7867]\n",
      " [ 0.01    0.7893]\n",
      " [-0.      0.792 ]]\n"
     ]
    }
   ],
   "source": [
    "print(np.stack((r_upwind, bondprice_upwind), 1)[displayrows])"
   ],
   "metadata": {
    "collapsed": false
   }
  },
  {
   "cell_type": "markdown",
   "source": [
    "## (d)\n",
    "\n",
    "By Taylor's theorem, as $h \\rightarrow 0$:\n",
    "\n",
    "$$\n",
    "f(x+h) = f(x) + f'(x)(x+h-x) + \\frac{f''(x)}{2!}(x+h-x)^2 + O(h^3) = f(x) + f'(x)(h) + \\frac{f''(x)}{2!}(h)^2 + O(h^3)\\\\\n",
    "f(x-h) = f(x) + f'(x)(x-h-x) + \\frac{f''(x)}{2!}(x-h-x)^2 + O(h^3) = f(x) + f'(x)(-h) + \\frac{f''(x)}{2!}(h)^2 + O(h^3)\n",
    "$$\n",
    "\n",
    "Therefore,\n",
    "\n"
   ],
   "metadata": {
    "collapsed": false
   }
  }
 ],
 "metadata": {
  "anaconda-cloud": {},
  "kernelspec": {
   "display_name": "Python 3",
   "language": "python",
   "name": "python3"
  },
  "language_info": {
   "codemirror_mode": {
    "name": "ipython",
    "version": 3
   },
   "file_extension": ".py",
   "mimetype": "text/x-python",
   "name": "python",
   "nbconvert_exporter": "python",
   "pygments_lexer": "ipython3",
   "version": "3.8.8"
  },
  "toc": {
   "base_numbering": 1,
   "nav_menu": {},
   "number_sections": true,
   "sideBar": true,
   "skip_h1_title": false,
   "title_cell": "Table of Contents",
   "title_sidebar": "Contents",
   "toc_cell": false,
   "toc_position": {},
   "toc_section_display": true,
   "toc_window_display": false
  }
 },
 "nbformat": 4,
 "nbformat_minor": 2
}
