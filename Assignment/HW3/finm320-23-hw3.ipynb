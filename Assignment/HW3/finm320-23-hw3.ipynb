{
 "cells": [
  {
   "cell_type": "code",
   "execution_count": null,
   "metadata": {},
   "outputs": [],
   "source": [
    "import numpy as np"
   ]
  },
  {
   "cell_type": "code",
   "execution_count": null,
   "metadata": {},
   "outputs": [],
   "source": [
    "class Vasicek:\n",
    "    \n",
    "    def __init__(self,kappa,theta,sigma): \n",
    "        self.kappa=kappa\n",
    "        self.theta=theta\n",
    "        self.sigma=sigma"
   ]
  },
  {
   "cell_type": "code",
   "execution_count": null,
   "metadata": {},
   "outputs": [],
   "source": [
    "hw3dynamics = Vasicek(kappa=3,theta=0.05,sigma=0.03)"
   ]
  },
  {
   "cell_type": "code",
   "execution_count": null,
   "metadata": {},
   "outputs": [],
   "source": [
    "class Bond:\n",
    "    \n",
    "    def __init__(self, T):\n",
    "        self.T=T\n",
    "    "
   ]
  },
  {
   "cell_type": "code",
   "execution_count": null,
   "metadata": {},
   "outputs": [],
   "source": [
    "hw3contract = Bond(T=5)"
   ]
  },
  {
   "cell_type": "code",
   "execution_count": null,
   "metadata": {},
   "outputs": [],
   "source": [
    "class FDexplicit:\n",
    "    \n",
    "    def __init__(self, rMax, rMin, deltar, deltat, useUpwind):         \n",
    "        self.rMax=rMax\n",
    "        self.rMin=rMin\n",
    "        self.deltar=deltar\n",
    "        self.deltat=deltat\n",
    "        self.useUpwind=useUpwind\n",
    "        \n",
    "    \n",
    "    def price_bond_vasicek(self,contract,dynamics):\n",
    "    # You complete the coding of this function\n",
    "    #\n",
    "    # Returns array of all initial short rates,\n",
    "    # and the corresponding array of zero-coupon\n",
    "    # T-maturity bond prices\n",
    "\n",
    "        T = contract.T\n",
    "        N=round(T/self.deltat)\n",
    "        if abs(N-T/self.deltat) > 1e-12:\n",
    "            raise ValueError(\"Bad delta t\")\n",
    "\n",
    "        r=np.arange(self.rMax,self.rMin-self.deltar/2,-self.deltar)   #I'm making the FIRST indices of the array correspond to HIGH levels of r\n",
    "        bondprice=np.ones(np.size(r))\n",
    "\n",
    "        if self.useUpwind:\n",
    "            qu=    #fill this in with an array.\n",
    "            qd=    #fill this in with an array.\n",
    "            qm=    #fill this in with an array.\n",
    "        else:\n",
    "            qu=    #fill this in with an array.\n",
    "            qd=    #fill this in with an array.\n",
    "            qm=    #fill this in with an array.\n",
    "\n",
    "        for t in np.arange(N-1,-1,-1)*self.deltat:\n",
    "            bondprice=1/(1+r*self.deltat)*(qd*np.roll(bondprice,-1)+qm*bondprice+qu*np.roll(bondprice,1))\n",
    "\n",
    "            # It is not obvious in this case, \n",
    "            # what boundary conditions to use at the top and bottom\n",
    "            # so let us assume \"linearity\" boundary conditions\n",
    "            bondprice[0]=2*bondprice[1]-bondprice[2]\n",
    "            bondprice[-1]=2*bondprice[-2]-bondprice[-3]\n",
    "\n",
    "        return (r, bondprice)"
   ]
  },
  {
   "cell_type": "code",
   "execution_count": null,
   "metadata": {},
   "outputs": [],
   "source": [
    "hw3FD = FDexplicit(rMax=0.35,rMin=-0.25,deltar=0.01,deltat=0.01,useUpwind=False)"
   ]
  },
  {
   "cell_type": "code",
   "execution_count": null,
   "metadata": {},
   "outputs": [],
   "source": [
    "(r, bondprice) = hw3FD.price_bond_vasicek(hw3contract,hw3dynamics)"
   ]
  },
  {
   "cell_type": "code",
   "execution_count": null,
   "metadata": {},
   "outputs": [],
   "source": [
    "np.set_printoptions(precision=4,suppress=True)\n",
    "displayrows=(r<0.15+hw3FD.deltar/2) & (r>0.0-hw3FD.deltar/2)"
   ]
  },
  {
   "cell_type": "code",
   "execution_count": null,
   "metadata": {},
   "outputs": [],
   "source": [
    "print(np.stack((r, bondprice),1)[displayrows])"
   ]
  }
 ],
 "metadata": {
  "anaconda-cloud": {},
  "kernelspec": {
   "display_name": "Python 3",
   "language": "python",
   "name": "python3"
  },
  "language_info": {
   "codemirror_mode": {
    "name": "ipython",
    "version": 3
   },
   "file_extension": ".py",
   "mimetype": "text/x-python",
   "name": "python",
   "nbconvert_exporter": "python",
   "pygments_lexer": "ipython3",
   "version": "3.8.8"
  },
  "toc": {
   "base_numbering": 1,
   "nav_menu": {},
   "number_sections": true,
   "sideBar": true,
   "skip_h1_title": false,
   "title_cell": "Table of Contents",
   "title_sidebar": "Contents",
   "toc_cell": false,
   "toc_position": {},
   "toc_section_display": true,
   "toc_window_display": false
  }
 },
 "nbformat": 4,
 "nbformat_minor": 2
}
