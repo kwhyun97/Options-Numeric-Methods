{
 "cells": [
  {
   "cell_type": "markdown",
   "source": [
    "<left>FINM 32000 - Numerical Methods</left>\n",
    "<left>Spring 2023</left>\n",
    "<br>\n",
    "<h1><center> Homework 1 </center></h1>\n",
    "<center>Due - 23:59 [CST] April 7th, 2023</center>\n",
    "<br>\n",
    "<h3>Ki Hyun</h3>\n",
    "<h3>Student ID: 12125881</h3>"
   ],
   "metadata": {
    "collapsed": false
   }
  },
  {
   "cell_type": "markdown",
   "source": [
    "### Imports"
   ],
   "metadata": {
    "collapsed": false
   }
  },
  {
   "cell_type": "code",
   "execution_count": 75,
   "metadata": {},
   "outputs": [],
   "source": [
    "import numpy as np\n",
    "from scipy.stats import norm\n",
    "from scipy.optimize import bisect, brentq\n",
    "from enum import Enum"
   ]
  },
  {
   "cell_type": "markdown",
   "metadata": {},
   "source": [
    "# Problem 1"
   ]
  },
  {
   "cell_type": "code",
   "execution_count": 76,
   "outputs": [],
   "source": [
    "class OptionType(Enum):\n",
    "    Put = \"PUT\"\n",
    "    Call = \"CALL\""
   ],
   "metadata": {
    "collapsed": false
   }
  },
  {
   "cell_type": "code",
   "execution_count": 77,
   "metadata": {},
   "outputs": [],
   "source": [
    "class UpAndOutPut:\n",
    "    \n",
    "    def __init__(self, K, T, barrier, observationinterval):\n",
    "        self.K = K\n",
    "        self.T = T\n",
    "        self.barrier = barrier\n",
    "        self.observationinterval = observationinterval"
   ]
  },
  {
   "cell_type": "code",
   "execution_count": 78,
   "metadata": {},
   "outputs": [],
   "source": [
    "hw1contract = UpAndOutPut(K=95, T=0.25, barrier=114, observationinterval=0.02)"
   ]
  },
  {
   "cell_type": "code",
   "execution_count": 79,
   "metadata": {},
   "outputs": [],
   "source": [
    "class GBMdynamics: \n",
    "    \n",
    "    def __init__(self, S, r, rGrow, sigma=None):\n",
    "        self.S = S\n",
    "        self.r = r\n",
    "        self.rGrow = rGrow\n",
    "        self.sigma = sigma\n",
    "        \n",
    "    def update_sigma(self, sigma):\n",
    "        self.sigma = sigma\n",
    "        return self"
   ]
  },
  {
   "cell_type": "code",
   "execution_count": 80,
   "metadata": {},
   "outputs": [],
   "source": [
    "hw1dynamics = GBMdynamics(S=100, sigma=0.4, rGrow=0, r=0)"
   ]
  },
  {
   "cell_type": "code",
   "execution_count": 81,
   "metadata": {},
   "outputs": [],
   "source": [
    "class Tree:\n",
    "    \n",
    "    def __init__(self, N):\n",
    "        self.N = N\n",
    "                \n",
    "    def price_upandout(self, dynamics, contract): \n",
    "        \n",
    "        deltat = contract.T / self.N\n",
    "        J = np.ceil(np.log(contract.barrier/dynamics.S)/(dynamics.sigma*np.sqrt(3*deltat))-0.5)\n",
    "        deltax = np.log(contract.barrier/dynamics.S)/(J+0.5)\n",
    "        \n",
    "        Sgrid = dynamics.S*np.exp(np.linspace(self.N, -self.N, num=2*self.N+1, endpoint=True)*deltax)  \n",
    "        #Here I decided to make the SMALLER indexes in this array correspond to HIGHER S\n",
    "        \n",
    "        numTimestepsPerObs = contract.observationinterval/deltat\n",
    "        if abs(numTimestepsPerObs-round(numTimestepsPerObs)) > 1e-8:\n",
    "            raise ValueError(\"This value of N fails to place the observation dates in the tree.\")\n",
    "            \n",
    "        nu = dynamics.rGrow - dynamics.sigma**2 / 2\n",
    "        Pu = ((dynamics.sigma**2 * deltat + nu**2 * deltat**2)/(deltax**2) + (nu * deltat)/deltax)/2\n",
    "        Pd = ((dynamics.sigma**2 * deltat + nu**2 * deltat**2)/(deltax**2) - (nu * deltat)/deltax)/2\n",
    "        Pm = 1 - ((dynamics.sigma**2 * deltat + nu**2 * deltat**2)/(deltax**2))\n",
    "\n",
    "        optionprice = np.maximum(contract.K-Sgrid,0)   #an array of time-T option prices.\n",
    "        \n",
    "        #Next, induct backwards to time 0, updating the optionprice array \n",
    "        #Hint: if x is an array, then what are x[2:] and x[1:-1] and x[:-2]\n",
    "\n",
    "        tolerance = 1e-6 # for comparing floats\n",
    "    \n",
    "        for t in np.linspace(self.N-1, 0, num=self.N, endpoint=True)* deltat:\n",
    "            # insert lines of code here if needed\n",
    "            optionprice = np.exp(-dynamics.r * deltat) * (optionprice[:-2] * Pu +\n",
    "                                                          optionprice[1:-1] * Pm +\n",
    "                                                          optionprice[2:] * Pd)\n",
    "\n",
    "            if abs(deltat % contract.observationinterval) < tolerance:\n",
    "                if (len(optionprice) - 1)/2 < J:\n",
    "                    pass\n",
    "                else:\n",
    "                    optionprice[:int((len(optionprice) - 1)/2 - J)] = 0.0\n",
    "\n",
    "\n",
    "        return optionprice[0]   \n",
    "        #The [0] is assuming that we are shrinking the optionprice array in each iteration of the loop,\n",
    "        #until finally there is only 1 element in the array.\n",
    "        #If instead you are keeping unchanged the size of the optionprice array in each iteration, \n",
    "        #then you need to change the [0] to a different index.\n"
   ]
  },
  {
   "cell_type": "code",
   "execution_count": 82,
   "outputs": [],
   "source": [
    "def Black_Scholes_Price (dynamics, contract, type):\n",
    "    d_1 = (np.log(dynamics.S/contract.K) +\n",
    "           ((dynamics.r) + dynamics.sigma ** 2 / 2) * contract.T) / (dynamics.sigma * np.sqrt(contract.T))\n",
    "\n",
    "    d_2 = d_1 - (dynamics.sigma * np.sqrt(contract.T))\n",
    "\n",
    "    if type == OptionType.Put:\n",
    "        Price = norm.cdf(-d_2) * contract.K * np.exp(-dynamics.r * contract.T) - norm.cdf(-d_1) * dynamics.S\n",
    "    elif type == OptionType.Call:\n",
    "        Price = norm.cdf(d_1) * dynamics.S - norm.cdf(d_2) * contract.K * np.exp(-dynamics.r * contract.T)\n",
    "    else:\n",
    "        raise Exception(\"Select the appropriate type for the European Option (Put / Call)\")\n",
    "\n",
    "    return Price"
   ],
   "metadata": {
    "collapsed": false
   }
  },
  {
   "cell_type": "markdown",
   "source": [
    "## (a)"
   ],
   "metadata": {
    "collapsed": false
   }
  },
  {
   "cell_type": "code",
   "execution_count": 83,
   "metadata": {
    "scrolled": false
   },
   "outputs": [
    {
     "data": {
      "text/plain": "5.5195384964568746"
     },
     "execution_count": 83,
     "metadata": {},
     "output_type": "execute_result"
    }
   ],
   "source": [
    "hw1tree=Tree(N=100000)\n",
    "\n",
    "upandout_p = hw1tree.price_upandout(hw1dynamics, hw1contract)\n",
    "\n",
    "upandout_p"
   ]
  },
  {
   "cell_type": "markdown",
   "source": [
    "The price of the discretely monitored up-and-out barrier option, when $N$ is set to $100,000$, is approximately\n",
    "$5.5195$."
   ],
   "metadata": {
    "collapsed": false
   }
  },
  {
   "cell_type": "markdown",
   "source": [
    "## (b)"
   ],
   "metadata": {
    "collapsed": false
   }
  },
  {
   "cell_type": "code",
   "execution_count": 84,
   "outputs": [
    {
     "data": {
      "text/plain": "2.5672201005022544e-06"
     },
     "execution_count": 84,
     "metadata": {},
     "output_type": "execute_result"
    }
   ],
   "source": [
    "Black_Scholes_Price(hw1dynamics, hw1contract, OptionType.Put) - upandout_p"
   ],
   "metadata": {
    "collapsed": false
   }
  },
  {
   "cell_type": "markdown",
   "source": [
    "The payoff of long 1 up-and-in and long 1 up-and-out discretely monitored barrier option would be the same as the\n",
    "payoff of long 1 plain vanilla put in the trinomial tree model.\n",
    "\n",
    "Therefore, the price of the up-and-in option was calculated by subtracting the aforementioned up-and-out option price\n",
    "from the plain vanilla put price, which was calculated through the Black-Scholes formula as the stock price strictly\n",
    "follows a Geometric Brownian Motion.\n",
    "\n",
    "The calculated price was very low as expected and was approximately $0.000003$"
   ],
   "metadata": {
    "collapsed": false
   }
  },
  {
   "cell_type": "markdown",
   "source": [
    "## (c)"
   ],
   "metadata": {
    "collapsed": false
   }
  },
  {
   "cell_type": "markdown",
   "source": [
    "### (c1)"
   ],
   "metadata": {
    "collapsed": false
   }
  },
  {
   "cell_type": "markdown",
   "source": [],
   "metadata": {
    "collapsed": false
   }
  },
  {
   "cell_type": "markdown",
   "source": [
    "### (c2)"
   ],
   "metadata": {
    "collapsed": false
   }
  },
  {
   "cell_type": "markdown",
   "source": [],
   "metadata": {
    "collapsed": false
   }
  },
  {
   "cell_type": "markdown",
   "metadata": {},
   "source": [
    "# Problem 2"
   ]
  },
  {
   "cell_type": "code",
   "execution_count": 85,
   "metadata": {},
   "outputs": [],
   "source": [
    "# uses the same GBMdynamics class as in Problem 1"
   ]
  },
  {
   "cell_type": "code",
   "execution_count": 86,
   "metadata": {},
   "outputs": [
    {
     "ename": "SyntaxError",
     "evalue": "invalid syntax (3742113503.py, line 56)",
     "output_type": "error",
     "traceback": [
      "\u001B[1;36m  Cell \u001B[1;32mIn [86], line 56\u001B[1;36m\u001B[0m\n\u001B[1;33m    impliedVolatility =      # you fill this in, using bisect or brentq imported from scipy.optimize,\u001B[0m\n\u001B[1;37m                             ^\u001B[0m\n\u001B[1;31mSyntaxError\u001B[0m\u001B[1;31m:\u001B[0m invalid syntax\n"
     ]
    }
   ],
   "source": [
    "class CallOption:\n",
    "    \n",
    "    def __init__(self, K, T, price=None):\n",
    "        self.K = K\n",
    "        self.T = T\n",
    "        self.price = price\n",
    "\n",
    "    def BSprice(self, dynamics):\n",
    "        # ignores self.price if given, because this function calculates price based on the dynamics \n",
    "        \n",
    "        F = dynamics.S*np.exp(dynamics.rGrow*self.T)\n",
    "        sd = dynamics.sigma*np.sqrt(self.T)\n",
    "        d1 = np.log(F/self.K)/sd+sd/2\n",
    "        d2 = d1-sd\n",
    "        return np.exp(-dynamics.r*self.T)*(F*norm.cdf(d1)-self.K*norm.cdf(d2))\n",
    "    \n",
    "    def IV(self, dynamics):\n",
    "        # ignores dynamics.sigma, because this function solves for sigma.  \n",
    "        \n",
    "        if self.price is None: \n",
    "            raise ValueError('Contract price must be given')\n",
    "    \n",
    "        df = np.exp(-dynamics.r*self.T)  #discount factor\n",
    "        F = dynamics.S / df\n",
    "        lowerbound = np.max([0,(F-self.K)*df])\n",
    "        C = self.price\n",
    "        if C<lowerbound:\n",
    "            return np.nan\n",
    "        if C==lowerbound:\n",
    "            return 0\n",
    "        if C>=F*df:\n",
    "            return np.nan \n",
    "\n",
    "        dytry = dynamics\n",
    "        # We \"try\" values of sigma until we find sigma that generates price C\n",
    "\n",
    "        # First find lower and upper bounds\n",
    "        dytry.sigma = 0.2\n",
    "        while self.BSprice(dytry)>C:\n",
    "            dytry.sigma /= 2\n",
    "        while self.BSprice(dytry)<C:\n",
    "            dytry.sigma *= 2\n",
    "        hi = dytry.sigma\n",
    "        lo = hi/2\n",
    "        # We have calculated \"lo\" and \"hi\" which bound the implied volatility from below and above. \n",
    "        # In other words, the implied volatility is somewhere in the interval [lo,hi].\n",
    "        # Then, to calculate the implied volatility within that interval, \n",
    "        # for purposes of this homework, you may either (A) write your own bisection algorithm, \n",
    "        # or (B) use scipy.optimize.bisect or (C) use scipy.optimize.brentq\n",
    "        # You will need to provide lo and hi to those solvers.\n",
    "        # There are other solvers that do not require you to bound the solution \n",
    "        # from below and above (for instance, scipy.optimize.fsolve is a useful solver).  \n",
    "        # However, if you are able to bound the solution (of a single-variable problem), \n",
    "        # then bisection or Brent will be more reliable.\n",
    "\n",
    "        impliedVolatility =      # you fill this in, using bisect or brentq imported from scipy.optimize,\n",
    "                                 # or by writing your own bisection algorithm.\n",
    "        return impliedVolatility\n"
   ]
  },
  {
   "cell_type": "code",
   "execution_count": null,
   "metadata": {},
   "outputs": [],
   "source": [
    "#Test the BSprice function\n",
    "dynamics2 = GBMdynamics(sigma=0.4, rGrow=0, S=100, r=0)\n",
    "contract2 = CallOption(K=100, T=0.5)\n",
    "contract2.BSprice(dynamics2)"
   ]
  },
  {
   "cell_type": "code",
   "execution_count": null,
   "metadata": {},
   "outputs": [],
   "source": [
    "#Test the IV function\n",
    "contract2.price = 12\n",
    "contract2.IV(dynamics1)"
   ]
  }
 ],
 "metadata": {
  "anaconda-cloud": {},
  "kernelspec": {
   "display_name": "Python 3",
   "language": "python",
   "name": "python3"
  },
  "language_info": {
   "codemirror_mode": {
    "name": "ipython",
    "version": 3
   },
   "file_extension": ".py",
   "mimetype": "text/x-python",
   "name": "python",
   "nbconvert_exporter": "python",
   "pygments_lexer": "ipython3",
   "version": "3.8.8"
  },
  "toc": {
   "base_numbering": 1,
   "nav_menu": {},
   "number_sections": true,
   "sideBar": true,
   "skip_h1_title": false,
   "title_cell": "Table of Contents",
   "title_sidebar": "Contents",
   "toc_cell": false,
   "toc_position": {},
   "toc_section_display": true,
   "toc_window_display": false
  }
 },
 "nbformat": 4,
 "nbformat_minor": 2
}
