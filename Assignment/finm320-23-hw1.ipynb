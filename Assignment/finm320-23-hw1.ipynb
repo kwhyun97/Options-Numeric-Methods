{
 "cells": [
  {
   "cell_type": "code",
   "execution_count": null,
   "metadata": {},
   "outputs": [],
   "source": [
    "import numpy as np\n",
    "from scipy.stats import norm\n",
    "from scipy.optimize import bisect, brentq"
   ]
  },
  {
   "cell_type": "markdown",
   "metadata": {},
   "source": [
    "# Problem 1"
   ]
  },
  {
   "cell_type": "code",
   "execution_count": null,
   "metadata": {},
   "outputs": [],
   "source": [
    "class UpAndOutPut:\n",
    "    \n",
    "    def __init__(self, K, T, barrier, observationinterval):\n",
    "        self.K = K\n",
    "        self.T = T\n",
    "        self.barrier = barrier\n",
    "        self.observationinterval = observationinterval"
   ]
  },
  {
   "cell_type": "code",
   "execution_count": null,
   "metadata": {},
   "outputs": [],
   "source": [
    "hw1contract = UpAndOutPut(K=95, T=0.25, barrier=107, observationinterval=0.02)"
   ]
  },
  {
   "cell_type": "code",
   "execution_count": null,
   "metadata": {},
   "outputs": [],
   "source": [
    "class GBMdynamics: \n",
    "    \n",
    "    def __init__(self, S, r, rGrow, sigma=None):\n",
    "        self.S = S\n",
    "        self.r = r\n",
    "        self.rGrow = rGrow\n",
    "        self.sigma = sigma\n",
    "        \n",
    "    def update_sigma(self, sigma):\n",
    "        self.sigma = sigma\n",
    "        return self"
   ]
  },
  {
   "cell_type": "code",
   "execution_count": null,
   "metadata": {},
   "outputs": [],
   "source": [
    "hw1dynamics = GBMdynamics(S=100, sigma=0.4, rGrow=0, r=0)"
   ]
  },
  {
   "cell_type": "code",
   "execution_count": null,
   "metadata": {},
   "outputs": [],
   "source": [
    "class Tree:\n",
    "    \n",
    "    def __init__(self, N):\n",
    "        self.N = N\n",
    "                \n",
    "    def price_upandout(self, dynamics, contract): \n",
    "        \n",
    "        deltat = contract.T / self.N\n",
    "        J = np.ceil(np.log(contract.barrier/dynamics.S)/(dynamics.sigma*np.sqrt(3*deltat))-0.5)\n",
    "        deltax = np.log(contract.barrier/dynamics.S)/(J+0.5)\n",
    "        \n",
    "        Sgrid = dynamics.S*np.exp(np.linspace(self.N, -self.N, num=2*self.N+1, endpoint=True)*deltax)  \n",
    "        #Here I decided to make the SMALLER indexes in this array correspond to HIGHER S\n",
    "        \n",
    "        numTimestepsPerObs = contract.observationinterval/deltat\n",
    "        if abs(numTimestepsPerObs-round(numTimestepsPerObs)) > 1e-8:\n",
    "            raise ValueError(\"This value of N fails to place the observation dates in the tree.\")\n",
    "            \n",
    "        nu =        # complete this \n",
    "        Pu =        # complete this\n",
    "        Pd =        # complete this\n",
    "        Pm =        # complete this\n",
    "\n",
    "        optionprice = np.maximum(contract.K-Sgrid,0)   #an array of time-T option prices.\n",
    "        \n",
    "        #Next, induct backwards to time 0, updating the optionprice array \n",
    "        #Hint: if x is an array, then what are x[2:] and x[1:-1] and x[:-2]\n",
    "    \n",
    "        for t in np.linspace(self.N-1, 0, num=self.N, endpoint=True)*deltat:\n",
    "            # insert lines of code here if needed\n",
    "            optionprice =  #complete this\n",
    "\n",
    "        return optionprice[0]   \n",
    "        #The [0] is assuming that we are shrinking the optionprice array in each iteration of the loop,\n",
    "        #until finally there is only 1 element in the array.\n",
    "        #If instead you are keeping unchanged the size of the optionprice array in each iteration, \n",
    "        #then you need to change the [0] to a different index.\n",
    "        "
   ]
  },
  {
   "cell_type": "code",
   "execution_count": null,
   "metadata": {
    "scrolled": false
   },
   "outputs": [],
   "source": [
    "hw1tree=Tree(N=100)\n",
    "\n",
    "hw1tree.price_upandout(hw1dynamics, hw1contract)"
   ]
  },
  {
   "cell_type": "markdown",
   "metadata": {},
   "source": [
    "# Problem 2"
   ]
  },
  {
   "cell_type": "code",
   "execution_count": null,
   "metadata": {},
   "outputs": [],
   "source": [
    "# uses the same GBMdynamics class as in Problem 1"
   ]
  },
  {
   "cell_type": "code",
   "execution_count": null,
   "metadata": {},
   "outputs": [],
   "source": [
    "class CallOption:\n",
    "    \n",
    "    def __init__(self, K, T, price=None):\n",
    "        self.K = K\n",
    "        self.T = T\n",
    "        self.price = price\n",
    "\n",
    "    def BSprice(self, dynamics):\n",
    "        # ignores self.price if given, because this function calculates price based on the dynamics \n",
    "        \n",
    "        F = dynamics.S*np.exp(dynamics.rGrow*self.T)\n",
    "        sd = dynamics.sigma*np.sqrt(self.T)\n",
    "        d1 = np.log(F/self.K)/sd+sd/2\n",
    "        d2 = d1-sd\n",
    "        return np.exp(-dynamics.r*self.T)*(F*norm.cdf(d1)-self.K*norm.cdf(d2))\n",
    "    \n",
    "    def IV(self, dynamics):\n",
    "        # ignores dynamics.sigma, because this function solves for sigma.  \n",
    "        \n",
    "        if self.price is None: \n",
    "            raise ValueError('Contract price must be given')\n",
    "    \n",
    "        df = np.exp(-dynamics.r*self.T)  #discount factor\n",
    "        F = dynamics.S / df\n",
    "        lowerbound = np.max([0,(F-self.K)*df])\n",
    "        C = self.price\n",
    "        if C<lowerbound:\n",
    "            return np.nan\n",
    "        if C==lowerbound:\n",
    "            return 0\n",
    "        if C>=F*df:\n",
    "            return np.nan \n",
    "\n",
    "        dytry = dynamics\n",
    "        # We \"try\" values of sigma until we find sigma that generates price C\n",
    "\n",
    "        # First find lower and upper bounds\n",
    "        dytry.sigma = 0.2\n",
    "        while self.BSprice(dytry)>C:\n",
    "            dytry.sigma /= 2\n",
    "        while self.BSprice(dytry)<C:\n",
    "            dytry.sigma *= 2\n",
    "        hi = dytry.sigma\n",
    "        lo = hi/2\n",
    "        # We have calculated \"lo\" and \"hi\" which bound the implied volatility from below and above. \n",
    "        # In other words, the implied volatility is somewhere in the interval [lo,hi].\n",
    "        # Then, to calculate the implied volatility within that interval, \n",
    "        # for purposes of this homework, you may either (A) write your own bisection algorithm, \n",
    "        # or (B) use scipy.optimize.bisect or (C) use scipy.optimize.brentq\n",
    "        # You will need to provide lo and hi to those solvers.\n",
    "        # There are other solvers that do not require you to bound the solution \n",
    "        # from below and above (for instance, scipy.optimize.fsolve is a useful solver).  \n",
    "        # However, if you are able to bound the solution (of a single-variable problem), \n",
    "        # then bisection or Brent will be more reliable.\n",
    "\n",
    "        impliedVolatility =      # you fill this in, using bisect or brentq imported from scipy.optimize,\n",
    "                                 # or by writing your own bisection algorithm.\n",
    "        return impliedVolatility\n"
   ]
  },
  {
   "cell_type": "code",
   "execution_count": null,
   "metadata": {},
   "outputs": [],
   "source": [
    "#Test the BSprice function\n",
    "dynamics2 = GBMdynamics(sigma=0.4, rGrow=0, S=100, r=0)\n",
    "contract2 = CallOption(K=100, T=0.5)\n",
    "contract2.BSprice(dynamics2)"
   ]
  },
  {
   "cell_type": "code",
   "execution_count": null,
   "metadata": {},
   "outputs": [],
   "source": [
    "#Test the IV function\n",
    "contract2.price = 12\n",
    "contract2.IV(dynamics1)"
   ]
  }
 ],
 "metadata": {
  "anaconda-cloud": {},
  "kernelspec": {
   "display_name": "Python 3",
   "language": "python",
   "name": "python3"
  },
  "language_info": {
   "codemirror_mode": {
    "name": "ipython",
    "version": 3
   },
   "file_extension": ".py",
   "mimetype": "text/x-python",
   "name": "python",
   "nbconvert_exporter": "python",
   "pygments_lexer": "ipython3",
   "version": "3.8.8"
  },
  "toc": {
   "base_numbering": 1,
   "nav_menu": {},
   "number_sections": true,
   "sideBar": true,
   "skip_h1_title": false,
   "title_cell": "Table of Contents",
   "title_sidebar": "Contents",
   "toc_cell": false,
   "toc_position": {},
   "toc_section_display": true,
   "toc_window_display": false
  }
 },
 "nbformat": 4,
 "nbformat_minor": 2
}
