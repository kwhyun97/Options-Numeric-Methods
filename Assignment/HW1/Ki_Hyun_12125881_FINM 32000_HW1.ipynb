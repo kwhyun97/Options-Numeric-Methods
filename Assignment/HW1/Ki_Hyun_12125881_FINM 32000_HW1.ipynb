{
 "cells": [
  {
   "cell_type": "markdown",
   "source": [
    "<left>FINM 32000 - Numerical Methods</left>\n",
    "<left>Spring 2023</left>\n",
    "<br>\n",
    "<h1><center> Homework 1 </center></h1>\n",
    "<center>Due - 23:59 [CST] April 7th, 2023</center>\n",
    "<br>\n",
    "<h3>Ki Hyun</h3>\n",
    "<h3>Student ID: 12125881</h3>"
   ],
   "metadata": {
    "collapsed": false
   }
  },
  {
   "cell_type": "markdown",
   "source": [
    "### Imports"
   ],
   "metadata": {
    "collapsed": false
   }
  },
  {
   "cell_type": "code",
   "execution_count": 1,
   "outputs": [],
   "source": [
    "%matplotlib inline"
   ],
   "metadata": {
    "collapsed": false
   }
  },
  {
   "cell_type": "code",
   "execution_count": 2,
   "metadata": {},
   "outputs": [],
   "source": [
    "import numpy as np\n",
    "from scipy.stats import norm\n",
    "from scipy.optimize import bisect, brentq\n",
    "from enum import Enum\n",
    "import matplotlib.pyplot as plt"
   ]
  },
  {
   "cell_type": "markdown",
   "metadata": {},
   "source": [
    "# Problem 1"
   ]
  },
  {
   "cell_type": "code",
   "execution_count": 3,
   "outputs": [],
   "source": [
    "class OptionType(Enum):\n",
    "    Put = \"PUT\"\n",
    "    Call = \"CALL\""
   ],
   "metadata": {
    "collapsed": false
   }
  },
  {
   "cell_type": "code",
   "execution_count": 4,
   "metadata": {},
   "outputs": [],
   "source": [
    "class UpAndOutPut:\n",
    "    \n",
    "    def __init__(self, K, T, barrier, observationinterval):\n",
    "        self.K = K\n",
    "        self.T = T\n",
    "        self.barrier = barrier\n",
    "        self.observationinterval = observationinterval"
   ]
  },
  {
   "cell_type": "code",
   "execution_count": 5,
   "metadata": {},
   "outputs": [],
   "source": [
    "hw1contract = UpAndOutPut(K=95, T=0.25, barrier=114, observationinterval=0.02)"
   ]
  },
  {
   "cell_type": "code",
   "execution_count": 6,
   "metadata": {},
   "outputs": [],
   "source": [
    "class GBMdynamics: \n",
    "    \n",
    "    def __init__(self, S, r, rGrow, sigma=None):\n",
    "        self.S = S\n",
    "        self.r = r\n",
    "        self.rGrow = rGrow\n",
    "        self.sigma = sigma\n",
    "        \n",
    "    def update_sigma(self, sigma):\n",
    "        self.sigma = sigma\n",
    "        return self"
   ]
  },
  {
   "cell_type": "code",
   "execution_count": 7,
   "metadata": {},
   "outputs": [],
   "source": [
    "hw1dynamics = GBMdynamics(S=100, sigma=0.4, rGrow=0, r=0)"
   ]
  },
  {
   "cell_type": "code",
   "execution_count": 8,
   "metadata": {},
   "outputs": [],
   "source": [
    "class Tree:\n",
    "    \n",
    "    def __init__(self, N):\n",
    "        self.N = N\n",
    "                \n",
    "    def price_upandout(self, dynamics, contract): \n",
    "        \n",
    "        deltat = contract.T / self.N\n",
    "        J = np.ceil(np.log(contract.barrier/dynamics.S)/(dynamics.sigma*np.sqrt(3*deltat))-0.5)\n",
    "        deltax = np.log(contract.barrier/dynamics.S)/(J+0.5)\n",
    "        \n",
    "        Sgrid = dynamics.S*np.exp(np.linspace(self.N, -self.N, num=2*self.N+1, endpoint=True)*deltax)  \n",
    "        #Here I decided to make the SMALLER indexes in this array correspond to HIGHER S\n",
    "        \n",
    "        numTimestepsPerObs = contract.observationinterval/deltat\n",
    "        if abs(numTimestepsPerObs-round(numTimestepsPerObs)) > 1e-8:\n",
    "            raise ValueError(\"This value of N fails to place the observation dates in the tree.\")\n",
    "            \n",
    "        nu = dynamics.rGrow - dynamics.sigma**2 / 2\n",
    "        Pu = ((dynamics.sigma**2 * deltat + nu**2 * deltat**2)/(deltax**2) + (nu * deltat)/deltax)/2\n",
    "        Pd = ((dynamics.sigma**2 * deltat + nu**2 * deltat**2)/(deltax**2) - (nu * deltat)/deltax)/2\n",
    "        Pm = 1 - ((dynamics.sigma**2 * deltat + nu**2 * deltat**2)/(deltax**2))\n",
    "\n",
    "        optionprice = np.maximum(contract.K-Sgrid,0)   #an array of time-T option prices.\n",
    "        \n",
    "        #Next, induct backwards to time 0, updating the optionprice array \n",
    "        #Hint: if x is an array, then what are x[2:] and x[1:-1] and x[:-2]\n",
    "\n",
    "        tolerance = 1e-6 # for comparing floats\n",
    "    \n",
    "        for t in np.linspace(self.N-1, 0, num=self.N, endpoint=True)* deltat:\n",
    "            # insert lines of code here if needed\n",
    "            optionprice = np.exp(-dynamics.r * deltat) * (optionprice[:-2] * Pu +\n",
    "                                                          optionprice[1:-1] * Pm +\n",
    "                                                          optionprice[2:] * Pd)\n",
    "\n",
    "            if abs(deltat % contract.observationinterval) < tolerance:\n",
    "                if (len(optionprice) - 1)/2 < J:\n",
    "                    pass\n",
    "                else:\n",
    "                    optionprice[:int((len(optionprice) - 1)/2 - J)] = 0.0\n",
    "\n",
    "\n",
    "        return optionprice[0]   \n",
    "        #The [0] is assuming that we are shrinking the optionprice array in each iteration of the loop,\n",
    "        #until finally there is only 1 element in the array.\n",
    "        #If instead you are keeping unchanged the size of the optionprice array in each iteration, \n",
    "        #then you need to change the [0] to a different index.\n"
   ]
  },
  {
   "cell_type": "code",
   "execution_count": 9,
   "outputs": [],
   "source": [
    "def Black_Scholes_Price (dynamics, contract, type):\n",
    "    d_1 = (np.log(dynamics.S/contract.K) +\n",
    "           ((dynamics.r) + dynamics.sigma ** 2 / 2) * contract.T) / (dynamics.sigma * np.sqrt(contract.T))\n",
    "\n",
    "    d_2 = d_1 - (dynamics.sigma * np.sqrt(contract.T))\n",
    "\n",
    "    if type == OptionType.Put:\n",
    "        Price = norm.cdf(-d_2) * contract.K * np.exp(-dynamics.r * contract.T) - norm.cdf(-d_1) * dynamics.S\n",
    "    elif type == OptionType.Call:\n",
    "        Price = norm.cdf(d_1) * dynamics.S - norm.cdf(d_2) * contract.K * np.exp(-dynamics.r * contract.T)\n",
    "    else:\n",
    "        raise Exception(\"Select the appropriate type for the European Option (Put / Call)\")\n",
    "\n",
    "    return Price"
   ],
   "metadata": {
    "collapsed": false
   }
  },
  {
   "cell_type": "markdown",
   "source": [
    "## (a)"
   ],
   "metadata": {
    "collapsed": false
   }
  },
  {
   "cell_type": "code",
   "execution_count": 10,
   "metadata": {
    "scrolled": false
   },
   "outputs": [
    {
     "data": {
      "text/plain": "5.5195384964568746"
     },
     "execution_count": 10,
     "metadata": {},
     "output_type": "execute_result"
    }
   ],
   "source": [
    "hw1tree=Tree(N=100000)\n",
    "\n",
    "upandout_p = hw1tree.price_upandout(hw1dynamics, hw1contract)\n",
    "\n",
    "upandout_p"
   ]
  },
  {
   "cell_type": "markdown",
   "source": [
    "The price of the discretely monitored up-and-out barrier option, when $N$ is set to $100,000$, is approximately\n",
    "$5.5195$."
   ],
   "metadata": {
    "collapsed": false
   }
  },
  {
   "cell_type": "markdown",
   "source": [
    "## (b)"
   ],
   "metadata": {
    "collapsed": false
   }
  },
  {
   "cell_type": "code",
   "execution_count": 11,
   "outputs": [
    {
     "data": {
      "text/plain": "2.5672201005022544e-06"
     },
     "execution_count": 11,
     "metadata": {},
     "output_type": "execute_result"
    }
   ],
   "source": [
    "Black_Scholes_Price(hw1dynamics, hw1contract, OptionType.Put) - upandout_p"
   ],
   "metadata": {
    "collapsed": false
   }
  },
  {
   "cell_type": "markdown",
   "source": [
    "The payoff of long 1 up-and-in and long 1 up-and-out discretely monitored barrier option would be the same as the\n",
    "payoff of long 1 plain vanilla put in the trinomial tree model.\n",
    "\n",
    "Therefore, the price of the up-and-in option was calculated by subtracting the aforementioned up-and-out option price\n",
    "from the plain vanilla put price, which was calculated through the Black-Scholes formula as the stock price strictly\n",
    "follows a Geometric Brownian Motion.\n",
    "\n",
    "The calculated price was very low as expected and was approximately $0.000003$"
   ],
   "metadata": {
    "collapsed": false
   }
  },
  {
   "cell_type": "markdown",
   "source": [
    "## (c)"
   ],
   "metadata": {
    "collapsed": false
   }
  },
  {
   "cell_type": "markdown",
   "source": [
    "### (c1)"
   ],
   "metadata": {
    "collapsed": false
   }
  },
  {
   "cell_type": "markdown",
   "source": [
    "The continuously-monitored barrier option's time-0 price would be **smaller** than the time-0 price of the\n",
    "discretely-monitored option in (a) since more outcomes integrated across different $S_T$ would have a payoff of 0."
   ],
   "metadata": {
    "collapsed": false
   }
  },
  {
   "cell_type": "markdown",
   "source": [
    "### (c2)"
   ],
   "metadata": {
    "collapsed": false
   }
  },
  {
   "cell_type": "markdown",
   "source": [
    "If we let $\\tau$ be the time such that:\n",
    "\n",
    "$$\n",
    "\\tau: \\min_{0 \\leq t < 0.25} \\{t \\mid  S_t = 114\\}\n",
    "$$\n",
    "\n",
    "Then, with respect to filtration at time-$\\tau$, the vanilla put price struck at 95 can be expressed in the\n",
    "Black-Scholes form:\n",
    "\n",
    "$$\n",
    "P_{\\tau} \\mid \\mathcal{F}_{\\tau} = 95 \\cdot \\Phi\\left[-\\frac{\\log(114) - \\log(95)}{0.4 \\sqrt{0.25 - \\tau}}\n",
    "+ 0.2\\sqrt{0.25 - \\tau}\\right]\n",
    "- 114 \\cdot \\Phi\\left[-\\frac{\\log(114) - \\log(95)}{0.4 \\sqrt{0.25 - \\tau}}\n",
    "- 0.2\\sqrt{0.25 - \\tau}\\right]\n",
    "$$\n",
    "\n",
    "Similarly, with respect to filtration at time-$\\tau$, the vanilla call price struck at 136.8 can be expressed in the\n",
    "Black-Scholes form:\n",
    "\n",
    "$$\n",
    "C_{\\tau} \\mid \\mathcal{F}_{\\tau} = 114 \\cdot \\Phi\\left[\\frac{\\log(114) - \\log(136.8)}{0.4 \\sqrt{0.25 - \\tau}}\n",
    "+ 0.2\\sqrt{0.25 - \\tau}\\right] - 136.8 \\cdot \\Phi\\left[\\frac{\\log(114) - \\log(136.8)}{0.4 \\sqrt{0.25 - \\tau}}\n",
    "- 0.2\\sqrt{0.25 - \\tau}\\right]\n",
    "$$\n",
    "\n",
    "The question is asking to find $\\alpha$ that satisfies the equation:\n",
    "\n",
    "$$\n",
    "P_{\\tau} = \\alpha \\cdot C_{\\tau}\n",
    "$$\n",
    "\n",
    "for all possible values of $\\tau$\n",
    "\n",
    "To get a better understanding of the situation, let's graph $\\frac{P_{\\tau}}{C_{\\tau}}$ against $\\tau$ for\n",
    "$0 \\leq \\tau \\leq 0.25$"
   ],
   "metadata": {
    "collapsed": false
   }
  },
  {
   "cell_type": "code",
   "execution_count": 12,
   "outputs": [],
   "source": [
    "def P_tau(tau, S = 114, T = 0.25, K = 95, sigma = 0.4):\n",
    "    d_1 = np.log(S / K) / (sigma * np.sqrt(T - tau)) + sigma * np.sqrt(T - tau)/2\n",
    "    d_2 = d_1 - sigma * np.sqrt(T - tau)\n",
    "    return K * norm.cdf(-d_2) - S * norm.cdf(-d_1)"
   ],
   "metadata": {
    "collapsed": false
   }
  },
  {
   "cell_type": "code",
   "execution_count": 13,
   "outputs": [],
   "source": [
    "def C_tau(tau, S = 114, T = 0.25, K = 136.8, sigma = 0.4):\n",
    "    d_1 = np.log(S / K) / (sigma * np.sqrt(T - tau)) + sigma * np.sqrt(T - tau)/2\n",
    "    d_2 = d_1 - sigma * np.sqrt(T - tau)\n",
    "    return S * norm.cdf(d_1) - K * norm.cdf(d_2)"
   ],
   "metadata": {
    "collapsed": false
   }
  },
  {
   "cell_type": "code",
   "execution_count": 14,
   "outputs": [],
   "source": [
    "tau = np.arange(start = 0, stop = 0.25, step = 0.001)\n",
    "vectorized_P_tau = np.vectorize(P_tau)\n",
    "vectorized_C_tau = np.vectorize(C_tau)\n",
    "puts = vectorized_P_tau(tau)\n",
    "calls = vectorized_C_tau(tau)\n",
    "alphas = puts/calls"
   ],
   "metadata": {
    "collapsed": false
   }
  },
  {
   "cell_type": "code",
   "execution_count": 15,
   "outputs": [
    {
     "data": {
      "text/plain": "<Figure size 640x480 with 1 Axes>",
      "image/png": "[encoded data removed]"
     },
     "metadata": {},
     "output_type": "display_data"
    }
   ],
   "source": [
    "# Plot taus against alphas\n",
    "plt.plot(tau, alphas)\n",
    "plt.xlabel(r'$\\tau$')\n",
    "plt.ylabel(r'$\\frac{P_{\\tau}}{C_{\\tau}}$')\n",
    "plt.title('Ratio between the Put and Call across various stopping time')\n",
    "plt.show()\n",
    "None"
   ],
   "metadata": {
    "collapsed": false
   }
  },
  {
   "cell_type": "markdown",
   "source": [
    "Since our $S_0$ was given as 100, $\\tau = 0$ does not exist.\n",
    "Moreover, we only need to look at situations where the barrier is hit before expiration. Therefore $\\tau = 0.25$\n",
    "is also not under consideration.\n",
    "\n",
    "As stock price is assumed a random process, we have no preconceived notion of what $\\tau$ exactly is. Nevertheless\n",
    "the graph above clearly shows that the ratio of $\\frac{P_{\\tau}}{C_{\\tau}}$ is stabilized for possible $\\tau$ values\n",
    "in $(0, 0.25)$. This would mean that the gradient of the graph is 0 for all such $\\tau$\n",
    "(i.e., $\\frac{\\delta}{\\delta \\tau} \\frac{P_{\\tau}}{C_{\\tau}} = 0$)\n",
    "\n",
    "The above could be expressed as:\n",
    "\n",
    "$$\n",
    "\\frac{\\delta}{\\delta \\tau} \\frac{P_{\\tau}}{C_{\\tau}} =\n",
    "\\frac{\\delta}{\\delta \\tau} \\frac{\n",
    "95 \\cdot \\Phi\\left[-\\frac{\\log(114) - \\log(95)}{0.4 \\sqrt{0.25 - \\tau}}\n",
    "+ 0.2\\sqrt{0.25 - \\tau}\\right]\n",
    "- 114 \\cdot \\Phi\\left[-\\frac{\\log(114) - \\log(95)}{0.4 \\sqrt{0.25 - \\tau}}\n",
    "- 0.2\\sqrt{0.25 - \\tau}\\right]\n",
    "}\n",
    "{\n",
    "114 \\cdot \\Phi\\left[\\frac{\\log(114) - \\log(136.8)}{0.4 \\sqrt{0.25 - \\tau}}\n",
    "+ 0.2\\sqrt{0.25 - \\tau}\\right] - 136.8 \\cdot \\Phi\\left[\\frac{\\log(114) - \\log(136.8)}{0.4 \\sqrt{0.25 - \\tau}}\n",
    "- 0.2\\sqrt{0.25 - \\tau}\\right]\n",
    "}\n",
    "= 0\n",
    "$$\n",
    "\n",
    "If we think the above as analogous to the Greek $\\Theta$:\n",
    "\n",
    "$$\n",
    "\\frac{\\delta}{\\delta \\tau} \\frac{P_{\\tau}}{C_{\\tau}} =\n",
    "-\\frac{P_{\\tau}}{C_{\\tau}^2} \\cdot \\Theta_C + \\frac{1}{C_{\\tau}} \\cdot \\Theta_P =\n",
    "0\n",
    "$$\n",
    "\n",
    "$$\n",
    "\\Leftrightarrow\n",
    "\\frac{1}{C_{\\tau}} \\cdot \\Theta_P = \\frac{P_{\\tau}}{C_{\\tau}^2} \\cdot \\Theta_C\n",
    "$$\n",
    "\n",
    "$$\n",
    "\\Leftrightarrow\n",
    "\\frac{P_{\\tau}}{C_{\\tau}} = \\frac{\\Theta_P}{\\Theta_C}\n",
    "$$\n",
    "\n",
    "Knowing that in our case, due to 0 interest rate:\n",
    "\n",
    "$$\n",
    "\\frac{\\Theta_P}{\\Theta_C} \\propto\n",
    "\\frac{\\Phi'\\left[\\frac{\\log(114) - \\log(95)}{0.4 \\sqrt{0.25 - \\tau}}\n",
    "+ 0.2\\sqrt{0.25 - \\tau}\\right]}\n",
    "{\n",
    "\\Phi'\\left[\\frac{\\log(114) - \\log(136.8)}{0.4 \\sqrt{0.25 - \\tau}}\n",
    "+ 0.2\\sqrt{0.25 - \\tau}\\right]\n",
    "}\n",
    "$$\n",
    "\n",
    "This can be analytically solved and approximated to $\\alpha \\approx 0.83$\n",
    "\n",
    "With this, we can find the continuously monitored barrier put option value at time-0 as:\n",
    "\n",
    "$$\n",
    "P_0 - \\alpha \\times C_0\n",
    "\\approx 5.03\n",
    "$$"
   ],
   "metadata": {
    "collapsed": false
   }
  },
  {
   "cell_type": "markdown",
   "metadata": {},
   "source": [
    "# Problem 2"
   ]
  },
  {
   "cell_type": "code",
   "execution_count": 16,
   "metadata": {},
   "outputs": [],
   "source": [
    "# uses the same GBMdynamics class as in Problem 1"
   ]
  },
  {
   "cell_type": "code",
   "execution_count": 17,
   "metadata": {},
   "outputs": [],
   "source": [
    "class CallOption:\n",
    "    \n",
    "    def __init__(self, K, T, price=None):\n",
    "        self.K = K\n",
    "        self.T = T\n",
    "        self.price = price\n",
    "\n",
    "    def BSprice(self, dynamics):\n",
    "        # ignores self.price if given, because this function calculates price based on the dynamics \n",
    "        \n",
    "        F = dynamics.S*np.exp(dynamics.rGrow*self.T)\n",
    "        sd = dynamics.sigma*np.sqrt(self.T)\n",
    "        d1 = np.log(F/self.K)/sd+sd/2\n",
    "        d2 = d1-sd\n",
    "        return np.exp(-dynamics.r*self.T)*(F*norm.cdf(d1)-self.K*norm.cdf(d2))\n",
    "    \n",
    "    def IV(self, dynamics):\n",
    "        # ignores dynamics.sigma, because this function solves for sigma.  \n",
    "        \n",
    "        if self.price is None: \n",
    "            raise ValueError('Contract price must be given')\n",
    "    \n",
    "        df = np.exp(-dynamics.r*self.T)  #discount factor\n",
    "        F = dynamics.S / df\n",
    "        lowerbound = np.max([0,(F-self.K)*df])\n",
    "        C = self.price\n",
    "        if C<lowerbound:\n",
    "            return np.nan\n",
    "        if C==lowerbound:\n",
    "            return 0\n",
    "        if C>=F*df:\n",
    "            return np.nan \n",
    "\n",
    "        local_sigma = dynamics.sigma # saving the original sigma due to no \"copy\" method\n",
    "        dytry = dynamics\n",
    "        # We \"try\" values of sigma until we find sigma that generates price C\n",
    "\n",
    "        # First find lower and upper bounds\n",
    "        dytry.sigma = 0.2\n",
    "        while self.BSprice(dytry)>C:\n",
    "            dytry.sigma /= 2\n",
    "        while self.BSprice(dytry)<C:\n",
    "            dytry.sigma *= 2\n",
    "        hi = dytry.sigma\n",
    "        lo = hi/2\n",
    "        # We have calculated \"lo\" and \"hi\" which bound the implied volatility from below and above. \n",
    "        # In other words, the implied volatility is somewhere in the interval [lo,hi].\n",
    "        # Then, to calculate the implied volatility within that interval, \n",
    "        # for purposes of this homework, you may either (A) write your own bisection algorithm, \n",
    "        # or (B) use scipy.optimize.bisect or (C) use scipy.optimize.brentq\n",
    "        # You will need to provide lo and hi to those solvers.\n",
    "        # There are other solvers that do not require you to bound the solution \n",
    "        # from below and above (for instance, scipy.optimize.fsolve is a useful solver).  \n",
    "        # However, if you are able to bound the solution (of a single-variable problem), \n",
    "        # then bisection or Brent will be more reliable.\n",
    "\n",
    "        def f(x):\n",
    "            dytry.update_sigma(x)\n",
    "            return self.BSprice(dytry) - C\n",
    "\n",
    "        impliedVolatility = brentq(f, lo, hi)   # you fill this in, using bisect or brentq imported from scipy.optimize,\n",
    "                                 # or by writing your own bisection algorithm.\n",
    "\n",
    "        dynamics.update_sigma(local_sigma) # restoring the original sigma\n",
    "        return impliedVolatility\n"
   ]
  },
  {
   "cell_type": "code",
   "execution_count": 18,
   "metadata": {},
   "outputs": [
    {
     "data": {
      "text/plain": "11.246291601828489"
     },
     "execution_count": 18,
     "metadata": {},
     "output_type": "execute_result"
    }
   ],
   "source": [
    "#Test the BSprice function\n",
    "dynamics2 = GBMdynamics(sigma=0.4, rGrow=0, S=100, r=0)\n",
    "contract2 = CallOption(K=100, T=0.5)\n",
    "contract2.BSprice(dynamics2)"
   ]
  },
  {
   "cell_type": "code",
   "execution_count": 19,
   "metadata": {},
   "outputs": [
    {
     "data": {
      "text/plain": "0.4270054241126889"
     },
     "execution_count": 19,
     "metadata": {},
     "output_type": "execute_result"
    }
   ],
   "source": [
    "#Test the IV function\n",
    "contract2.price = 12\n",
    "contract2.IV(dynamics2)"
   ]
  },
  {
   "cell_type": "markdown",
   "source": [
    "## (a)"
   ],
   "metadata": {
    "collapsed": false
   }
  },
  {
   "cell_type": "code",
   "execution_count": 20,
   "outputs": [],
   "source": [
    "contract_a1 = CallOption(K = 100, T = 0.5, price = 11.25)"
   ],
   "metadata": {
    "collapsed": false
   }
  },
  {
   "cell_type": "code",
   "execution_count": 21,
   "outputs": [
    {
     "name": "stdout",
     "output_type": "stream",
     "text": [
      "The BS IV of the Call option with 0.5 expiry: 0.4001327809210663\n"
     ]
    }
   ],
   "source": [
    "print(\"The BS IV of the Call option with\", contract_a1.T, \"expiry:\", contract_a1.IV(dynamics2))"
   ],
   "metadata": {
    "collapsed": false
   }
  },
  {
   "cell_type": "code",
   "execution_count": 22,
   "outputs": [],
   "source": [
    "contract_a2 = CallOption(K = 100, T = 1.0, price = 12.00)"
   ],
   "metadata": {
    "collapsed": false
   }
  },
  {
   "cell_type": "code",
   "execution_count": 23,
   "outputs": [
    {
     "name": "stdout",
     "output_type": "stream",
     "text": [
      "The BS IV of the Call option with 1.0 expiry: 0.3019384309935543\n"
     ]
    }
   ],
   "source": [
    "print(\"The BS IV of the Call option with\", contract_a2.T, \"expiry:\", contract_a2.IV(dynamics2))"
   ],
   "metadata": {
    "collapsed": false
   }
  },
  {
   "cell_type": "markdown",
   "source": [
    "## (b)"
   ],
   "metadata": {
    "collapsed": false
   }
  },
  {
   "cell_type": "code",
   "execution_count": 24,
   "outputs": [],
   "source": [
    "avg_IV = (contract_a1.IV(dynamics2) + contract_a2.IV(dynamics2))/2"
   ],
   "metadata": {
    "collapsed": false
   }
  },
  {
   "cell_type": "code",
   "execution_count": 25,
   "outputs": [],
   "source": [
    "dynamics_arithavg = GBMdynamics(sigma=avg_IV, rGrow=0, S=100, r=0)"
   ],
   "metadata": {
    "collapsed": false
   }
  },
  {
   "cell_type": "code",
   "execution_count": 26,
   "outputs": [],
   "source": [
    "contract_b = CallOption(K = 100, T = 0.75)"
   ],
   "metadata": {
    "collapsed": false
   }
  },
  {
   "cell_type": "code",
   "execution_count": 27,
   "outputs": [
    {
     "name": "stdout",
     "output_type": "stream",
     "text": [
      "The BS price of the Call option with arithmetic average estimated IV: 12.081533286249247\n"
     ]
    }
   ],
   "source": [
    "print(\"The BS price of the Call option with arithmetic average estimated IV:\", contract_b.BSprice(dynamics_arithavg))"
   ],
   "metadata": {
    "collapsed": false
   }
  },
  {
   "cell_type": "markdown",
   "source": [
    "## (c)"
   ],
   "metadata": {
    "collapsed": false
   }
  },
  {
   "cell_type": "markdown",
   "source": [
    "If we long 1 1.0-expiry call for cash settlement and short 1 0.75-expiry call for physical settlement, with the\n",
    "above prices and dynamics, there is a **type-II** arbitrage.\n",
    "\n",
    "To explain more:\n",
    "- At time-0, the price we need to pay is $\\approx 12.00 - 12.08 = -0.08$ (Negative cost at time-0).\n",
    "- At time-0.75, if the call option is in-the-money, we receive $K$ and short $S_{0.75}$:\n",
    "        - With physical settlement, at time-1, our payoff from the 0.75-expiry call becomes $K - S_{1}$\n",
    "        - If the other call option is out-of-money, we receive nothing from the call but our payoff from the original\n",
    "          settlement is non-negative ($K - S_{1} \\geq 0$)\n",
    "        - If the other call option is in-the-money, we receive $S_{1} - K$ in cash. If we are able to sell the share\n",
    "          of stock from the original settlement in the frictionless market, our payoff becomes $K - S_{1} + S_{1} - K$\n",
    "          which is $0$\n",
    "- At time-0.75, if the call option is out-of-money, we receive $0$:\n",
    "        - At time-1, the payoff from the other call option is, by definition, non-negative ($(S_{1} - K)^+ \\geq 0$)\n",
    "\n",
    "Therefore, since we have a negative cost at time-0, and a payoff of $\\geq 0$ at time-1 with probability 1,\n",
    "we have a type-II arbitrage."
   ],
   "metadata": {
    "collapsed": false
   }
  }
 ],
 "metadata": {
  "anaconda-cloud": {},
  "kernelspec": {
   "display_name": "Python 3",
   "language": "python",
   "name": "python3"
  },
  "language_info": {
   "codemirror_mode": {
    "name": "ipython",
    "version": 3
   },
   "file_extension": ".py",
   "mimetype": "text/x-python",
   "name": "python",
   "nbconvert_exporter": "python",
   "pygments_lexer": "ipython3",
   "version": "3.8.8"
  },
  "toc": {
   "base_numbering": 1,
   "nav_menu": {},
   "number_sections": true,
   "sideBar": true,
   "skip_h1_title": false,
   "title_cell": "Table of Contents",
   "title_sidebar": "Contents",
   "toc_cell": false,
   "toc_position": {},
   "toc_section_display": true,
   "toc_window_display": false
  }
 },
 "nbformat": 4,
 "nbformat_minor": 2
}
