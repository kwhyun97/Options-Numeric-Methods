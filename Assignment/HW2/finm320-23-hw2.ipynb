{
 "cells": [
  {
   "cell_type": "code",
   "execution_count": null,
   "metadata": {},
   "outputs": [],
   "source": [
    "import numpy as np"
   ]
  },
  {
   "cell_type": "code",
   "execution_count": null,
   "metadata": {},
   "outputs": [],
   "source": [
    "class localvolDynamics:\n",
    "    \n",
    "    def __init__(self, S0, r, q, maxvol, localvol): \n",
    "        self.S0 = S0\n",
    "        self.r = r\n",
    "        self.q = q\n",
    "        self.maxvol = maxvol\n",
    "        self.localvol = localvol\n"
   ]
  },
  {
   "cell_type": "code",
   "execution_count": null,
   "metadata": {},
   "outputs": [],
   "source": [
    "hw2dynamics = localvolDynamics(S0 = 100, r = 0.06, q = 0.01, maxvol = 0.6, \n",
    "                     localvol = lambda S,t: np.minimum(0.2+5*np.log(S/100)**2+0.1*np.exp(-t), 0.6))\n",
    "\n",
    "# Note that hw2dynamics.localvol is a function \n",
    "# that may be invoked in the usual way, for example:\n",
    "# hw2dynamics.localvol( exchangerate , time )"
   ]
  },
  {
   "cell_type": "code",
   "execution_count": null,
   "metadata": {},
   "outputs": [],
   "source": [
    "class CallOnAmericanPut:\n",
    "\n",
    "    def __init__(self, putexpiry, putstrike, callexpiry, callstrike):\n",
    "        self.putexpiry = putexpiry\n",
    "        self.putstrike = putstrike\n",
    "        self.callexpiry = callexpiry\n",
    "        self.callstrike = callstrike\n",
    "        "
   ]
  },
  {
   "cell_type": "code",
   "execution_count": null,
   "metadata": {},
   "outputs": [],
   "source": [
    "hw2contract = CallOnAmericanPut(putexpiry=0.75, putstrike=95, callexpiry=0.25, callstrike=10)"
   ]
  },
  {
   "cell_type": "code",
   "execution_count": null,
   "metadata": {},
   "outputs": [],
   "source": [
    "class TrinomTree:\n",
    "    \n",
    "    def __init__(self, N):\n",
    "        self.N = N\n",
    "        \n",
    "    # You complete the coding of this function\n",
    "    def price_compound_localvol(self, contract, dynamics):\n",
    "        \n",
    "        price_of_put = 0 #write code to compute this    \n",
    "\n",
    "        price_of_call_on_put = 0 #write code to compute this\n",
    "    \n",
    "        return (price_of_put, price_of_call_on_put)\n",
    "    "
   ]
  },
  {
   "cell_type": "code",
   "execution_count": null,
   "metadata": {},
   "outputs": [],
   "source": [
    "hw2tree = TrinomTree(N=30)  #change if necessary to get $0.01 accuracy, in your judgment"
   ]
  },
  {
   "cell_type": "code",
   "execution_count": null,
   "metadata": {},
   "outputs": [],
   "source": [
    "(answer_part_a, answer_part_b) = hw2tree.price_compound_localvol(hw2contract,hw2dynamics)"
   ]
  },
  {
   "cell_type": "code",
   "execution_count": null,
   "metadata": {},
   "outputs": [],
   "source": [
    "(answer_part_a, answer_part_b) "
   ]
  }
 ],
 "metadata": {
  "anaconda-cloud": {},
  "kernelspec": {
   "display_name": "Python 3",
   "language": "python",
   "name": "python3"
  },
  "language_info": {
   "codemirror_mode": {
    "name": "ipython",
    "version": 3
   },
   "file_extension": ".py",
   "mimetype": "text/x-python",
   "name": "python",
   "nbconvert_exporter": "python",
   "pygments_lexer": "ipython3",
   "version": "3.8.8"
  },
  "toc": {
   "base_numbering": 1,
   "nav_menu": {},
   "number_sections": true,
   "sideBar": true,
   "skip_h1_title": false,
   "title_cell": "Table of Contents",
   "title_sidebar": "Contents",
   "toc_cell": false,
   "toc_position": {},
   "toc_section_display": true,
   "toc_window_display": false
  }
 },
 "nbformat": 4,
 "nbformat_minor": 1
}
