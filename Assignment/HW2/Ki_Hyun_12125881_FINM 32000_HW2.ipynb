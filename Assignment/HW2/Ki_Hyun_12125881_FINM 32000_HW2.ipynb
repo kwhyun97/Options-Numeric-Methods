{
 "cells": [
  {
   "cell_type": "markdown",
   "source": [
    "<left>FINM 32000 - Numerical Methods</left>\n",
    "<left>Spring 2023</left>\n",
    "<br>\n",
    "<h1><center> Homework 2 </center></h1>\n",
    "<center>Due - 23:59 [CST] April 13th, 2023</center>\n",
    "<br>\n",
    "<h3>Ki Hyun</h3>\n",
    "<h3>Student ID: 12125881</h3>"
   ],
   "metadata": {
    "collapsed": false
   }
  },
  {
   "cell_type": "markdown",
   "source": [
    "#### Imports"
   ],
   "metadata": {
    "collapsed": false
   }
  },
  {
   "cell_type": "code",
   "execution_count": 1,
   "metadata": {},
   "outputs": [],
   "source": [
    "import numpy as np"
   ]
  },
  {
   "cell_type": "markdown",
   "source": [
    "#### Helper Functions"
   ],
   "metadata": {
    "collapsed": false
   }
  },
  {
   "cell_type": "code",
   "execution_count": 2,
   "metadata": {},
   "outputs": [],
   "source": [
    "class localvolDynamics:\n",
    "    \n",
    "    def __init__(self, S0, r, q, maxvol, localvol): \n",
    "        self.S0 = S0\n",
    "        self.r = r\n",
    "        self.q = q\n",
    "        self.maxvol = maxvol\n",
    "        self.localvol = localvol\n"
   ]
  },
  {
   "cell_type": "code",
   "execution_count": 3,
   "metadata": {},
   "outputs": [],
   "source": [
    "class CallOnAmericanPut:\n",
    "\n",
    "    def __init__(self, putexpiry, putstrike, callexpiry, callstrike):\n",
    "        self.putexpiry = putexpiry\n",
    "        self.putstrike = putstrike\n",
    "        self.callexpiry = callexpiry\n",
    "        self.callstrike = callstrike\n"
   ]
  },
  {
   "cell_type": "code",
   "execution_count": 4,
   "metadata": {},
   "outputs": [],
   "source": [
    "class TrinomTree:\n",
    "    \n",
    "    def __init__(self, N):\n",
    "        self.N = N\n",
    "        \n",
    "    # You complete the coding of this function\n",
    "    def price_compound_localvol(self, contract, dynamics):\n",
    "\n",
    "        # initial local vol\n",
    "        sigma_avg = dynamics.localvol(dynamics.S0, 0)\n",
    "\n",
    "        # constants throughout the pricing\n",
    "        deltat = contract.putexpiry / self.N\n",
    "        rGrow = dynamics.r - dynamics.q\n",
    "        disc = np.exp(-dynamics.r * deltat)\n",
    "        deltax = np.maximum(sigma_avg * np.sqrt(3 * deltat), dynamics.maxvol * np.sqrt(deltat))\n",
    "\n",
    "        # up, down, middle probabilities:\n",
    "        def prob(S, t, direction):\n",
    "            if direction == \"u\":\n",
    "                sigma = dynamics.localvol(S, t)\n",
    "                nu = rGrow - sigma**2 / 2\n",
    "                P = ((sigma**2 * deltat + nu**2 * deltat**2) / (deltax**2) + nu * deltat / deltax)/2\n",
    "            elif direction == \"m\":\n",
    "                sigma = dynamics.localvol(S, t)\n",
    "                nu = rGrow - sigma**2 / 2\n",
    "                P = 1 - (sigma**2 * deltat + nu**2 * deltat**2) / (deltax**2)\n",
    "            elif direction == \"d\":\n",
    "                sigma = dynamics.localvol(S, t)\n",
    "                nu = rGrow - sigma**2 / 2\n",
    "                P = ((sigma**2 * deltat + nu**2 * deltat**2) / (deltax**2) - nu * deltat / deltax)/2\n",
    "            else:\n",
    "                raise Exception(\"Direction in a trinomial tree should be 'u', 'm', or 'd'\")\n",
    "            return P\n",
    "\n",
    "        # price grid\n",
    "        Sgrid = dynamics.S0 * np.exp(np.linspace(self.N, -self.N, num=2*self.N+1, endpoint=True)*deltax)\n",
    "\n",
    "        price_of_put = np.maximum(contract.putstrike - Sgrid, 0.0) #write code to compute this\n",
    "\n",
    "        call_flag = False\n",
    "\n",
    "        for step in np.linspace(self.N-1, 0, num=self.N, endpoint=True):\n",
    "            step = int(step)\n",
    "            Sgrid_t = dynamics.S0 * np.exp(np.linspace(step, -step, num=2*step + 1, endpoint=True)*deltax)\n",
    "            t = step * deltat\n",
    "\n",
    "            if t - deltat < contract.callexpiry:\n",
    "                if not call_flag:\n",
    "                    call_flag = True\n",
    "                    Pgrid = price_of_put\n",
    "                    price_of_call_on_put = np.maximum(Pgrid - contract.callstrike, 0.0)\n",
    "\n",
    "            Pu = prob(Sgrid_t, t, 'u')\n",
    "            Pm = prob(Sgrid_t, t, 'm')\n",
    "            Pd = prob(Sgrid_t, t, 'd')\n",
    "\n",
    "            price_of_put = disc * (price_of_put[:-2] * Pu + price_of_put[1:-1] * Pm + price_of_put[2:] * Pd)\n",
    "\n",
    "            american_put = np.maximum(contract.putstrike - Sgrid_t, 0.0) # value of excercising now\n",
    "\n",
    "            price_of_put = np.maximum(price_of_put, american_put)\n",
    "\n",
    "            if call_flag:\n",
    "                price_of_call_on_put = disc * (price_of_call_on_put[:-2] * Pu +\n",
    "                                               price_of_call_on_put[1:-1] * Pm +\n",
    "                                               price_of_call_on_put[2:] * Pd)\n",
    "    \n",
    "        return (price_of_put[0], price_of_call_on_put[0])\n"
   ]
  },
  {
   "cell_type": "markdown",
   "source": [
    "# Problem 1."
   ],
   "metadata": {
    "collapsed": false
   }
  },
  {
   "cell_type": "code",
   "execution_count": 5,
   "outputs": [],
   "source": [
    "hw2dynamics = localvolDynamics(S0=100, r=0.06, q=0.01, maxvol=0.6,\n",
    "                               localvol=lambda S, t: np.minimum(0.2 + 5 * np.log(S / 100) ** 2 + 0.1 * np.exp(-t), 0.6))\n",
    "\n",
    "# Note that hw2dynamics.localvol is a function\n",
    "# that may be invoked in the usual way, for example:\n",
    "# hw2dynamics.localvol( exchangerate , time )"
   ],
   "metadata": {
    "collapsed": false
   }
  },
  {
   "cell_type": "code",
   "execution_count": 6,
   "outputs": [],
   "source": [
    "hw2contract = CallOnAmericanPut(putexpiry=0.75, putstrike=95, callexpiry=0.25, callstrike=10)"
   ],
   "metadata": {
    "collapsed": false
   }
  },
  {
   "cell_type": "code",
   "execution_count": 7,
   "metadata": {},
   "outputs": [],
   "source": [
    "hw2tree = TrinomTree(N = 1500)  #change if necessary to get $0.01 accuracy, in your judgment"
   ]
  },
  {
   "cell_type": "code",
   "execution_count": 8,
   "metadata": {},
   "outputs": [],
   "source": [
    "(answer_part_a, answer_part_b) = hw2tree.price_compound_localvol(hw2contract,hw2dynamics)"
   ]
  },
  {
   "cell_type": "code",
   "execution_count": 9,
   "metadata": {},
   "outputs": [
    {
     "data": {
      "text/plain": "(7.006141204521073, 1.593833781078742)"
     },
     "execution_count": 9,
     "metadata": {},
     "output_type": "execute_result"
    }
   ],
   "source": [
    "(answer_part_a, answer_part_b)"
   ]
  },
  {
   "cell_type": "markdown",
   "source": [
    "# Problem 2."
   ],
   "metadata": {
    "collapsed": false
   }
  },
  {
   "cell_type": "markdown",
   "source": [
    "## (a)"
   ],
   "metadata": {
    "collapsed": false
   }
  },
  {
   "cell_type": "markdown",
   "source": [
    "The Black-Scholes call price at time-0 is:\n",
    "\n",
    "$$\n",
    "C = S_0 N(d_1) - K e^{-rT} N(d_2)\n",
    "$$\n",
    "\n",
    "where\n",
    "\n",
    "$$\n",
    "d_1 = \\frac{\\log\\left( \\frac{S_0}{K} \\right) + rT}{\\sigma \\sqrt{T}} + \\frac{\\sigma \\sqrt{T}}{2}\n",
    "$$\n",
    "\n",
    "and\n",
    "\n",
    "$$\n",
    "d_2 = \\frac{\\log\\left( \\frac{S_0}{K} \\right) + rT}{\\sigma \\sqrt{T}} - \\frac{\\sigma \\sqrt{T}}{2}\n",
    "$$\n",
    "\n",
    "Therefore, when we are considering at-the-money-spot situations ($K = S_0$):\n",
    "\n",
    "$$\n",
    "d_{1, 2} = \\frac{rT}{\\sigma \\sqrt{T}} \\pm \\frac{\\sigma \\sqrt{T}}{2}\n",
    "$$\n",
    "\n",
    "Now, for small $|x|$, the normal cdf function ($N$) can be expanded in first-order Taylor series as:\n",
    "\n",
    "$$\n",
    "N(x) = N(0) + N'(0)x + O(x^2) = \\frac{1}{2} + \\frac{1}{\\sqrt{2 \\pi}} x + O(x^2)\n",
    "$$\n",
    "\n",
    "the delta of the at-the-money-spot call option would be expressed below applying a first-order Taylor expansion:\n",
    "\n",
    "$$\n",
    "\\frac{\\delta C}{\\delta S} = N(d_1) \\approx \\frac{1}{2} + \\frac{1}{\\sqrt{2 \\pi}}\n",
    "\\left(  \\frac{rT}{\\sigma \\sqrt{T}} + \\frac{\\sigma \\sqrt{T}}{2} \\right)\n",
    "$$"
   ],
   "metadata": {
    "collapsed": false
   }
  },
  {
   "cell_type": "code",
   "execution_count": 10,
   "outputs": [
    {
     "name": "stdout",
     "output_type": "stream",
     "text": [
      "Estimated delta of the at-the-money-spot Call: 0.53\n"
     ]
    }
   ],
   "source": [
    "def TS_d1_N(x):\n",
    "    return 0.5 + 1/(np.sqrt(2 * np.pi)) * x\n",
    "\n",
    "sigma = 0.2\n",
    "T = 0.25\n",
    "r = 0.01\n",
    "\n",
    "atms_d1 = r * T / (sigma * np.sqrt(T)) + sigma * np.sqrt(T)/2\n",
    "\n",
    "print(\"Estimated delta of the at-the-money-spot Call:\", round(TS_d1_N(atms_d1), 2))"
   ],
   "metadata": {
    "collapsed": false
   }
  },
  {
   "cell_type": "markdown",
   "source": [
    "As calculated above, assuming $\\sigma = 0.2$, $T = 0.25$, and $r = 0.01$, the delta of the at-the-money-spot Call\n",
    "can be estimated to two decimal places as $0.53$"
   ],
   "metadata": {
    "collapsed": false
   }
  },
  {
   "cell_type": "markdown",
   "source": [
    "## (b)"
   ],
   "metadata": {
    "collapsed": false
   }
  },
  {
   "cell_type": "markdown",
   "source": [
    "If we perform a second order Taylor series expansion on $C(S)$ with respect to S,\n",
    "for small $|S - S_0|$ values:\n",
    "\n",
    "$$\n",
    "C(S) = C(S_0) + \\frac{\\delta C}{\\delta S}(S_0) \\cdot (S - S_0) +\n",
    "\\frac{1}{2} \\frac{\\delta^2 C}{\\delta S^2}(S_0) \\cdot (S - S_0)^2 +\n",
    "O(S^3)\n",
    "$$\n",
    "\n",
    "Here, we know from the option combination price that:\n",
    "\n",
    "$$\n",
    "C(S_0) = 5\n",
    "$$\n",
    "\n",
    "Moreover, we know from the dollar delta value that:\n",
    "\n",
    "$$\n",
    "S_0 \\frac{\\delta C}{\\delta S}(S_0) = 3\n",
    "$$\n",
    "\n",
    "$$\n",
    "\\Leftrightarrow\n",
    "\\frac{\\delta C}{\\delta S}(S_0) = \\frac{3}{4}\n",
    "$$\n",
    "\n",
    "Finally, we know from the dollar gamma value that:\n",
    "\n",
    "$$\n",
    "\\frac{S_0^2}{100} \\times \\frac{\\delta^2 C}{\\delta S^2}(S_0) = 0.02\n",
    "$$\n",
    "\n",
    "$$\n",
    "\\Leftrightarrow\n",
    "\\frac{\\delta^2 C}{\\delta S^2}(S_0) = \\frac{2}{16} = \\frac{1}{8}\n",
    "$$\n",
    "\n",
    "Using the above three values and the Taylor Series expansion, $C(S)$ for $S$ near $S_0 = 4$ can be expressed as:\n",
    "\n",
    "$$\n",
    "C(S) \\approx 5 + \\frac{3}{4} (S - 4) + \\frac{1}{16} (S - 4)^2\n",
    "$$\n",
    "\n",
    "The time-0 value of the contract, given an underlying stock price $3.6$, can be approximated as:\n",
    "\n",
    "$$\n",
    "C(3.6) \\approx 5 + \\frac{3}{4} (3.6 - 4) + \\frac{1}{16} (3.6 - 4)^2 = 4.71\n",
    "$$"
   ],
   "metadata": {
    "collapsed": false
   }
  }
 ],
 "metadata": {
  "anaconda-cloud": {},
  "kernelspec": {
   "display_name": "Python 3",
   "language": "python",
   "name": "python3"
  },
  "language_info": {
   "codemirror_mode": {
    "name": "ipython",
    "version": 3
   },
   "file_extension": ".py",
   "mimetype": "text/x-python",
   "name": "python",
   "nbconvert_exporter": "python",
   "pygments_lexer": "ipython3",
   "version": "3.8.8"
  },
  "toc": {
   "base_numbering": 1,
   "nav_menu": {},
   "number_sections": true,
   "sideBar": true,
   "skip_h1_title": false,
   "title_cell": "Table of Contents",
   "title_sidebar": "Contents",
   "toc_cell": false,
   "toc_position": {},
   "toc_section_display": true,
   "toc_window_display": false
  }
 },
 "nbformat": 4,
 "nbformat_minor": 1
}
