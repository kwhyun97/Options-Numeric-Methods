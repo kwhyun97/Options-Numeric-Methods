{
 "cells": [
  {
   "cell_type": "markdown",
   "metadata": {},
   "source": [
    "<left>FINM 32000 - Numerical Methods</left>\n",
    "<left>Spring 2023</left>\n",
    "<br>\n",
    "<h1><center> Homework 6 </center></h1>\n",
    "<center>Due - 23:59 [CST] May 12th, 2023</center>\n",
    "<br>\n",
    "<h3>Ki Hyun</h3>\n",
    "<h3>Student ID: 12125881</h3>"
   ]
  },
  {
   "cell_type": "markdown",
   "metadata": {},
   "source": [
    "#### Imports"
   ]
  },
  {
   "cell_type": "code",
   "execution_count": 1,
   "metadata": {},
   "outputs": [],
   "source": [
    "import numpy as np\n",
    "from scipy.stats import norm"
   ]
  },
  {
   "cell_type": "markdown",
   "metadata": {},
   "source": [
    "#### Helper Functions"
   ]
  },
  {
   "cell_type": "code",
   "execution_count": 2,
   "metadata": {},
   "outputs": [],
   "source": [
    "class MultiGBM:\n",
    "    \n",
    "    def __init__(self,S0,r,correlations,sigma):\n",
    "        self.S0 = S0\n",
    "        self.r = r\n",
    "        self.correlations = correlations\n",
    "        self.sigma = sigma"
   ]
  },
  {
   "cell_type": "code",
   "execution_count": 3,
   "metadata": {},
   "outputs": [],
   "source": [
    "class CallOnBasket:\n",
    "    \n",
    "    def __init__(self,K,T,weights):\n",
    "        self.K = K\n",
    "        self.T = T\n",
    "        self.weights = weights"
   ]
  },
  {
   "cell_type": "code",
   "execution_count": 4,
   "metadata": {},
   "outputs": [],
   "source": [
    "class MC:\n",
    "    \n",
    "    def __init__(self, M, antithetic, control, seed):\n",
    "        self.M = M                                  # How many simulations \n",
    "        self.antithetic = antithetic\n",
    "        self.control = control\n",
    "        self.rng = np.random.default_rng(seed=seed) # Seeding the random number generator with a specified number helps make the calculations reproducible\n",
    "\n",
    "    def price_callonbasket_multiGBM(self, contract,dynamics):\n",
    "        \n",
    "        # You complete the coding of this function.\n",
    "        # self.rng.multivariate_normal may be useful.\n",
    "        # See documentation for numpy.random.Generator.multivariate_normal\n",
    "        # as self.rng is an instance of numpy.random.Generator\n",
    "        \n",
    "        # You are not required to support the case where MC.control = MC.antithetic = True\n",
    "        # (simultaneous use of control variate and antithetic)\n",
    "        # But you are required to support the other 3 possible settings of MC.antithetic/MC.control \n",
    "        # namely False/False, True/False, False/True.\n",
    "        # (ordinary MC, antithetic without control, control without antithetic)\n",
    "        drift = (dynamics.r - np.matmul(dynamics.sigma**2, contract.weights)) * contract.T\n",
    "        W_T = self.rng.multivariate_normal(mean = np.array([0.0, 0.0]), cov = dynamics.correlations, size = self.M)\n",
    "        stock_price = dynamics.S0 * np.exp(drift + np.sqrt(contract.T) * dynamics.sigma.dot(W_T.T).T)\n",
    "        call_price = np.maximum(stock_price.dot(contract.weights) - contract.K, 0.0)\n",
    "\n",
    "        if self.antithetic:\n",
    "            stock_price_tilda = dynamics.S0 * np.exp(drift + np.sqrt(contract.T) * dynamics.sigma.dot(-W_T.T).T)\n",
    "            call_price_tilda = np.maximum(stock_price_tilda.dot(contract.weights) - contract.K, 0.0)\n",
    "            call_price = (call_price + call_price_tilda)/2\n",
    "        elif self.control:\n",
    "            call_price_star = np.maximum(np.sqrt(stock_price[:, 0] * stock_price[:, 1]) - contract.K, 0.0)\n",
    "            # Black Scholes part\n",
    "            S0_BS = np.sqrt(dynamics.S0[0] * dynamics.S0[1])\n",
    "            sigma_BS = np.sqrt((dynamics.sigma[0, 0]**2 +\n",
    "                                2*dynamics.correlations[0, 1]*dynamics.sigma[0, 0]*dynamics.sigma[1, 1] +\n",
    "                                dynamics.sigma[1, 1]**2))\n",
    "            d_1 = (np.log(S0_BS/contract.K) +\n",
    "                   ((dynamics.r) + sigma_BS ** 2 / 2) * contract.T) / (sigma_BS * np.sqrt(contract.T))\n",
    "\n",
    "            d_2 = d_1 - (sigma_BS * np.sqrt(contract.T))\n",
    "            C_star = norm.cdf(d_1) * S0_BS - norm.cdf(d_2) * contract.K * np.exp(-dynamics.r * contract.T)\n",
    "            # MLE beta\n",
    "            beta_star = np.cov(call_price, call_price_star)[0, 1]/np.var(call_price_star)\n",
    "            call_price = call_price + beta_star * (C_star - call_price_star)\n",
    "\n",
    "        standard_error = np.std(call_price)/np.sqrt(self.M)\n",
    "        call_price = np.mean(call_price)\n",
    "\n",
    "        return(call_price, standard_error)"
   ]
  },
  {
   "cell_type": "code",
   "execution_count": 5,
   "metadata": {},
   "outputs": [],
   "source": [
    "class GBM:\n",
    "\n",
    "    def __init__(self, sigma, r, S0):\n",
    "        self.sigma = sigma\n",
    "        self.r = r\n",
    "        self.S0 = S0"
   ]
  },
  {
   "cell_type": "code",
   "execution_count": 6,
   "metadata": {},
   "outputs": [],
   "source": [
    "class CallOption:\n",
    "\n",
    "    def __init__(self, K, T):\n",
    "        self.K = K\n",
    "        self.T = T"
   ]
  },
  {
   "cell_type": "code",
   "execution_count": 7,
   "metadata": {},
   "outputs": [],
   "source": [
    "class MCimportance:\n",
    "\n",
    "    def __init__(self, M, lamb, seed):\n",
    "        self.M = M  # How many simulations\n",
    "        self.lamb = lamb  # drift adjustment\n",
    "        self.rng = np.random.default_rng(\n",
    "            seed=seed)  # Seeding the random number generator with a specified number helps make the calculations reproducible\n",
    "\n",
    "    def price_call_GBM(self, contract, dynamics):\n",
    "        # You complete the coding of this function.\n",
    "        # self.rng.normal may be useful.\n",
    "        # See documentation for numpy.random.Generator.normal\n",
    "        # as self.rng is an instance of numpy.random.Generator\n",
    "        drift = (dynamics.r - dynamics.sigma**2/2 + self.lamb * dynamics.sigma) * contract.T\n",
    "        BM = self.rng.normal(scale = np.sqrt(contract.T), size = self.M)\n",
    "        W_T = BM - self.lamb * contract.T\n",
    "        stock_price = dynamics.S0 * np.exp(drift + dynamics.sigma * W_T)\n",
    "        call_price = np.maximum(stock_price - contract.K, 0.0)\n",
    "        standard_error = np.std(call_price)/np.sqrt(self.M)\n",
    "        call_price = np.mean(call_price)\n",
    "\n",
    "        return (call_price, standard_error)"
   ]
  },
  {
   "cell_type": "markdown",
   "metadata": {},
   "source": [
    "# Problem 1."
   ]
  },
  {
   "cell_type": "code",
   "execution_count": 8,
   "metadata": {},
   "outputs": [],
   "source": [
    "hw6p1dynamics = MultiGBM(S0=np.array([100, 110]), r=0.05,\n",
    "                         correlations=np.array([[1, 0.8], [0.8, 1]]),  #You fill this in with a 2x2 correlation matrix\n",
    "                         sigma=np.diag([0.3, 0.2]))"
   ]
  },
  {
   "cell_type": "code",
   "execution_count": 9,
   "metadata": {},
   "outputs": [],
   "source": [
    "hw6p1contract = CallOnBasket(K=110, T=1.0, weights=np.array([1 / 2, 1 / 2]))"
   ]
  },
  {
   "cell_type": "markdown",
   "metadata": {},
   "source": [
    "## (a)\n",
    "\n",
    "The definition of $\\mathbf{X}_t$ is:\n",
    "\n",
    "$$\n",
    "\\mathbf{X}_t = \\begin{pmatrix}\n",
    "X^{[1]}_t \\\\ X^{[2]}_t\n",
    "\\end{pmatrix} =\n",
    "\\begin{pmatrix}\n",
    "\\log S^{[1]}_t \\\\ \\log S^{[2]}_t\n",
    "\\end{pmatrix}\n",
    "$$\n",
    "\n",
    "Using Ito's formula III for each $X^{[j]}_t$,\n",
    "\n",
    "$$\n",
    "\\begin{aligned}\n",
    "dX^{[j]}_t &= \\frac{1}{S^{[j]}_t} dS^{[j]}_t -\n",
    "\\frac{1}{2S^{[j]}^2_t} d<S^{[j]}>_t\n",
    "\\end{aligned}\n",
    "$$\n",
    "\n",
    "The given GBM dynamics is:\n",
    "\n",
    "$$\n",
    "dS^{[j]}_t = r S^{[j]}_t dt +\n",
    "\\sigma_{[j]} S^{[j]}_t dW^{[j]}_t\n",
    "$$\n",
    "\n",
    "The dynamics for $X^{[j]}_t$ becomes\n",
    "\n",
    "$$\n",
    "\\begin{aligned}\n",
    "dX^{[j]}_t &= \\frac{1}{S^{[j]}_t}\n",
    "\\left(r S^{[j]}_t dt + \\sigma_{[j]} S^{[j]}_t dW^{[j]}_t \\right) -\n",
    "\\frac{1}{2S^{[j]}^2_t} (\\sigma_{[j]} S^{[j]}_t)^2 dt \\\\\n",
    "&= \\left(r - \\frac{\\sigma_{[j]}^2}{2} \\right) dt +\n",
    "\\sigma_{[j]} dW^{[j]}_t\n",
    "\\end{aligned}\n",
    "$$\n",
    "\n",
    "From this we may infer that:\n",
    "\n",
    "$$\n",
    "\\begin{aligned}\n",
    "\\int_0^T 1 d X^{[j]}_t &= \\int_0^T \\left(r - \\frac{\\sigma_{[j]}^2}{2} \\right) dt +\n",
    "\\int_0^T \\sigma_{[j]} dW^{[j]}_t \\\\\n",
    "\\Leftrightarrow\n",
    "X^{[j]}_T - X^{[j]}_0 &= \\left(r - \\frac{\\sigma_{[j]}^2}{2} \\right)T +\n",
    "\\sigma_{[j]} W^{[j]}_T \\\\\n",
    "\\Leftrightarrow\n",
    "X^{[j]}_T &= X^{[j]}_0 + \\left(r - \\frac{\\sigma_{[j]}^2}{2} \\right)T +\n",
    "\\sigma_{[j]} W^{[j]}_T\n",
    "\\end{aligned}\n",
    "$$\n",
    "\n",
    "Therefore, if we let $\\Sigma = \\begin{bmatrix} \\sigma_{[1]} & 0 \\\\ 0 & \\sigma_{[2]} \\end{bmatrix}$,\n",
    "then $\\mathbf{X}_T$ would become some constant plus $\\Sigma \\mathbf{W}_T$.\n",
    "\n",
    "$$\n",
    "\\begin{aligned}\n",
    "\\mathbf{X}_T &= \\begin{pmatrix}\n",
    "X^{[1]}_0 + \\left(r - \\frac{\\sigma_{[1]}^2}{2} \\right)T +\n",
    "\\sigma_{[1]} W^{[1]}_T \\\\\n",
    "X^{[2]}_0 + \\left(r - \\frac{\\sigma_{[2]}^2}{2} \\right)T +\n",
    "\\sigma_{[2]} W^{[2]}_T\n",
    "\\end{pmatrix} \\\\\n",
    "&= \\begin{pmatrix}\n",
    "X^{[1]}_0 + \\left(r - \\frac{\\sigma_{[1]}^2}{2} \\right)T \\\\\n",
    "X^{[2]}_0 + \\left(r - \\frac{\\sigma_{[2]}^2}{2} \\right)T\n",
    "\\end{pmatrix} +\n",
    "\\begin{pmatrix}\n",
    "\\sigma_{[1]} W^{[1]}_T \\\\\n",
    "\\sigma_{[2]} W^{[2]}_T\n",
    "\\end{pmatrix} \\\\\n",
    "&=  \\begin{pmatrix}\n",
    "X^{[1]}_0 + \\left(r - \\frac{\\sigma_{[1]}^2}{2} \\right)T \\\\\n",
    "X^{[2]}_0 + \\left(r - \\frac{\\sigma_{[2]}^2}{2} \\right)T\n",
    "\\end{pmatrix} +\n",
    "\\begin{bmatrix}\n",
    "\\sigma_{[1]} & 0 \\\\\n",
    "0 & \\sigma_{[2]}\n",
    "\\end{bmatrix}\n",
    "\\begin{pmatrix}\n",
    "W^{[1]}_T \\\\\n",
    "W^{[2]}_T\n",
    "\\end{pmatrix} \\\\\n",
    "&= \\begin{pmatrix}\n",
    "X^{[1]}_0 + \\left(r - \\frac{\\sigma_{[1]}^2}{2} \\right)T \\\\\n",
    "X^{[2]}_0 + \\left(r - \\frac{\\sigma_{[2]}^2}{2} \\right)T\n",
    "\\end{pmatrix} +\n",
    "\\Sigma\n",
    "\\mathbf{W}_T\n",
    "\\end{aligned}\n",
    "$$\n",
    "\n",
    "Moreover,\n",
    "\n",
    "$$\n",
    "\\begin{aligned}\n",
    "Cov(\\mathbf{X}_T) &= \\mathbf{E}(\\mathbf{X}_T \\mathbf{X}_T^T) \\\\\n",
    "&= \\mathbf{E}(\\Sigma \\mathbf{W}_T \\mathbf{W}_T^T \\Sigma^T) \\\\\n",
    "&= \\Sigma Cov(\\mathbf{W}_T) \\Sigma^T\n",
    "\\end{aligned}\n",
    "$$\n",
    "\n",
    "It was given that the correlation between $W^{[1]}$ and $W^{[2]}$ is $0.8$.\n",
    "\n",
    "$$\n",
    "\\therefore\n",
    "Cov(\\mathbf{W}_T) = \\begin{pmatrix}\n",
    "T & 0.8 T \\\\ 0.8 T & T\n",
    "\\end{pmatrix}\n",
    "$$\n",
    "\n",
    "Lastly, substituting the values $\\sigma_{[1]} = 0.3$ and $\\sigma_{[2]} = 0.2$,\n",
    "\n",
    "$$\n",
    "\\begin{aligned}\n",
    "Cov(\\mathbf{X}_T) &= \\begin{pmatrix}\n",
    "0.3 & 0 \\\\ 0 & 0.2\n",
    "\\end{pmatrix}\n",
    "\\begin{pmatrix}\n",
    "T & 0.8 T \\\\ 0.8 T & T\n",
    "\\end{pmatrix}\n",
    "\\begin{pmatrix}\n",
    "0.3 & 0 \\\\ 0 & 0.2\n",
    "\\end{pmatrix} \\\\\n",
    "&= \\begin{pmatrix}\n",
    "0.09 T & 0.048 T \\\\ 0.048 T & 0.04 T\n",
    "\\end{pmatrix} \\\\\n",
    "&= \\begin{pmatrix}\n",
    "0.09 & 0.048 \\\\ 0.048 & 0.04\n",
    "\\end{pmatrix} T\n",
    "\\end{aligned}\n",
    "$$"
   ]
  },
  {
   "cell_type": "markdown",
   "metadata": {},
   "source": [
    "## (b)"
   ]
  },
  {
   "cell_type": "code",
   "execution_count": 10,
   "metadata": {},
   "outputs": [
    {
     "name": "stdout",
     "output_type": "stream",
     "text": [
      "10.363539588654907 0.1766098446757389\n"
     ]
    }
   ],
   "source": [
    "hw6p1bMC=MC(M=10000, antithetic=False, control=False, seed=0)\n",
    "(call_price_ordinary, std_err_ordinary) = hw6p1bMC.price_callonbasket_multiGBM(hw6p1contract,hw6p1dynamics)\n",
    "print(call_price_ordinary, std_err_ordinary)"
   ]
  },
  {
   "cell_type": "markdown",
   "metadata": {},
   "source": [
    "## (c)"
   ]
  },
  {
   "cell_type": "code",
   "execution_count": 11,
   "metadata": {},
   "outputs": [
    {
     "name": "stdout",
     "output_type": "stream",
     "text": [
      "10.439551716001315 0.09962849057094109\n"
     ]
    }
   ],
   "source": [
    "hw6p1cMC=MC(M=10000,antithetic=True,control=False,seed=0)\n",
    "(call_price_AV, std_err_AV) = hw6p1cMC.price_callonbasket_multiGBM(hw6p1contract,hw6p1dynamics)\n",
    "print(call_price_AV, std_err_AV)"
   ]
  },
  {
   "cell_type": "markdown",
   "metadata": {},
   "source": [
    "## (d)\n",
    "\n",
    "Fist of all,\n",
    "\n",
    "$$\n",
    "\\log G_t = \\frac{1}{2} \\log S^{[1]}_t +\n",
    "\\frac{1}{2} \\log S^{[2]}_t\n",
    "$$\n",
    "\n",
    "Therefore,\n",
    "\n",
    "$$\n",
    "\\begin{aligned}\n",
    "\\mathbf{E}[\\log G_t] &=\n",
    "\\mathbf{E}\\left[\\frac{1}{2} \\log S^{[1]_t} + \\frac{1}{2} \\log S^{[2]_t} \\right] \\\\\n",
    "&= \\frac{1}{2} \\mathbf{E}[\\log S^{[1]}_t] +\n",
    "\\frac{1}{2} \\mathbf{E}[\\log S^{[2]}_t] \\\\\n",
    "&= \\frac{1}{2} \\mathbf{E}[X^{[1]}_t] +\n",
    "\\frac{1}{2} \\mathbf{E}[X^{[2]}_t]\n",
    "\\end{aligned}\n",
    "$$\n",
    "\n",
    "We know from (a) that\n",
    "\n",
    "$$\n",
    "\\mathbf{E}[X^{[j]}_t] =\n",
    "X^{[j]}_0 + \\left(r - \\frac{\\sigma_{[j]}^2}{2} \\right)t\n",
    "$$\n",
    "\n",
    "Moreover,\n",
    "\n",
    "$$\n",
    "\\begin{aligned}\n",
    "\\mathbf{E}[\\log G_t] &=\n",
    "\\frac{1}{2} \\mathbf{E}[X^{[1]}_t] +\n",
    "\\frac{1}{2} \\mathbf{E}[X^{[2]}_t] \\\\\n",
    "&= \\frac{1}{2} \\left(X^{[1]}_0 + \\left(r - \\frac{\\sigma_{[1]}^2}{2} \\right)t \\right) +\n",
    "\\frac{1}{2} \\left(X^{[2]}_0 + \\left(r - \\frac{\\sigma_{[2]}^2}{2} \\right)t \\right) \\\\\n",
    "&= \\frac{1}{2} (X^{[1]}_0 + X^{[2]}_0) +\n",
    "\\left(r - \\frac{\\sigma_{[1]}^2 + \\sigma_{[2]}^2}{4} \\right) t \\\\\n",
    "&= \\frac{1}{2} (\\log S^{[1]}_0 + \\log S^{[2]}_0) +\n",
    "\\left(r - \\frac{\\sigma_{[1]}^2 + \\sigma_{[2]}^2}{4} \\right) t \\\\\n",
    "&= \\frac{1}{2} \\log(S^{[1]}_0 S^{[2]}_0) +\n",
    "\\left(r - \\frac{\\sigma_{[1]}^2 + \\sigma_{[2]}^2}{4} \\right) t\n",
    "\\end{aligned}\n",
    "$$\n",
    "\n",
    "$$\n",
    "\\therefore\n",
    "\\mathbf{E}[\\log G_T] =\n",
    "\\frac{1}{2} \\log(S^{[1]}_0 S^{[2]}_0) +\n",
    "\\left(r - \\frac{\\sigma_{[1]}^2 + \\sigma_{[2]}^2}{4} \\right) T\n",
    "$$\n",
    "\n",
    "Now for the variance,\n",
    "\n",
    "$$\n",
    "\\begin{aligned}\n",
    "Var(\\log G_t) &= Var\\left(\\frac{1}{2} \\log S^{[1]}_t + \\frac{1}{2} \\log S^{[2]}_t \\right) \\\\\n",
    "&= \\frac{1}{4} Var(\\log S^{[1]}_t) +\n",
    "\\frac{1}{4} Var(\\log S^{[2]}_t) +\n",
    "\\frac{1}{2} Cov(\\log S^{[1]}_t, \\log S^{[2]}_t) \\\\\n",
    "&= \\frac{1}{4} Var(X^{[1]}_t) +\n",
    "\\frac{1}{4} Var(X^{[2]}_t) +\n",
    "\\frac{1}{2} Cov(X^{[1]}_t, X^{[2]}_t)\n",
    "\\end{aligned}\n",
    "$$\n",
    "\n",
    "We also know from (a) that\n",
    "\n",
    "$$\n",
    "Var(X^{[j]}_t) = \\sigma_{[j]}^2 t \\\\\n",
    "Cov(X^{[1]}_t, X^{[2]}_t) = \\rho \\sigma_{[1]} \\sigma_{[2]} t\n",
    "$$\n",
    "\n",
    "Therefore,\n",
    "\n",
    "$$\n",
    "\\begin{aligned}\n",
    "Var(\\log G_t) &= \\frac{1}{4} Var(X^{[1]}_t) +\n",
    "\\frac{1}{4} Var(X^{[2]}_t) +\n",
    "\\frac{1}{2} Cov(X^{[1]}_t, X^{[2]}_t) \\\\\n",
    "&= \\frac{\\sigma_{[1]}^2 + 2 \\rho \\sigma_{[1]} \\sigma_{[2]} + \\sigma_{[2]}^2}{4} t\n",
    "\\end{aligned}\n",
    "$$\n",
    "\n",
    "Finally,\n",
    "\n",
    "$$\n",
    "Var(\\log G_T) = \\frac{\\sigma_{[1]}^2 + 2 \\rho \\sigma_{[1]} \\sigma_{[2]} + \\sigma_{[2]}^2}{4} T\n",
    "$$"
   ]
  },
  {
   "cell_type": "markdown",
   "metadata": {},
   "source": [
    "## (e)\n",
    "\n",
    "Given our findings in (d),\n",
    "\n",
    "$$\n",
    "C^G = C^{BS}\n",
    "\\left(\\frac{1}{2} \\log(S^{[1]}_0 S^{[2]}_0), 0, K, T, \\left(r - \\frac{\\sigma_{[1]}^2 + \\sigma_{[2]}^2}{4} \\right),\n",
    "r, \\frac{\\sigma_{[1]}^2 + 2 \\rho \\sigma_{[1]} \\sigma_{[2]} + \\sigma_{[2]}^2}{4} \\right)\n",
    "$$"
   ]
  },
  {
   "cell_type": "markdown",
   "metadata": {},
   "source": [
    "## (f)"
   ]
  },
  {
   "cell_type": "code",
   "execution_count": 12,
   "metadata": {},
   "outputs": [
    {
     "name": "stdout",
     "output_type": "stream",
     "text": [
      "20.128089649570253 0.0047029004699359065\n"
     ]
    }
   ],
   "source": [
    "hw6p1fMC=MC(M=10000,antithetic=False,control=True,seed=0)\n",
    "(call_price_CV, std_err_CV) = hw6p1fMC.price_callonbasket_multiGBM(hw6p1contract,hw6p1dynamics)\n",
    "print(call_price_CV, std_err_CV)"
   ]
  },
  {
   "cell_type": "markdown",
   "metadata": {},
   "source": [
    "## Problem 2"
   ]
  },
  {
   "cell_type": "code",
   "execution_count": 13,
   "metadata": {},
   "outputs": [],
   "source": [
    "hw6p2dynamics=GBM(sigma=0.2,r=0.02,S0=100)"
   ]
  },
  {
   "cell_type": "code",
   "execution_count": 14,
   "metadata": {},
   "outputs": [],
   "source": [
    "hw6p2contract=CallOption(K=150,T=1)"
   ]
  },
  {
   "cell_type": "markdown",
   "metadata": {},
   "source": [
    "## (a)"
   ]
  },
  {
   "cell_type": "code",
   "execution_count": 15,
   "metadata": {},
   "outputs": [
    {
     "name": "stdout",
     "output_type": "stream",
     "text": [
      "0.25780827419770297 0.007762972399018178\n"
     ]
    }
   ],
   "source": [
    "hw6p2aMC=MCimportance(M=100000,lamb=0,seed=0) #zero drift adjustment gives ordinary MC\n",
    "\n",
    "(call_price_ordinary, std_err_ordinary) =  hw6p2aMC.price_call_GBM(hw6p2contract,hw6p2dynamics)\n",
    "print(call_price_ordinary, std_err_ordinary)"
   ]
  },
  {
   "cell_type": "markdown",
   "metadata": {},
   "source": [
    "## (b)\n",
    "\n",
    "Under the new probability measure $\\mathbf{P}^*$,\n",
    "\n",
    "$$\n",
    "W_t = W^*_t + \\lambda t\n",
    "$$\n",
    "\n",
    "Now using Ito's II formula,\n",
    "\n",
    "$$\n",
    "\\begin{aligned}\n",
    "dW_t &= \\lambda dt + dW^*_t + \\frac{1}{2} d<W^*>_t \\\\\n",
    "&= \\lambda dt + dW^*_t\n",
    "\\end{aligned}\n",
    "$$\n",
    "\n",
    "Applying this to get the dynamics of $S_t$ in terms of the new probability measures gives:\n",
    "\n",
    "$$\n",
    "dS_t = \\left(r + \\sigma \\lambda \\right) S_t dt + \\sigma S_t dW^*_t\n",
    "$$\n",
    "\n",
    "Now using the properties of GBM and the findings in 1 (a) we know that\n",
    "\n",
    "$$\n",
    "\\log S_T = \\log S_0 + \\left(r + \\sigma \\lambda - \\frac{\\sigma^2}{2} \\right)T + \\sigma W^*_T\n",
    "$$\n",
    "\n",
    "Under the new probability measure $\\mathbf{P}^*$,\n",
    "\n",
    "$$\n",
    "\\mathbf{E}^*[\\log S_T] = \\log S_0 + \\left(r + \\sigma \\lambda - \\frac{\\sigma^2}{2} \\right)T\n",
    "$$\n",
    "\n",
    "since $W^*_T$ has $0$ drift in the new measure.\n",
    "\n",
    "Therefore, the $\\mathbf{P}^*$-expectation of $S_T$ is:\n",
    "\n",
    "$$\n",
    "\\mathbf{E}^*[S_T] = S_0 e^{\\left(r + \\sigma \\lambda - \\frac{\\sigma^2}{2} \\right)T}\n",
    "$$\n",
    "\n",
    "Now, with the given values, the $\\lambda$ that makes $\\mathbf{E}^*[S_T] = 165$ is shown below"
   ]
  },
  {
   "cell_type": "code",
   "execution_count": 16,
   "metadata": {},
   "outputs": [
    {
     "name": "stdout",
     "output_type": "stream",
     "text": [
      "2.5038764395624455\n"
     ]
    }
   ],
   "source": [
    "E_star_ST = 165\n",
    "lambda_star = (np.log(E_star_ST/hw6p2dynamics.S0)/hw6p2contract.T\n",
    "               - hw6p2dynamics.r + hw6p2dynamics.sigma**2/2)/hw6p2dynamics.sigma\n",
    "print(lambda_star)"
   ]
  },
  {
   "cell_type": "markdown",
   "metadata": {},
   "source": [
    "## (c)"
   ]
  },
  {
   "cell_type": "code",
   "execution_count": 17,
   "metadata": {},
   "outputs": [
    {
     "name": "stdout",
     "output_type": "stream",
     "text": [
      "0.2578082741977031 0.0077629723990181795\n"
     ]
    }
   ],
   "source": [
    "hw6p2cMC=MCimportance(M=100000,lamb = lambda_star,seed=0)\n",
    "# Fill in the lamb parameter with the lambda that you compute in (b)\n",
    "(call_price_importsamp, std_err_importsamp) =  hw6p2cMC.price_call_GBM(hw6p2contract,hw6p2dynamics)\n",
    "print(call_price_importsamp, std_err_importsamp)"
   ]
  }
 ],
 "metadata": {
  "anaconda-cloud": {},
  "kernelspec": {
   "display_name": "Python 3 (ipykernel)",
   "language": "python",
   "name": "python3"
  },
  "language_info": {
   "codemirror_mode": {
    "name": "ipython",
    "version": 3
   },
   "file_extension": ".py",
   "mimetype": "text/x-python",
   "name": "python",
   "nbconvert_exporter": "python",
   "pygments_lexer": "ipython3",
   "version": "3.11.0"
  },
  "toc": {
   "base_numbering": 1,
   "nav_menu": {},
   "number_sections": true,
   "sideBar": true,
   "skip_h1_title": false,
   "title_cell": "Table of Contents",
   "title_sidebar": "Contents",
   "toc_cell": false,
   "toc_position": {},
   "toc_section_display": true,
   "toc_window_display": false
  }
 },
 "nbformat": 4,
 "nbformat_minor": 1
}
