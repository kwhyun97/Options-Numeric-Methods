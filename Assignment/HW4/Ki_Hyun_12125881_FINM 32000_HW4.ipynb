{
 "cells": [
  {
   "cell_type": "markdown",
   "source": [
    "<left>FINM 32000 - Numerical Methods</left>\n",
    "<left>Spring 2023</left>\n",
    "<br>\n",
    "<h1><center> Homework 4 </center></h1>\n",
    "<center>Due - 23:59 [CST] April 28th, 2023</center>\n",
    "<br>\n",
    "<h3>Ki Hyun</h3>\n",
    "<h3>Student ID: 12125881</h3>"
   ],
   "metadata": {
    "collapsed": false
   }
  },
  {
   "cell_type": "markdown",
   "source": [
    "### Imports"
   ],
   "metadata": {
    "collapsed": false
   }
  },
  {
   "cell_type": "code",
   "execution_count": 1,
   "metadata": {},
   "outputs": [],
   "source": [
    "import numpy as np\n",
    "from scipy.sparse import diags\n",
    "from scipy.sparse.linalg import spsolve\n",
    "from scipy.stats import norm"
   ]
  },
  {
   "cell_type": "markdown",
   "source": [
    "### Helper Functions"
   ],
   "metadata": {
    "collapsed": false
   }
  },
  {
   "cell_type": "code",
   "execution_count": 2,
   "metadata": {},
   "outputs": [],
   "source": [
    "class CEV:\n",
    "    \n",
    "    def __init__(self,volcoeff,alpha,rGrow,r,S0):\n",
    "        self.volcoeff = volcoeff\n",
    "        self.alpha = alpha\n",
    "        self.rGrow = rGrow  \n",
    "        self.r = r\n",
    "        self.S0 = S0\n"
   ]
  },
  {
   "cell_type": "code",
   "execution_count": 3,
   "metadata": {},
   "outputs": [],
   "source": [
    "class Put:\n",
    "    \n",
    "    def __init__(self,T,K):\n",
    "        self.T = T;\n",
    "        self.K = K;"
   ]
  },
  {
   "cell_type": "code",
   "execution_count": 4,
   "metadata": {},
   "outputs": [],
   "source": [
    "class FD_CrankNicolson:\n",
    "    \n",
    "    def __init__(self,SMax,SMin,deltaS,deltat):\n",
    "        self.SMax=SMax\n",
    "        self.SMin=SMin\n",
    "        self.deltaS=deltaS\n",
    "        self.deltat=deltat        \n",
    "        \n",
    "        \n",
    "    #You complete the coding of this function:\n",
    "        \n",
    "    def price_put_CEV(self,contract,dynamics):\n",
    "    # returns array of all initial spots,\n",
    "    # and the corresponding array of put prices\n",
    "\n",
    "        alpha, r, rGrow, volcoeff = dynamics.alpha, dynamics.r, dynamics.rGrow, dynamics.volcoeff \n",
    "\n",
    "        # SMin and SMax denote the smallest and largest S in the _interior_.\n",
    "        # The boundary conditions are imposed one level _beyond_, \n",
    "        # e.g. at S_lowboundary=SMin-deltaS, not at SMin.\n",
    "        # To relate to lecture notation, S_lowboundary is S_{-J}\n",
    "        # whereas SMin is S_{-J+1}\n",
    "\n",
    "        N=round(contract.T/self.deltat)\n",
    "        if abs(N-contract.T/self.deltat)>1e-12:\n",
    "            raise ValueError('Bad time step')\n",
    "        numS=round((self.SMax-self.SMin)/self.deltaS)+1\n",
    "        if abs(numS-(self.SMax-self.SMin)/self.deltaS-1)>1e-12:\n",
    "            raise ValueError('Bad time step')\n",
    "        S=np.linspace(self.SMax,self.SMin,numS)    #The FIRST indices in this array are for HIGH levels of S\n",
    "        S_lowboundary=self.SMin-self.deltaS\n",
    "\n",
    "        putprice = np.maximum(contract.K-S,0)\n",
    "\n",
    "        ratio1 = self.deltat/self.deltaS\n",
    "        ratio2 = self.deltat/self.deltaS**2\n",
    "        f =  (volcoeff**2 * S**(2 + 2*alpha))/2  # You fill in with an array of the same size as S.\n",
    "        g =  rGrow * S  # You fill in with an array of the same size as S.\n",
    "        h =  np.full(numS, -r) # You fill in with an array of the same size as S (or a scalar is acceptable here)\n",
    "        F = 0.5*ratio2 * f + 0.25*ratio1 * g\n",
    "        G =     ratio2 * f - 0.50*self.deltat * h\n",
    "        H = 0.5*ratio2 * f - 0.25*ratio1 * g\n",
    "\n",
    "        #Right-hand-side matrix\n",
    "        RHSmatrix = diags([H[:-1], 1-G, F[1:]], [1,0,-1], shape=(numS,numS), format=\"csr\")\n",
    "\n",
    "        #Left-hand-side matrix\n",
    "        LHSmatrix = diags([-H[:-1], 1+G, -F[1:]], [1,0,-1], shape=(numS,numS), format=\"csr\")\n",
    "        # diags creates SPARSE matrices\n",
    "\n",
    "        for t in np.arange(N-1,-1,-1)*self.deltat:\n",
    "\n",
    "            rhs = RHSmatrix * putprice\n",
    "\n",
    "            #Now let's add the boundary condition vectors.\n",
    "            #They are nonzero only in the last component:\n",
    "            rhs[-1] = rhs[-1] + 2*H[-1] * (contract.K-S_lowboundary)\n",
    "\n",
    "            putprice = spsolve(LHSmatrix, rhs)   #You code this.  Hint...\n",
    "            # numpy.linalg.solve, which expects arrays as inputs,\n",
    "            # is fine for small matrix equations, and for matrix equations without special structure.\n",
    "            # But for large matrix equations in which the matrix has special structure,\n",
    "            # we may want a more intelligent solver that can run faster \n",
    "            # by taking advantage of the special structure of the matrix.\n",
    "            # Specifically, in this case, let's try to use a solver that recognizes the SPARSE MATRIX structure.\n",
    "            # Try spsolve, imported from scipy.sparse.linalg\n",
    "            \n",
    "            putprice = np.maximum(putprice, contract.K-S)\n",
    "\n",
    "        return(S, putprice)"
   ]
  },
  {
   "cell_type": "code",
   "execution_count": 5,
   "outputs": [],
   "source": [
    "def strike_from_delta(Delta, S_0, r, sigma, T):\n",
    "    return S_0 * np.exp((r + sigma**2/2) * T) / np.exp(sigma * np.sqrt(T) * norm.ppf(Delta))"
   ],
   "metadata": {
    "collapsed": false
   }
  },
  {
   "cell_type": "code",
   "execution_count": 6,
   "outputs": [],
   "source": [
    "def price_from_delta(Delta, S_0, sigma, T):\n",
    "    return S_0 * (Delta - norm.cdf(norm.ppf(Delta) - sigma * np.sqrt(T)) * np.exp(sigma**2/2 * T)/\n",
    "                  np.exp(sigma * np.sqrt(T) * norm.ppf(Delta)))"
   ],
   "metadata": {
    "collapsed": false
   }
  },
  {
   "cell_type": "markdown",
   "source": [
    "# Problem 1."
   ],
   "metadata": {
    "collapsed": false
   }
  },
  {
   "cell_type": "markdown",
   "source": [
    "## (a)\n",
    "\n",
    "Using Ito's formula:\n",
    "\n",
    "$$\n",
    "dC(S_t, t) = \\dot{C}(S_t, t) dt + C'(S_t, t) dS_t + \\frac{1}{2} C''(S_t, t) d<S>_t\n",
    "$$\n",
    "\n",
    "Here, it was given that:\n",
    "\n",
    "$$\n",
    "dS_t = \\sigma S_t^{1 + \\alpha} dW_t\n",
    "$$\n",
    "\n",
    "Therefore, the SDE for $C(S_t, t)$ becomes:\n",
    "\n",
    "$$\n",
    "\\begin{aligned}\n",
    "dC(S_t, t) &= \\dot{C}(S_t, t) dt +\n",
    "C'(S_t, t) (\\sigma S_t^{1 + \\alpha} dW_t) +\n",
    "\\frac{1}{2} C''(S_t, t) (\\sigma S_t^{1 + \\alpha})^2 dt \\\\\n",
    "&= \\left(\n",
    "\\dot{C}(S_t, t) +\n",
    "\\frac{1}{2} C''(S_t, t) (\\sigma S_t^{1 + \\alpha})^2\n",
    "\\right) dt +\n",
    "C'(S_t, t) (\\sigma S_t^{1 + \\alpha}) dW_t \\\\\n",
    "&= \\left(\n",
    "\\dot{C}(S_t, t) +\n",
    "\\frac{1}{2} \\sigma^2 S_t^{2(1 + \\alpha)} C''(S_t, t)\n",
    "\\right) dt +\n",
    "\\sigma S_t^{1 + \\alpha} C'(S_t, t) dW_t\n",
    "\\end{aligned}\n",
    "$$\n",
    "\n",
    "We were given that the drift coefficient of $C(S_t, t)$ is $r$.\n",
    "From the SDE and the information above, we may conclude:\n",
    "\n",
    "$$\n",
    "rC(S_t, t) = \\dot{C}(S_t, t) +\n",
    "\\frac{1}{2} \\sigma^2 S_t^{2(1 + \\alpha)} C''(S_t, t)\n",
    "$$\n",
    "\n",
    "Therefore, the PDE for $C$ becomes:\n",
    "\n",
    "$$\n",
    "rC = \\frac{\\delta C}{\\delta t} +\n",
    "\\frac{1}{2} \\sigma^2 S^{2(1 + \\alpha)}\n",
    "\\frac{\\delta^2 C}{\\delta S^2}\n",
    "$$\n",
    "\n",
    "With the terminal condition:\n",
    "\n",
    "$$\n",
    "C(S_T, T) = (K - S_T)^+\n",
    "$$"
   ],
   "metadata": {
    "collapsed": false
   }
  },
  {
   "cell_type": "markdown",
   "source": [
    "## (b)"
   ],
   "metadata": {
    "collapsed": false
   }
  },
  {
   "cell_type": "code",
   "execution_count": 7,
   "outputs": [],
   "source": [
    "hw4dynamics = CEV(volcoeff=3, alpha=-0.5, rGrow=0, r=0.05, S0=100)"
   ],
   "metadata": {
    "collapsed": false
   }
  },
  {
   "cell_type": "code",
   "execution_count": 8,
   "outputs": [],
   "source": [
    "hw4contract = Put(T=0.25, K=100)"
   ],
   "metadata": {
    "collapsed": false
   }
  },
  {
   "cell_type": "code",
   "execution_count": 9,
   "metadata": {},
   "outputs": [],
   "source": [
    "hw4FD = FD_CrankNicolson(SMax=200,SMin=50,deltaS=0.1,deltat=0.0005)"
   ]
  },
  {
   "cell_type": "code",
   "execution_count": 10,
   "metadata": {},
   "outputs": [],
   "source": [
    "(S0_all, putprice) = hw4FD.price_put_CEV(hw4contract,hw4dynamics)"
   ]
  },
  {
   "cell_type": "code",
   "execution_count": 11,
   "metadata": {},
   "outputs": [
    {
     "name": "stdout",
     "output_type": "stream",
     "text": [
      "[[100.1      5.8704]\n",
      " [100.       5.9183]\n",
      " [ 99.9      5.9665]]\n"
     ]
    }
   ],
   "source": [
    "# pricer_put_CEV_CrankNicolson gives us option prices for ALL S0 from SMin to SMax\n",
    "# But let's display only for a few S0 near 100:\n",
    "\n",
    "displayStart = hw4dynamics.S0 - hw4FD.deltaS*1.5\n",
    "displayEnd   = hw4dynamics.S0 + hw4FD.deltaS*1.5\n",
    "displayrows  = (S0_all > displayStart) & (S0_all < displayEnd)\n",
    "np.set_printoptions(precision=4, suppress=True)\n",
    "print(np.stack((S0_all, putprice),axis=1)[displayrows])"
   ]
  },
  {
   "cell_type": "markdown",
   "source": [
    "The time-0 price of an American put on $S$ with strike $K = 100$ and expiry $T = 0.25$ using Crank-Nicolson\n",
    "is $\\approx 5.9183$"
   ],
   "metadata": {
    "collapsed": false
   }
  },
  {
   "cell_type": "markdown",
   "source": [
    "## (c)\n",
    "\n",
    "We may estimate the time-0 delta of the put as:\n",
    "\n",
    "$$\n",
    "\\Delta \\approx\n",
    "\\frac{C(S_0 + \\Delta S, 0) - C(S_0 - \\Delta S, 0)}{2 \\Delta S}\n",
    "$$\n",
    "\n",
    "Similarly, we may estimate the time-0 gamma of the put as:\n",
    "\n",
    "$$\n",
    "\\begin{aligned}\n",
    "\\Gamma \\approx &\n",
    "\\frac{\\frac{C(S_0 + \\Delta S, 0) - C(S_0, 0)}{\\Delta S} -\n",
    "\\frac{C(S_0, 0) - C(S_0 - \\Delta S, 0)}{\\Delta S}}{\\Delta S} \\\\\n",
    "=& \\frac{C(S_0 + \\Delta S, 0) - 2C(S_0, 0) + C(S_0 - \\Delta S, 0)}\n",
    "{(\\Delta S)^2}\n",
    "\\end{aligned}\n",
    "$$\n",
    "\n",
    "The $C(S_0 + \\Delta S, 0)$, $C(S_0, 0)$, and $C(S_0 - \\Delta S, 0)$ values are provided in the solution from (b).\n",
    "\n",
    "The $\\Delta S$ value was set as $0.1$"
   ],
   "metadata": {
    "collapsed": false
   }
  },
  {
   "cell_type": "code",
   "execution_count": 12,
   "outputs": [
    {
     "name": "stdout",
     "output_type": "stream",
     "text": [
      "The time-0 delta numerically computed from (b) is approximately: -0.481\n"
     ]
    }
   ],
   "source": [
    "time_0_delta = (putprice[S0_all > hw4dynamics.S0][-1] -\n",
    "                putprice[S0_all < hw4dynamics.S0][0])/(2 * hw4FD.deltaS)\n",
    "\n",
    "print(\"The time-0 delta numerically computed from (b) is approximately:\", round(time_0_delta, 3))"
   ],
   "metadata": {
    "collapsed": false
   }
  },
  {
   "cell_type": "code",
   "execution_count": 13,
   "outputs": [
    {
     "name": "stdout",
     "output_type": "stream",
     "text": [
      "The time-0 gamma numerically computed from (b) is approximately: 0.0264\n"
     ]
    }
   ],
   "source": [
    "time_0_gamma = (putprice[S0_all > hw4dynamics.S0][-1] -\n",
    "                2 * putprice[S0_all == hw4dynamics.S0][0] +\n",
    "                putprice[S0_all < hw4dynamics.S0][0])/(hw4FD.deltaS**2)\n",
    "\n",
    "print(\"The time-0 gamma numerically computed from (b) is approximately:\", round(time_0_gamma, 4))"
   ],
   "metadata": {
    "collapsed": false
   }
  },
  {
   "cell_type": "markdown",
   "source": [
    "## (d)\n",
    "\n",
    "From the CEV dynamics:\n",
    "\n",
    "$$\n",
    "dS_t = \\sigma S_t^{1 + \\alpha} dW_t\n",
    "$$\n",
    "\n",
    "If we set $\\alpha = 0$ and $R_{grow} = r$ then it becomes a Black-Scholes GBM dynamics:\n",
    "\n",
    "$$\n",
    "dS_t = r S_t dt + \\sigma S_t dW_t\n",
    "$$\n",
    "\n",
    "Therefore, creating a new dynamics with the adjusted values ($\\sigma = 0.30$, $\\alpha = 0$, $R_{grow} = 0.05)\n",
    "and passing it on as an input for the same **FD_CrankNicolson.price_put_CEV** function would give the time -0\n",
    "American put price of the desired Black-Scholes dynamics."
   ],
   "metadata": {
    "collapsed": false
   }
  },
  {
   "cell_type": "code",
   "execution_count": 14,
   "outputs": [],
   "source": [
    "hw4_p1d_dynamics = CEV(volcoeff=0.3, alpha=0, rGrow=0.05, r=0.05, S0=100)"
   ],
   "metadata": {
    "collapsed": false
   }
  },
  {
   "cell_type": "code",
   "execution_count": 15,
   "outputs": [],
   "source": [
    "(p1d_S0_all, p1d_putprice) = hw4FD.price_put_CEV(hw4contract,hw4_p1d_dynamics)"
   ],
   "metadata": {
    "collapsed": false
   }
  },
  {
   "cell_type": "code",
   "execution_count": 16,
   "outputs": [
    {
     "name": "stdout",
     "output_type": "stream",
     "text": [
      "The time-0 American put price for Black-Scholes dynamics: 5.441979712760295\n"
     ]
    }
   ],
   "source": [
    "print(\"The time-0 American put price for Black-Scholes dynamics:\",\n",
    "      p1d_putprice[p1d_S0_all == hw4_p1d_dynamics.S0][0])"
   ],
   "metadata": {
    "collapsed": false
   }
  },
  {
   "cell_type": "markdown",
   "source": [
    "# Problem 2."
   ],
   "metadata": {
    "collapsed": false
   }
  },
  {
   "cell_type": "markdown",
   "source": [
    "## (a)\n",
    "\n",
    "First, under the Black-Scholes dynamics, with interest rate $r$ and volatility $\\sigma$,\n",
    "the price of a call option can be expressed as:\n",
    "\n",
    "$$\n",
    "C(S_0, 0) = N(d_1) S_0 - N(d_2) K e^{-rT}\n",
    "$$\n",
    "\n",
    "where\n",
    "\n",
    "$$\n",
    "d_1 = \\frac{\\log{\\frac{S_0}{K}} + \\left(r + \\frac{\\sigma^2}{2} \\right) T}{\\sigma \\sqrt{T}}\n",
    "$$\n",
    "\n",
    "and\n",
    "\n",
    "$$\n",
    "d_2 = d_1 - \\sigma \\sqrt{T}\n",
    "$$\n",
    "\n",
    "We also know from the Black-Scholes formula that\n",
    "\n",
    "$$\n",
    "\\Delta_C = N(d_1)\n",
    "$$\n",
    "\n",
    "The given $\\Delta$ is $0 < \\Delta < 1$ and the given $T > 0$.\n",
    "Therefore there is a solution.\n",
    "\n",
    "First, from the definition:\n",
    "\n",
    "$$\n",
    "d_1 = N^{-1}(\\Delta_C)\n",
    "$$\n",
    "\n",
    "Additionally, from the definition of $d_1$:\n",
    "\n",
    "$$\n",
    "\\begin{aligned}\n",
    "\\ & \\frac{\\log{\\frac{S_0}{K}} + \\left(r + \\frac{\\sigma^2}{2} \\right) T}\n",
    "{\\sigma \\sqrt{T}} = N^{-1}(\\Delta_C) \\\\\n",
    "\\Leftrightarrow &\n",
    "\\log{\\frac{S_0}{K}} + \\left(r + \\frac{\\sigma^2}{2} \\right) T =\n",
    "\\sigma \\sqrt{T} N^{-1}(\\Delta_C) \\\\\n",
    "\\Leftrightarrow &\n",
    "\\log{\\frac{S_0}{K}} = \\sigma \\sqrt{T} N^{-1}(\\Delta_C) -\n",
    "\\left(r + \\frac{\\sigma^2}{2} \\right) T \\\\\n",
    "\\Leftrightarrow &\n",
    "\\log{S_0} - \\log{K} = \\sigma \\sqrt{T} N^{-1}(\\Delta_C) -\n",
    "\\left(r + \\frac{\\sigma^2}{2} \\right) T \\\\\n",
    "\\Leftrightarrow &\n",
    "\\log{K} = \\log{S_0} - \\sigma \\sqrt{T} N^{-1}(\\Delta_C) +\n",
    "\\left(r + \\frac{\\sigma^2}{2} \\right) T \\\\\n",
    "\\Leftrightarrow &\n",
    "K = S_0 \\frac{e^{\\left(r + \\frac{\\sigma^2}{2} \\right) T}}\n",
    "{e^{\\sigma \\sqrt{T} N^{-1}(\\Delta_C)}}\n",
    "\\end{aligned}\n",
    "$$\n",
    "\n",
    "Now replacing $\\Delta_C$ with our given $\\Delta$, leads to the ultimate solution:\n",
    "\n",
    "$$\n",
    "K = S_0 \\frac{e^{\\left(r + \\frac{\\sigma^2}{2} \\right) T}}\n",
    "{e^{\\sigma \\sqrt{T} N^{-1}(\\Delta)}}\n",
    "$$"
   ],
   "metadata": {
    "collapsed": false
   }
  },
  {
   "cell_type": "markdown",
   "source": [
    "## (b)\n",
    "\n",
    "First, similar to 2 (a) we can find a relationship between the call price ($C$) and the delta ($\\Delta$).\n",
    "\n",
    "From the Black-Scholes formula\n",
    "$$\n",
    "\\begin{aligned}\n",
    "C(S_0, 0) &=\n",
    "\\Delta S_0 - N(d_2) K e^{-rT} \\\\\n",
    "(\\because \\Delta &= N(d_1)) \\\\\n",
    "\\Leftrightarrow\n",
    "C(S_0, 0) &=\n",
    "\\Delta S_0 - N(d_1 - \\sigma \\sqrt{T}) K e^{-rT} \\\\\n",
    "(\\because d_2 &= d_1 - \\sigma \\sqrt{T}) \\\\\n",
    "\\Leftrightarrow\n",
    "C(S_0, 0) &=\n",
    "\\Delta S_0 - N(N^{-1}(\\Delta) - \\sigma \\sqrt{T}) K e^{-rT} \\\\\n",
    "(\\because d_1 &= N^{-1}(\\Delta))\\\\\n",
    "\\Leftrightarrow\n",
    "C(S_0, 0) &=\n",
    "\\Delta S_0 - N(N^{-1}(\\Delta) - \\sigma \\sqrt{T})\n",
    "S_0 \\frac{e^{\\left(r + \\frac{\\sigma^2}{2} \\right) T}}\n",
    "{e^{\\sigma \\sqrt{T} N^{-1}(\\Delta)}}\n",
    "e^{-rT} \\\\\n",
    "\\Leftrightarrow\n",
    "C(S_0, 0) &=\n",
    "S_0 \\left(\n",
    "\\Delta - N\\left(\n",
    "N^{-1}(\\Delta) - \\sigma \\sqrt{T} \\right) \\cdot\n",
    "\\frac{e^{\\frac{\\sigma^2}{2} T}}\n",
    "{e^{\\sigma \\sqrt{T} N^{-1}(\\Delta)}}\n",
    "\\right)\n",
    "\\end{aligned}\n",
    "$$\n",
    "\n",
    "Using this and the given $S_0 = 300$, $T = \\frac{1}{12}$, $\\sigma = 0.4$, and $r = 0.01$, we can get\n",
    "the strikes and premiums of the 25-delta call and 75-delta call as below:"
   ],
   "metadata": {
    "collapsed": false
   }
  },
  {
   "cell_type": "code",
   "execution_count": 17,
   "outputs": [
    {
     "name": "stdout",
     "output_type": "stream",
     "text": [
      "The strike for 25.0 delta call can be estimated as: 326.7403577236785\n",
      "The strike for 75.0 delta call can be estimated as: 279.6109316029983\n"
     ]
    }
   ],
   "source": [
    "S_0 = 300\n",
    "r = 0.01\n",
    "sigma = 0.4\n",
    "T = 1/12\n",
    "Deltas = [0.25, 0.75]\n",
    "strikes = [strike_from_delta(_, S_0, r, sigma , T) for _ in Deltas]\n",
    "\n",
    "for i in range(len(Deltas)):\n",
    "    print(\"The strike for\", Deltas[i]*100, \"delta call can be estimated as:\", strikes[i])"
   ],
   "metadata": {
    "collapsed": false
   }
  },
  {
   "cell_type": "code",
   "execution_count": 18,
   "outputs": [
    {
     "name": "stdout",
     "output_type": "stream",
     "text": [
      "The premium for 25.0 delta call can be estimated as: 4.882592053953938\n",
      "The premium for 75.0 delta call can be estimated as: 26.103562887425046\n"
     ]
    }
   ],
   "source": [
    "premiums = [price_from_delta(_, S_0, sigma , T) for _ in Deltas]\n",
    "\n",
    "for i in range(len(Deltas)):\n",
    "    print(\"The premium for\", Deltas[i]*100, \"delta call can be estimated as:\", premiums[i])"
   ],
   "metadata": {
    "collapsed": false
   }
  },
  {
   "cell_type": "markdown",
   "source": [
    "## (c)\n",
    "\n",
    "The lambdas of the two options in part (b) can be calculated as:"
   ],
   "metadata": {
    "collapsed": false
   }
  },
  {
   "cell_type": "code",
   "execution_count": 19,
   "outputs": [
    {
     "name": "stdout",
     "output_type": "stream",
     "text": [
      "The lambda for 25.0 delta call can be estimated as: 15.36069349460903\n",
      "The lambda for 75.0 delta call can be estimated as: 8.619513013236595\n"
     ]
    }
   ],
   "source": [
    "for i in range(len(Deltas)):\n",
    "    print(\"The lambda for\", Deltas[i]*100, \"delta call can be estimated as:\", Deltas[i] * S_0 / premiums[i])"
   ],
   "metadata": {
    "collapsed": false
   }
  },
  {
   "cell_type": "markdown",
   "source": [
    "Therefore, the 25-delta call yields more leverage according to the lambda values."
   ],
   "metadata": {
    "collapsed": false
   }
  }
 ],
 "metadata": {
  "anaconda-cloud": {},
  "kernelspec": {
   "display_name": "Python 3",
   "language": "python",
   "name": "python3"
  },
  "language_info": {
   "codemirror_mode": {
    "name": "ipython",
    "version": 3
   },
   "file_extension": ".py",
   "mimetype": "text/x-python",
   "name": "python",
   "nbconvert_exporter": "python",
   "pygments_lexer": "ipython3",
   "version": "3.8.8"
  },
  "toc": {
   "base_numbering": 1,
   "nav_menu": {},
   "number_sections": true,
   "sideBar": true,
   "skip_h1_title": false,
   "title_cell": "Table of Contents",
   "title_sidebar": "Contents",
   "toc_cell": false,
   "toc_position": {},
   "toc_section_display": true,
   "toc_window_display": false
  }
 },
 "nbformat": 4,
 "nbformat_minor": 1
}
