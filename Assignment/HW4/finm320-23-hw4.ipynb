{
 "cells": [
  {
   "cell_type": "code",
   "execution_count": null,
   "metadata": {},
   "outputs": [],
   "source": [
    "import numpy as np\n",
    "from scipy.sparse import diags\n",
    "from scipy.sparse.linalg import spsolve"
   ]
  },
  {
   "cell_type": "code",
   "execution_count": null,
   "metadata": {},
   "outputs": [],
   "source": [
    "class CEV:\n",
    "    \n",
    "    def __init__(self,volcoeff,alpha,rGrow,r,S0):\n",
    "        self.volcoeff = volcoeff\n",
    "        self.alpha = alpha\n",
    "        self.rGrow = rGrow  \n",
    "        self.r = r\n",
    "        self.S0 = S0\n"
   ]
  },
  {
   "cell_type": "code",
   "execution_count": null,
   "metadata": {},
   "outputs": [],
   "source": [
    "hw4dynamics = CEV(volcoeff=3, alpha=-0.5, rGrow=0, r=0.05, S0=100)"
   ]
  },
  {
   "cell_type": "code",
   "execution_count": null,
   "metadata": {},
   "outputs": [],
   "source": [
    "class Put:\n",
    "    \n",
    "    def __init__(self,T,K):\n",
    "        self.T = T;\n",
    "        self.K = K;"
   ]
  },
  {
   "cell_type": "code",
   "execution_count": null,
   "metadata": {},
   "outputs": [],
   "source": [
    "hw4contract=Put(T=0.25,K=100)"
   ]
  },
  {
   "cell_type": "code",
   "execution_count": null,
   "metadata": {},
   "outputs": [],
   "source": [
    "class FD_CrankNicolson:\n",
    "    \n",
    "    def __init__(self,SMax,SMin,deltaS,deltat):\n",
    "        self.SMax=SMax\n",
    "        self.SMin=SMin\n",
    "        self.deltaS=deltaS\n",
    "        self.deltat=deltat        \n",
    "        \n",
    "        \n",
    "    #You complete the coding of this function:\n",
    "        \n",
    "    def price_put_CEV(self,contract,dynamics):\n",
    "    # returns array of all initial spots,\n",
    "    # and the corresponding array of put prices\n",
    "\n",
    "        alpha, r, rGrow, volcoeff = dynamics.alpha, dynamics.r, dynamics.rGrow, dynamics.volcoeff \n",
    "\n",
    "        # SMin and SMax denote the smallest and largest S in the _interior_.\n",
    "        # The boundary conditions are imposed one level _beyond_, \n",
    "        # e.g. at S_lowboundary=SMin-deltaS, not at SMin.\n",
    "        # To relate to lecture notation, S_lowboundary is S_{-J}\n",
    "        # whereas SMin is S_{-J+1}\n",
    "\n",
    "        N=round(contract.T/self.deltat)\n",
    "        if abs(N-contract.T/self.deltat)>1e-12:\n",
    "            raise ValueError('Bad time step')\n",
    "        numS=round((self.SMax-self.SMin)/self.deltaS)+1\n",
    "        if abs(numS-(self.SMax-self.SMin)/self.deltaS-1)>1e-12:\n",
    "            raise ValueError('Bad time step')\n",
    "        S=np.linspace(self.SMax,self.SMin,numS)    #The FIRST indices in this array are for HIGH levels of S\n",
    "        S_lowboundary=self.SMin-self.deltaS\n",
    "\n",
    "        putprice=np.maximum(contract.K-S,0)\n",
    "\n",
    "        ratio1 = self.deltat/self.deltaS\n",
    "        ratio2 = self.deltat/self.deltaS**2\n",
    "        f =    # You fill in with an array of the same size as S.\n",
    "        g =    # You fill in with an array of the same size as S.\n",
    "        h =    # You fill in with an array of the same size as S (or a scalar is acceptable here)\n",
    "        F = 0.5*ratio2*f + 0.25*ratio1*g\n",
    "        G =     ratio2*f - 0.50*self.deltat*h\n",
    "        H = 0.5*ratio2*f - 0.25*ratio1*g\n",
    "\n",
    "        #Right-hand-side matrix\n",
    "        RHSmatrix = diags([H[:-1], 1-G, F[1:]], [1,0,-1], shape=(numS,numS), format=\"csr\")\n",
    "\n",
    "        #Left-hand-side matrix\n",
    "        LHSmatrix = diags([-H[:-1], 1+G, -F[1:]], [1,0,-1], shape=(numS,numS), format=\"csr\")\n",
    "        # diags creates SPARSE matrices\n",
    "\n",
    "        for t in np.arange(N-1,-1,-1)*self.deltat:\n",
    "\n",
    "            rhs = RHSmatrix * putprice\n",
    "\n",
    "            #Now let's add the boundary condition vectors.\n",
    "            #They are nonzero only in the last component:\n",
    "            rhs[-1]=rhs[-1]+2*H[-1]*(contract.K-S_lowboundary)\n",
    "\n",
    "            putprice =    #You code this.  Hint...\n",
    "            # numpy.linalg.solve, which expects arrays as inputs,\n",
    "            # is fine for small matrix equations, and for matrix equations without special structure.\n",
    "            # But for large matrix equations in which the matrix has special structure,\n",
    "            # we may want a more intelligent solver that can run faster \n",
    "            # by taking advantage of the special structure of the matrix.\n",
    "            # Specifically, in this case, let's try to use a solver that recognizes the SPARSE MATRIX structure.\n",
    "            # Try spsolve, imported from scipy.sparse.linalg\n",
    "            \n",
    "            putprice = np.maximum(putprice, contract.K-S)\n",
    "\n",
    "        return(S, putprice)"
   ]
  },
  {
   "cell_type": "code",
   "execution_count": null,
   "metadata": {},
   "outputs": [],
   "source": [
    "hw4FD = FD_CrankNicolson(SMax=200,SMin=50,deltaS=0.1,deltat=0.0005)"
   ]
  },
  {
   "cell_type": "code",
   "execution_count": null,
   "metadata": {},
   "outputs": [],
   "source": [
    "(S0_all, putprice) = hw4FD.price_put_CEV(hw4contract,hw4dynamics)"
   ]
  },
  {
   "cell_type": "code",
   "execution_count": null,
   "metadata": {},
   "outputs": [],
   "source": [
    "# pricer_put_CEV_CrankNicolson gives us option prices for ALL S0 from SMin to SMax\n",
    "# But let's display only for a few S0 near 100:\n",
    "\n",
    "displayStart = hw4dynamics.S0-hw4FD.deltaS*1.5 \n",
    "displayEnd   = hw4dynamics.S0+hw4FD.deltaS*1.5\n",
    "displayrows  = (S0_all>displayStart) & (S0_all<displayEnd)\n",
    "np.set_printoptions(precision=4, suppress=True)\n",
    "print(np.stack((S0_all, putprice),axis=1)[displayrows])"
   ]
  }
 ],
 "metadata": {
  "anaconda-cloud": {},
  "kernelspec": {
   "display_name": "Python 3",
   "language": "python",
   "name": "python3"
  },
  "language_info": {
   "codemirror_mode": {
    "name": "ipython",
    "version": 3
   },
   "file_extension": ".py",
   "mimetype": "text/x-python",
   "name": "python",
   "nbconvert_exporter": "python",
   "pygments_lexer": "ipython3",
   "version": "3.8.8"
  },
  "toc": {
   "base_numbering": 1,
   "nav_menu": {},
   "number_sections": true,
   "sideBar": true,
   "skip_h1_title": false,
   "title_cell": "Table of Contents",
   "title_sidebar": "Contents",
   "toc_cell": false,
   "toc_position": {},
   "toc_section_display": true,
   "toc_window_display": false
  }
 },
 "nbformat": 4,
 "nbformat_minor": 1
}
