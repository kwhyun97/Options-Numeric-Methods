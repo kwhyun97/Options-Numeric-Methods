{
 "cells": [
  {
   "cell_type": "markdown",
   "source": [
    "<left>FINM 32000 - Numerical Methods</left>\n",
    "<left>Spring 2023</left>\n",
    "<br>\n",
    "<h1><center> Homework 5 </center></h1>\n",
    "<center>Due - 23:59 [CST] May 5th, 2023</center>\n",
    "<br>\n",
    "<h3>Ki Hyun</h3>\n",
    "<h3>Student ID: 12125881</h3>"
   ],
   "metadata": {
    "collapsed": false
   }
  },
  {
   "cell_type": "markdown",
   "source": [
    "### Imports"
   ],
   "metadata": {
    "collapsed": false
   }
  },
  {
   "cell_type": "code",
   "execution_count": null,
   "metadata": {},
   "outputs": [],
   "source": [
    "import numpy as np"
   ]
  },
  {
   "cell_type": "markdown",
   "source": [
    "### Helper-Functions"
   ],
   "metadata": {
    "collapsed": false
   }
  },
  {
   "cell_type": "code",
   "execution_count": null,
   "metadata": {},
   "outputs": [],
   "source": [
    "# Exponential Ornstein-Uhlenbeck process\n",
    "\n",
    "class XOU:\n",
    "    \n",
    "    def __init__(self, kappa, alpha, sigma, S0, r):\n",
    "        \n",
    "        self.kappa = kappa\n",
    "        self.alpha = alpha\n",
    "        self.sigma = sigma\n",
    "        self.S0 = S0\n",
    "        self.r = r"
   ]
  },
  {
   "cell_type": "code",
   "execution_count": null,
   "metadata": {},
   "outputs": [],
   "source": [
    "class CallOnForwardPrice:\n",
    "    \n",
    "    def __init__(self, K1, T1, T2):\n",
    "        \n",
    "        self.K1 = K1\n",
    "        self.T1 = T1\n",
    "        self.T2 = T2\n"
   ]
  },
  {
   "cell_type": "code",
   "execution_count": null,
   "metadata": {},
   "outputs": [],
   "source": [
    "class MC:\n",
    "    \n",
    "    def __init__(self, N, M, epsilon, seed):\n",
    "        \n",
    "        self.N = N   # Number of timesteps on each path\n",
    "        self.M = M   # Number of paths\n",
    "        self.epsilon = epsilon  # For the dC/dS calculation\n",
    "        self.rng = np.random.default_rng(seed=seed) # Seeding the random number generator with a specified number helps make the calculations reproducible\n",
    "    \n",
    "    def price_call_XOU(self, contract, dynamics):\n",
    "            \n",
    "        # You complete the coding of this function\n",
    "        # self.rng.normal() generates pseudo-random normals\n",
    "        \n",
    "        return(call_price, standard_error, call_delta)\n"
   ]
  },
  {
   "cell_type": "markdown",
   "source": [
    "# Problem 1."
   ],
   "metadata": {
    "collapsed": false
   }
  },
  {
   "cell_type": "markdown",
   "source": [
    "## (a)\n",
    "\n",
    "Let's consider a portfolio that long one $(K, T_2)$-forward contract,\n",
    "and short one $(F_t, T_2)$-forward contract.\n",
    "\n",
    "First, we know that the $(F_t, T_2)$-forward contract has time-$t$ value of $0$.\n",
    "Moreover, the $(K, T_2)$-forward contract's time-$t$ value was assumed as $f_t$.\n",
    "Therefore, the time-$t$ portfolio has the value of $f_t$.\n",
    "\n",
    "Second, we may consider the payoff at time $T_2$. The payoff at time $T_2$ for\n",
    "the portfolio can be written as $(S_{T_2} - K) - (S_{T_2} - F_t) = F_t - K$.\n",
    "Therefore, the time-$t$ portfolio value can also be considered as the discounted\n",
    "payoff of $e^{-rT_2} (F_t - K)$ (given the constant interest rate of $r$).\n",
    "\n",
    "Assuming no arbitrage, we may conclude:\n",
    "\n",
    "$$\n",
    "f_t = e^{-rT_2} (F_t - K)\n",
    "$$"
   ],
   "metadata": {
    "collapsed": false
   }
  },
  {
   "cell_type": "code",
   "execution_count": null,
   "outputs": [],
   "source": [
    "hw5dynamics = XOU(kappa=0.472, alpha=4.4, sigma=0.368, S0=106.9, r=0.05)"
   ],
   "metadata": {
    "collapsed": false
   }
  },
  {
   "cell_type": "code",
   "execution_count": null,
   "outputs": [],
   "source": [
    "hw5contract = CallOnForwardPrice(K1=103.2, T1=0.5, T2=0.75)"
   ],
   "metadata": {
    "collapsed": false
   }
  },
  {
   "cell_type": "code",
   "execution_count": null,
   "metadata": {},
   "outputs": [],
   "source": [
    "hw5MC = MC(N=100, M=1000, epsilon=0.01, seed=0)\n",
    "# Change M if necessary"
   ]
  },
  {
   "cell_type": "code",
   "execution_count": null,
   "metadata": {},
   "outputs": [],
   "source": [
    "(call_price, standard_error, call_delta) = hw5MC.price_call_XOU(hw5contract,hw5dynamics)"
   ]
  },
  {
   "cell_type": "code",
   "execution_count": null,
   "metadata": {},
   "outputs": [],
   "source": [
    "print(call_price, standard_error, call_delta)"
   ]
  }
 ],
 "metadata": {
  "anaconda-cloud": {},
  "kernelspec": {
   "display_name": "Python 3",
   "language": "python",
   "name": "python3"
  },
  "language_info": {
   "codemirror_mode": {
    "name": "ipython",
    "version": 3
   },
   "file_extension": ".py",
   "mimetype": "text/x-python",
   "name": "python",
   "nbconvert_exporter": "python",
   "pygments_lexer": "ipython3",
   "version": "3.8.8"
  },
  "toc": {
   "base_numbering": 1,
   "nav_menu": {},
   "number_sections": true,
   "sideBar": true,
   "skip_h1_title": false,
   "title_cell": "Table of Contents",
   "title_sidebar": "Contents",
   "toc_cell": false,
   "toc_position": {},
   "toc_section_display": true,
   "toc_window_display": false
  }
 },
 "nbformat": 4,
 "nbformat_minor": 2
}
