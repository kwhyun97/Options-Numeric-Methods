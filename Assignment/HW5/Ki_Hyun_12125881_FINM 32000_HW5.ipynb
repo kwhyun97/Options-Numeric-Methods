{
 "cells": [
  {
   "cell_type": "markdown",
   "metadata": {},
   "source": [
    "<left>FINM 32000 - Numerical Methods</left>\n",
    "<left>Spring 2023</left>\n",
    "<br>\n",
    "<h1><center> Homework 5 </center></h1>\n",
    "<center>Due - 23:59 [CST] May 5th, 2023</center>\n",
    "<br>\n",
    "<h3>Ki Hyun</h3>\n",
    "<h3>Student ID: 12125881</h3>"
   ]
  },
  {
   "cell_type": "markdown",
   "metadata": {},
   "source": [
    "### Imports"
   ]
  },
  {
   "cell_type": "code",
   "execution_count": 1,
   "metadata": {},
   "outputs": [],
   "source": [
    "import numpy as np"
   ]
  },
  {
   "cell_type": "markdown",
   "metadata": {},
   "source": [
    "### Helper-Functions"
   ]
  },
  {
   "cell_type": "code",
   "execution_count": 2,
   "metadata": {},
   "outputs": [],
   "source": [
    "# Exponential Ornstein-Uhlenbeck process\n",
    "\n",
    "class XOU:\n",
    "    \n",
    "    def __init__(self, kappa, alpha, sigma, S0, r):\n",
    "        \n",
    "        self.kappa = kappa\n",
    "        self.alpha = alpha\n",
    "        self.sigma = sigma\n",
    "        self.S0 = S0\n",
    "        self.r = r"
   ]
  },
  {
   "cell_type": "code",
   "execution_count": 3,
   "metadata": {},
   "outputs": [],
   "source": [
    "class CallOnForwardPrice:\n",
    "    \n",
    "    def __init__(self, K1, T1, T2):\n",
    "        \n",
    "        self.K1 = K1\n",
    "        self.T1 = T1\n",
    "        self.T2 = T2\n"
   ]
  },
  {
   "cell_type": "code",
   "execution_count": 4,
   "metadata": {},
   "outputs": [],
   "source": [
    "class MC:\n",
    "    \n",
    "    def __init__(self, N, M, epsilon, seed):\n",
    "        \n",
    "        self.N = N   # Number of timesteps on each path\n",
    "        self.M = M   # Number of paths\n",
    "        self.epsilon = epsilon  # For the dC/dS calculation\n",
    "        self.rng = np.random.default_rng(seed=seed) # Seeding the random number generator with a specified number helps make the calculations reproducible\n",
    "    \n",
    "    def price_call_XOU(self, contract, dynamics):\n",
    "            \n",
    "        # You complete the coding of this function\n",
    "        # self.rng.normal() generates pseudo-random normals\n",
    "        X_0 = np.log(dynamics.S0) # getting X_0 from the dynamics\n",
    "        X_t = np.repeat(X_0, self.M) # the X_t grid\n",
    "        deltat = contract.T1 / self.N # time-step\n",
    "        rands = self.rng.normal(size = (self.N, self.M)) # random numbers generated\n",
    "        for t in range(1, self.N):\n",
    "            X_t = X_t + (dynamics.kappa * (dynamics.alpha - X_t) * deltat +\n",
    "                         rands[t, :] * dynamics.sigma * np.sqrt(deltat)) # X_t based on dynamics\n",
    "\n",
    "        S_T1 = np.exp(X_t) # the Monte Carlos simulated underlying price at T1\n",
    "        # calculating forward price at T_1 based on formula\n",
    "        F_T1 = np.exp(np.exp(-dynamics.kappa * (contract.T2 - contract.T1)) * np.log(S_T1) +\n",
    "                      (1 - np.exp(-dynamics.kappa * (contract.T2 - contract.T1))) * dynamics.alpha +\n",
    "                      dynamics.sigma**2 / (4 * dynamics.kappa) * (1 - np.exp(-2 * dynamics.kappa *\n",
    "                                                                             (contract.T2 - contract.T1))))\n",
    "        # getting the different call prices\n",
    "        call_price = np.maximum(F_T1 - contract.K1, 0.0) * np.exp(-dynamics.r * contract.T1)\n",
    "        # standard error of call prices\n",
    "        standard_error = np.std(call_price) / np.sqrt(self.M)\n",
    "        # averaging the simulations to get one call price\n",
    "        call_price = np.mean(call_price)\n",
    "\n",
    "        # calculation for call delta\n",
    "        X_0 = np.log(dynamics.S0 + self.epsilon) # little change in S_0 price\n",
    "        X_t = np.repeat(X_0, self.M)\n",
    "        for t in range(1, self.N):\n",
    "            X_t = X_t + (dynamics.kappa * (dynamics.alpha - X_t) * deltat +\n",
    "                         rands[t, :] * dynamics.sigma * np.sqrt(deltat)) # X_t based on dynamics\n",
    "        S_T1_prime = np.exp(X_t)\n",
    "        F_T1_prime = np.exp(np.exp(-dynamics.kappa * (contract.T2 - contract.T1)) * np.log(S_T1_prime) +\n",
    "                            (1 - np.exp(-dynamics.kappa * (contract.T2 - contract.T1))) * dynamics.alpha +\n",
    "                            dynamics.sigma**2 / (4 * dynamics.kappa) * (1 - np.exp(-2 * dynamics.kappa *\n",
    "                                                                                   (contract.T2 - contract.T1))))\n",
    "        call_delta = np.maximum(F_T1_prime - contract.K1, 0.0) * np.exp(-dynamics.r * contract.T1)\n",
    "        call_delta = (call_delta - call_price)/self.epsilon\n",
    "        call_delta = np.mean(call_delta)\n",
    "\n",
    "        return(call_price, standard_error, call_delta)"
   ]
  },
  {
   "cell_type": "code",
   "execution_count": 5,
   "metadata": {},
   "outputs": [],
   "source": [
    "def delta_forward(dynamics, contract):\n",
    "    return np.exp(-(dynamics.r - dynamics.kappa) * contract.T2\n",
    "                  - (1 - np.exp(-dynamics.kappa * contract.T2)) * np.log(dynamics.S0)\n",
    "                  + (1 - np.exp(-dynamics.kappa * contract.T2)) * dynamics.alpha\n",
    "                  + dynamics.sigma**2 / (4*dynamics.kappa) * (1 - np.exp(-2 * dynamics.kappa * contract.T2)))"
   ]
  },
  {
   "cell_type": "code",
   "execution_count": 6,
   "metadata": {},
   "outputs": [],
   "source": [
    "def choice(n, k):\n",
    "    k = np.minimum(n - k, k)\n",
    "    temp = 1.0\n",
    "    for i in range(k):\n",
    "        temp *= (n - i)/(k - i)\n",
    "    return temp"
   ]
  },
  {
   "cell_type": "markdown",
   "metadata": {},
   "source": [
    "# Problem 1."
   ]
  },
  {
   "cell_type": "markdown",
   "metadata": {},
   "source": [
    "## (a)\n",
    "\n",
    "Let's consider a portfolio that long one $(K, T_2)$-forward contract,\n",
    "and short one $(F_t, T_2)$-forward contract.\n",
    "\n",
    "First, we know that the $(F_t, T_2)$-forward contract has time-$t$ value of $0$.\n",
    "Moreover, the $(K, T_2)$-forward contract's time-$t$ value was assumed as $f_t$.\n",
    "Therefore, the time-$t$ portfolio has the value of $f_t$.\n",
    "\n",
    "Second, we may consider the payoff at time $T_2$. The payoff at time $T_2$ for\n",
    "the portfolio can be written as $(S_{T_2} - K) - (S_{T_2} - F_t) = F_t - K$.\n",
    "Therefore, the time-$t$ portfolio value can also be considered as the discounted\n",
    "payoff of $e^{-r(T_2 - t)} (F_t - K)$ (given the constant interest rate of $r$).\n",
    "\n",
    "Assuming no arbitrage, we may conclude:\n",
    "\n",
    "$$\n",
    "f_t = e^{-r(T_2 - t)} (F_t - K)\n",
    "$$"
   ]
  },
  {
   "cell_type": "markdown",
   "metadata": {},
   "source": [
    "## (b)\n",
    "\n",
    "We cannot simply replace \"stock\" with \"crude oil\" due to the part \"At time $T_2$, deliver the stock,\n",
    "and receive $F_t$\". For stocks, it may be easier to assume frictionless market where delivering the\n",
    "stock does not inflict any cost. Nevertheless, for crude oil, delivering the asset would result\n",
    "in cost that may fail the argument of $F_t = S_t e^{r(T_2 - t)}$."
   ]
  },
  {
   "cell_type": "markdown",
   "metadata": {},
   "source": [
    "## (c)"
   ]
  },
  {
   "cell_type": "code",
   "execution_count": 7,
   "metadata": {},
   "outputs": [],
   "source": [
    "hw5dynamics = XOU(kappa=0.472, alpha=4.4, sigma=0.368, S0=106.9, r=0.05)"
   ]
  },
  {
   "cell_type": "code",
   "execution_count": 8,
   "metadata": {},
   "outputs": [],
   "source": [
    "hw5contract = CallOnForwardPrice(K1=103.2, T1=0.5, T2=0.75)"
   ]
  },
  {
   "cell_type": "code",
   "execution_count": 9,
   "metadata": {},
   "outputs": [],
   "source": [
    "hw5MC = MC(N=100, M=10**5, epsilon=0.01, seed=0)\n",
    "# Change M if necessary"
   ]
  },
  {
   "cell_type": "code",
   "execution_count": 10,
   "metadata": {},
   "outputs": [],
   "source": [
    "(call_price, standard_error, call_delta) = hw5MC.price_call_XOU(hw5contract,hw5dynamics)"
   ]
  },
  {
   "cell_type": "code",
   "execution_count": 11,
   "metadata": {},
   "outputs": [
    {
     "name": "stdout",
     "output_type": "stream",
     "text": [
      "7.725480196410691 0.04186002821111604\n"
     ]
    }
   ],
   "source": [
    "print(call_price, standard_error)"
   ]
  },
  {
   "cell_type": "markdown",
   "metadata": {},
   "source": [
    "## (d)"
   ]
  },
  {
   "cell_type": "code",
   "execution_count": 12,
   "metadata": {},
   "outputs": [
    {
     "name": "stdout",
     "output_type": "stream",
     "text": [
      "0.3418041783687046\n"
     ]
    }
   ],
   "source": [
    "print(call_delta)"
   ]
  },
  {
   "cell_type": "markdown",
   "metadata": {},
   "source": [
    "## (e)\n",
    "\n",
    "We know from (a) that:\n",
    "\n",
    "$$\n",
    "f_t = e^{-r(T_2 - t)} (F_t - K)\n",
    "$$\n",
    "\n",
    "Therefore,\n",
    "\n",
    "$$\n",
    "f_0 = e^{-rT_2} (F_0 - K)\n",
    "$$\n",
    "\n",
    "In other words,\n",
    "\n",
    "$$\n",
    "\\frac{\\delta f_0}{\\delta S} =\n",
    "\\frac{\\delta}{\\delta S} e^{-rT_2} (F_0 - K) =\n",
    "e^{-rT_2} \\frac{\\delta}{\\delta S} F_0\n",
    "$$\n",
    "\n",
    "The formula for $F_t$ from the dynamics was also given as:\n",
    "\n",
    "$$\n",
    "F_t = \\mathbf{E}_t(S_{T_2}) =\n",
    "\\exp \\left[\n",
    "e^{-\\kappa (T_2 - t)} \\log S_t +\n",
    "(1 - e^{-\\kappa (T_2 - t)}) \\alpha +\n",
    "\\frac{\\sigma^2}{4 \\kappa}\n",
    "(1 - e^{-2 \\kappa (T_2 - t)})\n",
    "\\right]\n",
    "$$\n",
    "\n",
    "Therefore,\n",
    "\n",
    "$$\n",
    "F_0 = \\exp \\left[\n",
    "e^{-\\kappa T_2} \\log S_0 +\n",
    "(1 - e^{-\\kappa T_2}) \\alpha +\n",
    "\\frac{\\sigma^2}{4 \\kappa}\n",
    "(1 - e^{-2 \\kappa T_2})\n",
    "\\right]\n",
    "$$\n",
    "\n",
    "Substituting this equation back into the partial differentiation gives:\n",
    "\n",
    "$$\n",
    "\\begin{aligned}\n",
    "\\frac{\\delta f_0}{\\delta S} &=\n",
    "e^{-rT_2} \\frac{\\delta}{\\delta S} F_0 \\\\\n",
    "&= e^{-rT_2} \\frac{\\delta}{\\delta S}\n",
    "\\exp \\left[\n",
    "e^{-\\kappa T_2} \\log S_0 +\n",
    "(1 - e^{-\\kappa T_2}) \\alpha +\n",
    "\\frac{\\sigma^2}{4 \\kappa}\n",
    "(1 - e^{-2 \\kappa T_2})\n",
    "\\right] \\\\\n",
    "&= e^{-rT_2} \\frac{\\delta}{\\delta S}\n",
    "\\exp \\left[\n",
    "e^{-\\kappa T_2} \\log S_0\n",
    "\\right]\n",
    "\\times\n",
    "\\exp \\left[\n",
    "(1 - e^{-\\kappa T_2}) \\alpha +\n",
    "\\frac{\\sigma^2}{4 \\kappa}\n",
    "(1 - e^{-2 \\kappa T_2})\n",
    "\\right] \\\\\n",
    "&= \\exp \\left[\n",
    "-rT_2 +\n",
    "(1 - e^{-\\kappa T_2}) \\alpha +\n",
    "\\frac{\\sigma^2}{4 \\kappa}\n",
    "(1 - e^{-2 \\kappa T_2})\n",
    "\\right]\n",
    "\\frac{\\delta}{\\delta S}\n",
    "S^{e^{-\\kappa T_2}} \\\\\n",
    "&= \\exp \\left[\n",
    "-rT_2 +\n",
    "(1 - e^{-\\kappa T_2}) \\alpha +\n",
    "\\frac{\\sigma^2}{4 \\kappa}\n",
    "(1 - e^{-2 \\kappa T_2})\n",
    "\\right]\n",
    "e^{-\\kappa T_2}\n",
    "S^{e^{-\\kappa T_2} - 1} \\\\\n",
    "&= \\exp \\left[\n",
    "-rT_2 -\\kappa T_2 +\n",
    "(e^{-\\kappa T_2} - 1) \\log S_0 +\n",
    "(1 - e^{-\\kappa T_2}) \\alpha +\n",
    "\\frac{\\sigma^2}{4 \\kappa}\n",
    "(1 - e^{-2 \\kappa T_2})\n",
    "\\right] \\\\\n",
    "&= \\exp \\left[ -\n",
    "(r -\\kappa) T_2 -\n",
    "(1 - e^{-\\kappa T_2}) \\log S_0 +\n",
    "(1 - e^{-\\kappa T_2}) \\alpha +\n",
    "\\frac{\\sigma^2}{4 \\kappa}\n",
    "(1 - e^{-2 \\kappa T_2})\n",
    "\\right]\n",
    "\\end{aligned}\n",
    "$$\n",
    "\n",
    "Therefore, analytically, $\\frac{\\delta f_0}{\\delta S}$ can be calculated as:\n",
    "\n",
    "$$\n",
    "\\frac{\\delta f_0}{\\delta S} =\n",
    "\\exp \\left[ -\n",
    "(r -\\kappa) T_2 -\n",
    "(1 - e^{-\\kappa T_2}) \\log S_0 +\n",
    "(1 - e^{-\\kappa T_2}) \\alpha +\n",
    "\\frac{\\sigma^2}{4 \\kappa}\n",
    "(1 - e^{-2 \\kappa T_2})\n",
    "\\right]\n",
    "$$\n",
    "\n",
    "The numerical value of this partial differentiation can be calculated by substituting the constants."
   ]
  },
  {
   "cell_type": "code",
   "execution_count": 13,
   "metadata": {},
   "outputs": [
    {
     "name": "stdout",
     "output_type": "stream",
     "text": [
      "1.3123701857785868\n"
     ]
    }
   ],
   "source": [
    "forward_delta = delta_forward(hw5dynamics, hw5contract)\n",
    "print(forward_delta)"
   ]
  },
  {
   "cell_type": "markdown",
   "metadata": {},
   "source": [
    "## (f)\n",
    "\n",
    "For replication of a long one call would be determined by:\n",
    "\n",
    "$$\n",
    "\\frac{\\delta C}{\\delta f_0}\n",
    "$$\n",
    "\n",
    "Using rules of differentiation, the above can also be expressed as\n",
    "\n",
    "$$\n",
    "\\frac{\\delta C}{\\delta f_0} =\n",
    "\\frac{\\delta C}{\\delta S} /\n",
    "\\frac{\\delta f_0}{\\delta S}\n",
    "$$\n",
    "\n",
    "The above can be calculated using the Monte Carlo simulation calculated $\\frac{\\delta C}{\\delta S}$\n",
    "and analytically calculated $\\frac{\\delta f_0}{\\delta S}$"
   ]
  },
  {
   "cell_type": "code",
   "execution_count": 14,
   "metadata": {},
   "outputs": [
    {
     "name": "stdout",
     "output_type": "stream",
     "text": [
      "0.260447991026193\n"
     ]
    }
   ],
   "source": [
    "print(call_delta / forward_delta)"
   ]
  },
  {
   "cell_type": "markdown",
   "metadata": {},
   "source": [
    "Therefore, approximately $0.260$ units of forward contracts at time-$0$ would\n",
    "replicate the call"
   ]
  },
  {
   "cell_type": "markdown",
   "metadata": {},
   "source": [
    "## (g)\n",
    "\n",
    "The holder of the contract would purchase 5,000 barrels if $(F_{T_1} - K) > 0$.\n",
    "\n",
    "On the other hand, the holder of the contract would purchase 4,000 barrels if $(F_{T_1} - K) < 0$.\n",
    "\n",
    "In mathematical equation:\n",
    "\n",
    "$$\n",
    "\\theta = \\begin{cases}\n",
    "5000 & \\ if \\ (F_{T_1} - K) > 0 \\\\\n",
    "4000 & \\ if \\ (F_{T_1} - K) < 0 \\\\\n",
    "\\end{cases}\n",
    "$$\n",
    "\n",
    "Therefore, this \"purchase agreement\" contract would be equivalent to 4,000 long forward contract\n",
    "with delivery date $T_2$ and delivery price $K$, and 1,000 long option contract from (a).\n",
    "\n",
    "The time-$0$ value of this contract can be calculated without simulation as:\n",
    "\n",
    "$$\n",
    "1000 \\cdot C(S_0) + 4000 \\cdot f_0\n",
    "$$\n",
    "\n",
    "This value can be calculated as below:"
   ]
  },
  {
   "cell_type": "code",
   "execution_count": 15,
   "metadata": {},
   "outputs": [],
   "source": [
    "F_0 = np.exp(np.exp(-hw5dynamics.kappa * hw5contract.T2) * np.log(hw5dynamics.S0)\n",
    "             + (1 - np.exp(-hw5dynamics.kappa * hw5contract.T2)) * hw5dynamics.alpha\n",
    "             + hw5dynamics.sigma**2 / (4*hw5dynamics.kappa) * (1 - np.exp(-2 * hw5dynamics.kappa * hw5contract.T2)))\n",
    "f_0 = np.exp(-hw5dynamics.r * hw5contract.T2) * (F_0 - hw5contract.K1)"
   ]
  },
  {
   "cell_type": "code",
   "execution_count": 16,
   "metadata": {},
   "outputs": [
    {
     "name": "stdout",
     "output_type": "stream",
     "text": [
      "3989.6430457929664\n"
     ]
    }
   ],
   "source": [
    "print(1000 * call_price + 4000 * f_0)"
   ]
  },
  {
   "cell_type": "markdown",
   "metadata": {},
   "source": [
    "# Problem 2."
   ]
  },
  {
   "cell_type": "markdown",
   "metadata": {},
   "source": [
    "## (a)\n",
    "\n",
    "Let $P$ be the fraction of the pot that Patrik will collect. Then,\n",
    "\n",
    "$$\n",
    "P = \\begin{cases}\n",
    "1 & \\ \\text{with prob} \\ \\frac{34}{44} \\\\\n",
    "0 & \\ \\text{with prob} \\ \\frac{10}{44}\n",
    "\\end{cases}\n",
    "$$\n",
    "\n",
    "Since $P$ follows a Bernoulli distribution:\n",
    "\n",
    "$$\n",
    "\\mathbf{E}[P] = \\frac{34}{44}\n",
    "$$\n",
    "\n",
    "Moreover,\n",
    "\n",
    "$$\n",
    "Var[P] = \\frac{34}{44} \\times \\frac{10}{44}\n",
    "= \\frac{34 \\cdot 10}{44^2}\n",
    "$$\n",
    "\n",
    "Therefore, the standard deviation is\n",
    "\n",
    "$$\n",
    "\\sqrt{\\frac{34 \\cdot 10}{44^2}}\n",
    "= \\frac{2 \\sqrt{85}}{44}\n",
    "= \\frac{\\sqrt{85}}{22}\n",
    "\\approx 0.4191\n",
    "$$"
   ]
  },
  {
   "cell_type": "markdown",
   "metadata": {},
   "source": [
    "## (b)\n",
    "\n",
    "This time $P$ will take the values:\n",
    "\n",
    "$$\n",
    "P = \\begin{cases}\n",
    "1 & \\ \\text{with prob} \\ (\\frac{34}{44})^3 \\\\\n",
    "\\frac{2}{3} & \\ \\text{with prob} \\ 3 \\cdot (\\frac{34}{44})^2 \\cdot \\frac{10}{44} \\\\\n",
    "\\frac{1}{3} & \\ \\text{with prob} \\ 3 \\cdot \\frac{34}{44} \\cdot (\\frac{10}{44})^2 \\\\\n",
    "0 & \\ \\text{with prob} \\ (\\frac{10}{44})^3\n",
    "\\end{cases}\n",
    "$$\n",
    "\n",
    "Therefore, the expected value can be expressed as:\n",
    "\n",
    "$$\n",
    "\\mathbf{E}[P] =\n",
    "1 \\cdot (\\frac{34}{44})^3 +\n",
    "\\frac{2}{3} \\cdot 3 \\cdot (\\frac{34}{44})^2 \\cdot \\frac{10}{44} +\n",
    "\\frac{1}{3} \\cdot 3 \\cdot \\frac{34}{44} \\cdot (\\frac{10}{44})^2 +\n",
    "0 \\cdot (\\frac{10}{44})^3\n",
    "$$\n",
    "\n",
    "and can be calculated as:"
   ]
  },
  {
   "cell_type": "code",
   "execution_count": 17,
   "metadata": {},
   "outputs": [
    {
     "name": "stdout",
     "output_type": "stream",
     "text": [
      "0.7727272727272727\n"
     ]
    }
   ],
   "source": [
    "prob = 34/44\n",
    "\n",
    "exp_p = (1 * prob**3 +\n",
    "         2/3 * 3 * prob**2 * (1 - prob) +\n",
    "         1/3 * 3 * prob * (1 - prob)**2 +\n",
    "         0 * (1 - prob)**3)\n",
    "\n",
    "print(exp_p)"
   ]
  },
  {
   "cell_type": "markdown",
   "metadata": {},
   "source": [
    "Now the variance can be expressed as:\n",
    "\n",
    "$$\n",
    "\\begin{aligned}\n",
    "Var[P] &= \\mathbf{E}[(P - \\mathbf{E}[P])^2] \\\\\n",
    " &= (1 - \\mathbf{E}[P])^2 \\cdot (\\frac{34}{44})^3 +\n",
    "(\\frac{2}{3} - \\mathbf{E}[P])^2 \\cdot 3 \\cdot (\\frac{34}{44})^2 \\cdot \\frac{10}{44} +\n",
    "(\\frac{1}{3} - \\mathbf{E}[P])^2 \\cdot 3 \\cdot \\frac{34}{44} \\cdot (\\frac{10}{44})^2 +\n",
    "(0 - \\mathbf{E}[P])^2 \\cdot (\\frac{10}{44})^3\n",
    "\\end{aligned}\n",
    "$$\n",
    "\n",
    "and can be calculated as:"
   ]
  },
  {
   "cell_type": "code",
   "execution_count": 18,
   "metadata": {},
   "outputs": [],
   "source": [
    "var_p = ((1 - exp_p)**2 * prob**3 +\n",
    "         (2/3 - exp_p)**2 * 3 * prob**2 * (1 - prob) +\n",
    "         (1/3 - exp_p)**2 * 3 * prob * (1 - prob)**2 +\n",
    "         (0 - exp_p)**2 * (1 - prob)**3)"
   ]
  },
  {
   "cell_type": "markdown",
   "metadata": {},
   "source": [
    "Therefore, the standard deviation can be calculated getting the square root of the variance:"
   ]
  },
  {
   "cell_type": "code",
   "execution_count": 19,
   "metadata": {},
   "outputs": [
    {
     "name": "stdout",
     "output_type": "stream",
     "text": [
      "0.24195029428289866\n"
     ]
    }
   ],
   "source": [
    "print(np.sqrt(var_p))"
   ]
  },
  {
   "cell_type": "markdown",
   "metadata": {},
   "source": [
    "## (c)\n",
    "\n",
    "This time $P$ will take the values:\n",
    "\n",
    "$$\n",
    "P = \\begin{cases}\n",
    "1 & \\ \\text{with prob} \\ \\frac{\\begin{pmatrix} 34 \\\\ 3 \\end{pmatrix}}{\\begin{pmatrix} 44 \\\\ 3 \\end{pmatrix}} \\\\\n",
    "\\frac{2}{3} & \\ \\text{with prob} \\ \\frac{\\begin{pmatrix} 34 \\\\ 2 \\end{pmatrix}\\begin{pmatrix} 10 \\\\ 1 \\end{pmatrix}}\n",
    "{\\begin{pmatrix} 44 \\\\ 3 \\end{pmatrix}} \\\\\n",
    "\\frac{1}{3} & \\ \\text{with prob} \\ \\frac{\\begin{pmatrix} 34 \\\\ 1 \\end{pmatrix}\\begin{pmatrix} 10 \\\\ 2 \\end{pmatrix}}\n",
    "{\\begin{pmatrix} 44 \\\\ 3 \\end{pmatrix}} \\\\\n",
    "0 & \\ \\text{with prob} \\ \\frac{\\begin{pmatrix} 10 \\\\ 3 \\end{pmatrix}}{\\begin{pmatrix} 44 \\\\ 3 \\end{pmatrix}}\n",
    "\\end{cases}\n",
    "$$\n",
    "\n",
    "The expectation can be calculated, similar to (b):\n",
    "\n",
    "$$\n",
    "\\mathbf{E}[P] = \\sum P_i \\times \\mathbf{P}[P = P_i]\n",
    "$$\n",
    "\n",
    "and the numeric value is"
   ]
  },
  {
   "cell_type": "code",
   "execution_count": 20,
   "metadata": {},
   "outputs": [
    {
     "name": "stdout",
     "output_type": "stream",
     "text": [
      "0.7727272727272727\n"
     ]
    }
   ],
   "source": [
    "probs = np.array([choice(10, 3 - _) * choice(34, _)/choice(44, 3) for _ in range(4)])\n",
    "ps = np.array([_/3 for _ in range(4)])\n",
    "exp_p_c = np.sum(probs * ps)\n",
    "print(exp_p_c)"
   ]
  },
  {
   "cell_type": "markdown",
   "metadata": {},
   "source": [
    "The variance can be calculated, similar to (b):\n",
    "\n",
    "$$\n",
    "Var[P] = \\sum (P_i - \\mathbf{E}[P])^2 \\times \\mathbf{P}[P = P_i]\n",
    "$$\n",
    "\n",
    "and the numeric value is"
   ]
  },
  {
   "cell_type": "code",
   "execution_count": 21,
   "metadata": {},
   "outputs": [
    {
     "name": "stdout",
     "output_type": "stream",
     "text": [
      "0.055817156768530975\n"
     ]
    }
   ],
   "source": [
    "var_p_c = np.sum((ps - exp_p_c)**2 * probs)\n",
    "print(var_p_c)"
   ]
  },
  {
   "cell_type": "markdown",
   "metadata": {},
   "source": [
    "Therefore, the standard deviation can be calculated taking the square root of the variance as:"
   ]
  },
  {
   "cell_type": "code",
   "execution_count": 22,
   "metadata": {},
   "outputs": [
    {
     "name": "stdout",
     "output_type": "stream",
     "text": [
      "0.23625654862570683\n"
     ]
    }
   ],
   "source": [
    "print(np.sqrt(var_p_c))"
   ]
  },
  {
   "cell_type": "markdown",
   "metadata": {},
   "source": [
    "The standard deviation is smaller in part (c) compared to part (b).\n",
    "This make sense when thinking about the probability of getting extreme outcomes (i.e., $1$ or $0$).\n",
    "Without replacement, there is lower probability to get extreme outcomes since drawing cards in a streak in both\n",
    "direction happens with lower probability--compared to draws made with replacement."
   ]
  }
 ],
 "metadata": {
  "anaconda-cloud": {},
  "kernelspec": {
   "display_name": "Python 3 (ipykernel)",
   "language": "python",
   "name": "python3"
  },
  "language_info": {
   "codemirror_mode": {
    "name": "ipython",
    "version": 3
   },
   "file_extension": ".py",
   "mimetype": "text/x-python",
   "name": "python",
   "nbconvert_exporter": "python",
   "pygments_lexer": "ipython3",
   "version": "3.11.0"
  },
  "toc": {
   "base_numbering": 1,
   "nav_menu": {},
   "number_sections": true,
   "sideBar": true,
   "skip_h1_title": false,
   "title_cell": "Table of Contents",
   "title_sidebar": "Contents",
   "toc_cell": false,
   "toc_position": {},
   "toc_section_display": true,
   "toc_window_display": false
  }
 },
 "nbformat": 4,
 "nbformat_minor": 2
}
