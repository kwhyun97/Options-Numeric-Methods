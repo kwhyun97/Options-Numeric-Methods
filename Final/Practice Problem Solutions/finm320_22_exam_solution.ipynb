{
  "cells": [
    {
      "cell_type": "code",
      "execution_count": 1,
      "metadata": {
        "id": "N3NcmSyD_n-h"
      },
      "outputs": [],
      "source": [
        "import numpy as np\n",
        "from scipy.optimize import bisect\n",
        "from scipy.stats import norm"
      ]
    },
    {
      "cell_type": "code",
      "execution_count": 2,
      "metadata": {
        "id": "5CQyoplL_n-k"
      },
      "outputs": [],
      "source": [
        "class GBM:\n",
        "\n",
        "    def __init__(self,S0,r,sigma=None):\n",
        "        self.S0=S0\n",
        "        self.r=r\n",
        "        self.sigma=sigma\n",
        "\n",
        "    def update_sigma(self, sigma):\n",
        "        self.sigma = sigma\n",
        "        return self"
      ]
    },
    {
      "cell_type": "code",
      "execution_count": 3,
      "metadata": {
        "id": "MGfoxQrr_n-k"
      },
      "outputs": [],
      "source": [
        "class Bet:\n",
        "\n",
        "    def __init__(self,K,T,observedPrice):\n",
        "        self.K=K\n",
        "        self.T=T\n",
        "        self.observedPrice=observedPrice    \n",
        "\n",
        "    def impliedVol(self,dynamics):\n",
        "        # ignores dynamics.sigma, because this function solves for sigma.  \n",
        "\n",
        "        if self.K != dynamics.S0:\n",
        "            raise ValueError('Please assume the ATM case')\n",
        "        if dynamics.r <= 0: \n",
        "            raise ValueError('Please assume r>0')\n",
        "\n",
        "        if self.observedPrice is None: \n",
        "            raise ValueError('Contract price must be given')\n",
        "\n",
        "        # fill this in.  You may use a root-finder, but if you see a way to code this without using a root-finder, \n",
        "        # then you are not required to use a root-finder.\n",
        "            \n",
        "        df = np.exp(-dynamics.r*self.T)  #discount factor\n",
        "        F = dynamics.S0 / df\n",
        "        C = self.observedPrice\n",
        "        # Checking of these edge cases is _not_ required for full credit on this problem\n",
        "        if C<0:\n",
        "            return np.nan\n",
        "        if C==0:\n",
        "            return 0\n",
        "        if C>=df:\n",
        "            return np.nan \n",
        "\n",
        "        dytry = dynamics\n",
        "        # We \"try\" values of sigma until we find sigma that generates price C\n",
        "        # First find lower and upper bounds\n",
        "        dytry.sigma = 0.2\n",
        "        while self.BSprice(dytry)>C:\n",
        "            dytry.sigma /= 2\n",
        "        while self.BSprice(dytry)<C:\n",
        "            dytry.sigma *= 2\n",
        "        hi = dytry.sigma\n",
        "        lo = hi/2\n",
        "        # We have calculated \"lo\" and \"hi\" which bound the implied volatility from below and above. \n",
        "        # In other words, the implied volatility is somewhere in the interval [lo,hi].\n",
        "\n",
        "        impliedVol = bisect(lambda x: self.BSprice(dynamics.update_sigma(x))-C,lo,hi)\n",
        "\n",
        "        return impliedVol\n",
        "\n",
        "    def BSprice(self, dynamics):\n",
        "        # Price a BINARY put\n",
        "        # Ignores self.observedPrice if given, because this function calculates price based on the dynamics \n",
        "        \n",
        "        F = dynamics.S0*np.exp(dynamics.r*self.T)\n",
        "        sd = dynamics.sigma*np.sqrt(self.T)\n",
        "        d2 = np.log(F/self.K)/sd - sd/2\n",
        "        return np.exp(-dynamics.r*self.T)*(1-norm.cdf(d2))\n",
        "    "
      ]
    },
    {
      "cell_type": "code",
      "source": [
        "class EYcontract:\n",
        "\n",
        "    def __init__(self,Klow,Kmid,Khigh,K0,T0,T1):\n",
        "        self.Klow = Klow\n",
        "        self.Kmid = Kmid\n",
        "        self.Khigh = Khigh\n",
        "        self.K0 = K0\n",
        "        self.T0 = T0\n",
        "        self.T1 = T1"
      ],
      "metadata": {
        "id": "qA_ASvUaC97l"
      },
      "execution_count": 4,
      "outputs": []
    },
    {
      "cell_type": "code",
      "execution_count": 5,
      "metadata": {
        "id": "UXmRgYDM_n-l"
      },
      "outputs": [],
      "source": [
        "class MC:\n",
        "\n",
        "    def __init__(self,M,seed):\n",
        "        self.M = M  #number of paths\n",
        "        self.rng = np.random.default_rng(seed=seed) # Seeding the random number generator with a specified number helps make the calculations reproducible\n",
        "\n",
        "    def randomLogreturn(self,dynamics,deltat):\n",
        "        return (dynamics.r-dynamics.sigma**2/2)*deltat + dynamics.sigma*np.sqrt(deltat)*self.rng.normal(size=self.M)\n",
        "\n",
        "    def price_EYcontract_GBM(self,contract,dynamics):\n",
        "    \n",
        "        S05 = dynamics.S0 * np.exp(self.randomLogreturn(dynamics,contract.T0))\n",
        "        S10 = S05 * np.exp(self.randomLogreturn(dynamics,contract.T1-contract.T0))\n",
        "        zeropayoff = np.zeros(self.M)\n",
        "        payoffdiscounted = np.exp(-dynamics.r*contract.T1) * np.where((S10>contract.Khigh)|(S05>contract.K0), np.maximum(S10-contract.Kmid,zeropayoff), np.maximum(S10-contract.Klow,zeropayoff))\n",
        "        price = np.mean(payoffdiscounted)\n",
        "        standard_error = np.std(payoffdiscounted)/np.sqrt(self.M)\n",
        "\n",
        "        return(price, standard_error)\n",
        "        "
      ]
    },
    {
      "cell_type": "markdown",
      "metadata": {
        "id": "cssm1MLx_n-l"
      },
      "source": [
        "## Problem 1"
      ]
    },
    {
      "cell_type": "code",
      "execution_count": 6,
      "metadata": {
        "id": "JLAfx1Vp_n-m"
      },
      "outputs": [],
      "source": [
        "# your solution should allow for minor perturbations of the parameters, \n",
        "# but you may assume that r>0 and that S0=K \n",
        "\n",
        "p1dynamics=GBM(S0=88,r=0.03)"
      ]
    },
    {
      "cell_type": "code",
      "execution_count": 7,
      "metadata": {
        "id": "cLOQ2vLd_n-n"
      },
      "outputs": [],
      "source": [
        "p1contract=Bet(K=88,T=1.0,observedPrice=0.5)  \n",
        "#the 0.5 assumes that the contract pays $1 (or nothing).  \n",
        "#If instead you assume it pays $20 million, then this observed price needs to be changed to $10 million."
      ]
    },
    {
      "cell_type": "code",
      "execution_count": 8,
      "metadata": {
        "id": "GGkgISuQ_n-n",
        "colab": {
          "base_uri": "https://localhost:8080/"
        },
        "outputId": "38df65e0-8a89-4c2c-f6f0-30540ffbfdb1"
      },
      "outputs": [
        {
          "output_type": "stream",
          "name": "stdout",
          "text": [
            "0.28608478037494933\n"
          ]
        }
      ],
      "source": [
        "impliedVol = p1contract.impliedVol(p1dynamics)\n",
        "print(impliedVol)"
      ]
    },
    {
      "cell_type": "markdown",
      "source": [
        "(1b) Binary put price $C = e^{-rT}N(-d_2) = e^{-rT}N\\big(\\frac{\\sigma\\sqrt{T}}{2}-\\frac{\\log(F/K)}{\\sigma\\sqrt{T}}\\big)$\n",
        "\n",
        "Vega $=\\partial C/\\partial\\sigma = e^{-rT}N'(-d_2)\\big(\\frac{\\sqrt{T}}{2} +\\frac{\\log(F/K)}{\\sigma^2\\sqrt{T}}\\big)>0⟹$  Long vol."
      ],
      "metadata": {
        "id": "JkQPgmncuw4x"
      }
    },
    {
      "cell_type": "markdown",
      "metadata": {
        "id": "fL3ee1N2_n-o"
      },
      "source": [
        "## Problem 4"
      ]
    },
    {
      "cell_type": "code",
      "execution_count": 9,
      "metadata": {
        "id": "LR8WHSpv_n-o"
      },
      "outputs": [],
      "source": [
        "p4dynamics = GBM(sigma=0.70,S0=10,r=0.02)"
      ]
    },
    {
      "cell_type": "code",
      "execution_count": 10,
      "metadata": {
        "id": "2qPJ4byU_n-o"
      },
      "outputs": [],
      "source": [
        "p4contract = EYcontract(Klow=10,Kmid=11,Khigh=14,K0=12,T0=0.5,T1=1.0)"
      ]
    },
    {
      "cell_type": "code",
      "execution_count": 11,
      "metadata": {
        "id": "j9o69w-i_n-p"
      },
      "outputs": [],
      "source": [
        "p4MC = MC(M=100000,seed=0) "
      ]
    },
    {
      "cell_type": "code",
      "execution_count": 12,
      "metadata": {
        "id": "v7eyVAia_n-p",
        "colab": {
          "base_uri": "https://localhost:8080/"
        },
        "outputId": "56c7e433-53e7-4e10-a0d9-28e8304ad9d7"
      },
      "outputs": [
        {
          "output_type": "stream",
          "name": "stdout",
          "text": [
            "2.561452804890789 0.019584331574493807\n"
          ]
        }
      ],
      "source": [
        "(price, standard_error) = p4MC.price_EYcontract_GBM(p4contract,p4dynamics)\n",
        "print(price, standard_error)"
      ]
    }
  ],
  "metadata": {
    "anaconda-cloud": {},
    "kernelspec": {
      "display_name": "Python 3",
      "language": "python",
      "name": "python3"
    },
    "language_info": {
      "codemirror_mode": {
        "name": "ipython",
        "version": 3
      },
      "file_extension": ".py",
      "mimetype": "text/x-python",
      "name": "python",
      "nbconvert_exporter": "python",
      "pygments_lexer": "ipython3",
      "version": "3.6.5"
    },
    "colab": {
      "provenance": []
    }
  },
  "nbformat": 4,
  "nbformat_minor": 0
}