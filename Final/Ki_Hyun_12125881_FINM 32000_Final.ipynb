{
 "cells": [
  {
   "cell_type": "markdown",
   "source": [
    "<left>FINM 32000 - Numerical Methods</left>\n",
    "<left>Spring 2023</left>\n",
    "<br>\n",
    "<h1><center> Final Exam </center></h1>\n",
    "<center>18:00 - 21:00 [CST] May 24th, 2023</center>\n",
    "<br>\n",
    "<h3>Ki Hyun</h3>\n",
    "<h3>Student ID: 12125881</h3>"
   ],
   "metadata": {
    "collapsed": false
   }
  },
  {
   "cell_type": "markdown",
   "source": [
    "### Imports"
   ],
   "metadata": {
    "collapsed": false
   }
  },
  {
   "cell_type": "code",
   "execution_count": 1,
   "metadata": {
    "id": "N3NcmSyD_n-h"
   },
   "outputs": [],
   "source": [
    "import numpy as np\n",
    "from scipy.stats import norm"
   ]
  },
  {
   "cell_type": "markdown",
   "source": [
    "### Helper-Functions"
   ],
   "metadata": {
    "collapsed": false
   }
  },
  {
   "cell_type": "code",
   "execution_count": 2,
   "metadata": {
    "id": "5CQyoplL_n-k"
   },
   "outputs": [],
   "source": [
    "class GBM:\n",
    "\n",
    "    def __init__(self,S0,r,sigma=None):\n",
    "        self.S0=S0\n",
    "        self.r=r\n",
    "        self.sigma=sigma\n"
   ]
  },
  {
   "cell_type": "code",
   "execution_count": 3,
   "metadata": {
    "id": "MGfoxQrr_n-k"
   },
   "outputs": [],
   "source": [
    "class Call:\n",
    "\n",
    "    def __init__(self,K,T):\n",
    "        self.K=K\n",
    "        self.T=T\n",
    "\n",
    "    #You will probably want to insert another function here, to support the control variate calculation in (b)\n",
    "    def BSPrice(self, dynamics):\n",
    "        # Black-Scholes Method:\n",
    "        d_1 = (np.log(dynamics.S0/self.K) +\n",
    "               ((dynamics.r) + dynamics.sigma ** 2 / 2) * self.T) / (dynamics.sigma * np.sqrt(self.T))\n",
    "        d_2 = d_1 - (dynamics.sigma * np.sqrt(self.T))\n",
    "        return norm.cdf(d_1) * dynamics.S0 - norm.cdf(d_2) * self.K * np.exp(-dynamics.r * self.T)"
   ]
  },
  {
   "cell_type": "code",
   "source": [
    "class CallOnAverage:\n",
    "\n",
    "    def __init__(self,K,T0,T1):\n",
    "        self.K = K\n",
    "        self.T0 = T0\n",
    "        self.T1 = T1"
   ],
   "metadata": {
    "id": "qA_ASvUaC97l"
   },
   "execution_count": 4,
   "outputs": []
  },
  {
   "cell_type": "code",
   "execution_count": 15,
   "metadata": {
    "id": "UXmRgYDM_n-l"
   },
   "outputs": [],
   "source": [
    "class MC:\n",
    "\n",
    "    def __init__(self,M,seed,useControl):\n",
    "        self.M = M  #number of paths\n",
    "        self.rng = np.random.default_rng(seed=seed) # Seeding the random number generator with a specified number helps make the calculations reproducible\n",
    "        self.useControl = useControl\n",
    "\n",
    "    def randomLogreturn(self,dynamics,deltat):\n",
    "        return (dynamics.r-dynamics.sigma**2/2)*deltat + dynamics.sigma*np.sqrt(deltat)*self.rng.normal(size=self.M)\n",
    "\n",
    "    def price_CallOnAverage_GBM(self,contract,dynamics):\n",
    "    \n",
    "        #You fill this in.  If self.useControl is False, then this should do part (a), otherwise it should do part (b)\n",
    "        X_late = self.randomLogreturn(dynamics, contract.T1)\n",
    "        X_middle = self.randomLogreturn(dynamics, contract.T0)\n",
    "        payoff = dynamics.S0 * (np.exp(X_late) + np.exp(X_middle))/2 - contract.K\n",
    "        discount = np.exp(-dynamics.r * contract.T1)\n",
    "        price = discount * np.maximum(payoff, 0.0)\n",
    "\n",
    "        if self.useControl:\n",
    "            while True:\n",
    "                T = 1\n",
    "                K = 10\n",
    "                call_payoff_star = dynamics.S0 * np.exp(self.randomLogreturn(dynamics, T)) - K\n",
    "                if np.cov(call_payoff_star, payoff)[0, 1] > 0.9:\n",
    "                    break\n",
    "                T += 0.001\n",
    "                K += 0.001\n",
    "            call_price_star = discount * np.maximum(call_payoff_star, 0.0)\n",
    "            control_call = Call(K, T)\n",
    "            C_star = control_call.BSPrice(dynamics)\n",
    "            # MLE beta\n",
    "            beta_star = np.cov(price, call_price_star)[0, 1]/np.var(call_price_star)\n",
    "            price = price + beta_star * (C_star - call_price_star)\n",
    "\n",
    "        standard_error = np.std(price)\n",
    "        price = np.mean(price)\n",
    "\n",
    "        return(price, standard_error)\n"
   ]
  },
  {
   "cell_type": "markdown",
   "source": [
    "# Problem 1."
   ],
   "metadata": {
    "collapsed": false
   }
  },
  {
   "cell_type": "markdown",
   "source": [
    "The payoff of the European $K$-strike vanilla call is:\n",
    "\n",
    "$$\n",
    "(S_T - K)^+\n",
    "$$\n",
    "\n",
    "It was given that $S_T$ follows a distribution with density function $p$\n",
    "and cumulative distribution function $F$.\n",
    "\n",
    "For the time $0$ price, the payoff at time $T$ has to be discounted by\n",
    "$e^{-rT}$ and this value was given in the question as $0.8$.\n",
    "\n",
    "Therefore, the value of the European $K$-strike vanilla call is:\n",
    "\n",
    "$$\n",
    "\\begin{aligned}\n",
    "C(K) &= e^{-rT} \\left(\n",
    "\\int_K^{\\infty} (S_T - K) p(S_T) dS_T\n",
    "\\right) \\\\\n",
    "&= e^{-rT} \\int_K^{\\infty} S_T p(S_T) dS_T -\n",
    "e^{-rT} K \\int_K^{\\infty} p(S_T)dS_T \\\\\n",
    "&= e^{-rT} \\int_K^{\\infty} S_T p(S_T) dS_T -\n",
    "e^{-rT} K (1 - F(K))\n",
    "\\end{aligned}\n",
    "$$\n",
    "\n",
    "It was also given that $C(100) = 8$, $p(100) = 0.15$, and $F(100) = 0.5$"
   ],
   "metadata": {
    "collapsed": false
   }
  },
  {
   "cell_type": "markdown",
   "source": [
    "## (a)\n",
    "\n",
    "Using a second-order Taylor expansion, $C(100 + h)$ can be approximated as:\n",
    "\n",
    "$$\n",
    "C(100 + h) \\approx C(100) + h C'(100) + \\frac{1}{2} h^2 C''(100)\n",
    "$$\n",
    "\n",
    "Therefore, we first need to attain $C'(K)$ and $C''(K)$ from the above equation.\n",
    "\n",
    "From the set-up above,\n",
    "\n",
    "$$\n",
    "\\begin{aligned}\n",
    "C'(K) =\n",
    "\\frac{\\delta}{\\delta K} C(K) &= -e^{-rT} K p(K) -\n",
    "e^{-rT}((1 - F(K)) - KF'(K)) \\\\\n",
    "&= -e^{-rT} K p(K) - e^{-rT} (1 - F(K) - K p(K)) \\\\\n",
    "&(\\because F'(x) = p(x)) \\\\\n",
    "&= e^{-rT} \\left(\n",
    "-K p(K) - 1 + F(K) + K p(K)\n",
    "\\right) \\\\\n",
    "&= e^{-rT} (F(K) - 1)\n",
    "\\end{aligned}\n",
    "$$\n",
    "\n",
    "Moreover,\n",
    "\n",
    "$$\n",
    "\\begin{aligned}\n",
    "C''(K) =\n",
    "\\frac{\\delta^2}{\\delta K^2} C(K) &= \\frac{\\delta}{\\delta K} C'(K) \\\\\n",
    "&= e^{-rT} F'(K) \\\\\n",
    "&= e^{-rT} p(K) \\\\\n",
    "&(\\because F'(x) = p(x))\n",
    "\\end{aligned}\n",
    "$$\n",
    "\n",
    "Using the above, the second-order Taylor expansion becomes:\n",
    "\n",
    "$$\n",
    "C(100 + h) \\approx C(100) + h e^{-rT} (F(100) - 1) + \\frac{1}{2} h^2 e^{-rT} p(K)\n",
    "$$\n",
    "\n",
    "Substituting the numerical values gives:\n",
    "\n",
    "$$\n",
    "C(99.5) \\approx 8 + (-0.5) \\times 0.8 \\times (0.5 - 1) +\n",
    "\\frac{1}{2} (-0.5)^2 \\times 0.8 \\times 0.15 = 8.215\n",
    "$$"
   ],
   "metadata": {
    "collapsed": false
   }
  },
  {
   "cell_type": "markdown",
   "source": [
    "## (b)\n",
    "\n",
    "For a binary put with strike $K$ and expiry $T$, the payoff is $1$ when $S_T < K$.\n",
    "\n",
    "With our probability density function, the price of the binary put can be formulated as:\n",
    "\n",
    "$$\n",
    "Binary Put(K) = e^{-rT} \\int_0^K 1 \\cdot p(S_T) dS_T\n",
    "= e^{-rT} F(K)\n",
    "$$\n",
    "\n",
    "If we substitute the numerical values, the question is asking for $0.8 \\cdot F(101)$.\n",
    "We would need to approximate $F(101)$ since only $F(100)$ is known.\n",
    "\n",
    "Using 1st degree Taylor approximation:\n",
    "\n",
    "$$\n",
    "F(101) = F(100) + 1 \\cdot F'(100) + O(K)^2\n",
    "$$\n",
    "\n",
    "We know that $F'(100) = p(100) = 0.15$.\n",
    "\n",
    "Therefore, the approximation yields:\n",
    "\n",
    "$$\n",
    "Binary Put(101) = 0.8 \\cdot F(101)\n",
    "\\approx 0.8 \\cdot (0.5 + 0.15)\n",
    "= 0.52\n",
    "$$"
   ],
   "metadata": {
    "collapsed": false
   }
  },
  {
   "cell_type": "markdown",
   "source": [
    "## (c)\n",
    "\n",
    "With the given properties,\n",
    "\n",
    "$$\n",
    "\\begin{aligned}\n",
    "\\mathbf{P}(99 < S_T < 101) &=\n",
    "\\int_{99}^{101} p(S_T) dS_t \\\\\n",
    "&= \\int_{0}^{101} p(S_T) dS_t -\n",
    "\\int_{0}^{99} p(S_T) dS_t \\\\\n",
    "&= F(101) - F(99)\n",
    "\\end{aligned}\n",
    "$$\n",
    "\n",
    "Similar to the FD scheme, we can make the rough estimation that:\n",
    "\n",
    "$$\n",
    "F'(100) \\approx \\frac{F(101) - F(99)}{2}\n",
    "$$\n",
    "\n",
    "Here we know that $F'(100) = p(100) = 0.15$.\n",
    "\n",
    "Therefore,\n",
    "\n",
    "$$\n",
    "\\mathbf{P}(99 < S_T < 101) = F(101) - F(99) \\approx 0.15 \\times 2 = 0.3\n",
    "$$"
   ],
   "metadata": {
    "collapsed": false
   }
  },
  {
   "cell_type": "markdown",
   "source": [
    "# Problem 2.\n",
    "\n"
   ],
   "metadata": {
    "collapsed": false
   }
  },
  {
   "cell_type": "markdown",
   "source": [
    "## (a)\n",
    "\n",
    "Using the standard explicit FD scheme:\n",
    "\n",
    "$$\n",
    "\\frac{\\delta}{\\delta t} C(15.0, 0.1) \\approx\n",
    "\\frac{\\mathbf{C}(15.0, 0.1) - \\mathbf{C}(15.0, 0)}{0.1}\n",
    "$$\n",
    "\n",
    "$$\n",
    "\\frac{\\delta^2}{\\delta x^2} C(15.0, 0.1) \\approx\n",
    "\\frac{\\mathbf{C}(15.5, 0.1) - 2\\mathbf{C}(15.0, 0.1) + \\mathbf{C}(14.5, 0.1)}{0.5^2}\n",
    "$$\n",
    "\n",
    "Therefore, the PDE becomes:\n",
    "\n",
    "$$\n",
    "\\frac{\\mathbf{C}(15.0, 0.1) - \\mathbf{C}(15.0, 0)}{0.1} +\n",
    "0.75 \\frac{\\mathbf{C}(15.5, 0.1) - 2\\mathbf{C}(15.0, 0.1) + \\mathbf{C}(14.5, 0.1)}{0.5^2}\n",
    "= 0\n",
    "$$\n",
    "\n",
    "If we substitute the numerical values:\n",
    "\n",
    "$$\n",
    "\\begin{aligned}\n",
    "& \\frac{1.05 - \\mathbf{C}(15.0, 0)}{0.1} +\n",
    "0.75 \\frac{1.16 - 2 \\cdot 1.05 + 1.04}{0.5^2}\n",
    "= 0 \\\\\n",
    "& \\mathbf{C}(15.0, 0) = 0.1(\n",
    "10.5 + 3 (1.16 - 2.10 + 1.04)) \\\\\n",
    "&= 0.1(10.5 + 3 \\cdot 0.1) \\\\\n",
    "&= 0.1 \\cdot 10.8 \\\\\n",
    "& \\therefore\n",
    "\\mathbf{C}(15.0, 0) = 1.08\n",
    "\\end{aligned}\n",
    "$$"
   ],
   "metadata": {
    "collapsed": false
   }
  },
  {
   "cell_type": "markdown",
   "source": [
    "## (b)\n",
    "\n",
    "Keeping the $\\frac{\\delta^2}{\\delta x^2} C(15.0, 0.1)$ term same, but now with a different\n",
    "$\\frac{\\delta}{\\delta t} C(15.0, 0.1)$ term.\n",
    "\n",
    "The new $\\frac{\\delta}{\\delta t} C(15.0, 0.1)$ term can be estimated as:\n",
    "\n",
    "$$\n",
    "\\frac{\\delta}{\\delta t} C(15.0, 0.1) \\approx\n",
    "\\frac{\\mathbf{C}(15.0, 0.2) - \\mathbf{C}(15.0, 0)}{0.2}\n",
    "$$\n",
    "\n",
    "Therefore, the PDE becomes:\n",
    "\n",
    "$$\n",
    "\\frac{\\mathbf{C}(15.0, 0.2) - \\mathbf{C}(15.0, 0)}{0.2} +\n",
    "0.75 \\frac{\\mathbf{C}(15.5, 0.1) - 2\\mathbf{C}(15.0, 0.1) + \\mathbf{C}(14.5, 0.1)}{0.5^2}\n",
    "= 0\n",
    "$$\n",
    "\n",
    "If we substitute the numerical values:\n",
    "\n",
    "$$\n",
    "\\begin{aligned}\n",
    "& \\frac{1.01 - \\mathbf{C}(15.0, 0)}{0.2} +\n",
    "0.75 \\frac{1.16 - 2 \\cdot 1.05 + 1.04}{0.5^2}\n",
    "= 0 \\\\\n",
    "& \\mathbf{C}(15.0, 0) = 0.2(\n",
    "5.05 + 3 (1.16 - 2.10 + 1.04)) \\\\\n",
    "&= 0.2(5.05 + 3 \\cdot 0.1) \\\\\n",
    "&= 0.2 \\cdot 5.35 \\\\\n",
    "& \\therefore\n",
    "\\mathbf{C}(15.0, 0) = 1.07\n",
    "\\end{aligned}\n",
    "$$"
   ],
   "metadata": {
    "collapsed": false
   }
  },
  {
   "cell_type": "markdown",
   "source": [
    "## (c)\n",
    "\n",
    "Scheme (a) does guarantee the stability property\n",
    "\n",
    "Scheme (b) does not guarantee the stability property."
   ],
   "metadata": {
    "collapsed": false
   }
  },
  {
   "cell_type": "markdown",
   "source": [
    "# Problem 3."
   ],
   "metadata": {
    "collapsed": false
   }
  },
  {
   "cell_type": "code",
   "execution_count": 6,
   "metadata": {
    "id": "LR8WHSpv_n-o"
   },
   "outputs": [],
   "source": [
    "p3dynamics = GBM(sigma=0.70,S0=10,r=0.02)"
   ]
  },
  {
   "cell_type": "code",
   "execution_count": 7,
   "metadata": {
    "id": "2qPJ4byU_n-o"
   },
   "outputs": [],
   "source": [
    "p3contract = CallOnAverage(K=12,T0=0.5,T1=1.0)"
   ]
  },
  {
   "cell_type": "markdown",
   "source": [
    "## (a)"
   ],
   "metadata": {
    "collapsed": false
   }
  },
  {
   "cell_type": "code",
   "execution_count": 13,
   "metadata": {
    "id": "j9o69w-i_n-p"
   },
   "outputs": [
    {
     "name": "stdout",
     "output_type": "stream",
     "text": [
      "1.1389444203880121 3.079989098787988\n"
     ]
    }
   ],
   "source": [
    "p3aMC = MC(M=100000,seed=0,useControl=False) \n",
    "(price3a, standard_error3a) = p3aMC.price_CallOnAverage_GBM(p3contract,p3dynamics)\n",
    "print(price3a, standard_error3a)"
   ]
  },
  {
   "cell_type": "markdown",
   "source": [
    "## (b)"
   ],
   "metadata": {
    "collapsed": false
   }
  },
  {
   "cell_type": "code",
   "source": [
    "p3bMC = MC(M=100000,seed=0,useControl=True)\n",
    "(price3b, standard_error3b) = p3bMC.price_CallOnAverage_GBM(p3contract,p3dynamics)\n",
    "print(price3b, standard_error3b)"
   ],
   "metadata": {
    "id": "uN-XBBpwuFAn",
    "pycharm": {
     "is_executing": true
    }
   },
   "execution_count": null,
   "outputs": []
  },
  {
   "cell_type": "markdown",
   "source": [
    "# Problem 4."
   ],
   "metadata": {
    "collapsed": false
   }
  },
  {
   "cell_type": "markdown",
   "source": [
    "## (a)\n",
    "\n",
    "Supposing that the game is played, let's calculate the optimized profit.\n",
    "\n",
    "### Case 1: First card Red\n",
    "\n",
    "You will have a net profit of $-1$ and will be forced to stop the game.\n",
    "\n",
    "The probability of this happening is $\\frac{1}{2}$.\n",
    "\n",
    "### Case 2: First card Black\n",
    "\n",
    "You will have a net profit of $1$\n",
    "\n",
    "The probability of drawing a black card is $\\frac{1}{2}$.\n",
    "\n",
    "We will need to investigate further what the optimal choice will be beyond this\n",
    "\n",
    "#### Case 2-1: Black-Black\n",
    "\n",
    "You will have a net profit of $2$ and the optimal choice would be to\n",
    "quit since there are only Red cards left.\n",
    "\n",
    "The probability of this happening after drawing the black card is $\\frac{1}{3}$.\n",
    "\n",
    "#### Case 2-2: Black-Red\n",
    "\n",
    "At this point your net profit is $0$.\n",
    "\n",
    "The probability of this happening after drawing the black card is $\\frac{2}{3}$.\n",
    "\n",
    "If you decide to continue, there is a $\\frac{1}{2}$ chance that you will gain 1 dollar\n",
    "and a $\\frac{1}{2}$ chance that you will lose 1 dollar and will be forced to quit.\n",
    "This would mean that the optimal choice is either continue or quit.\n",
    "\n",
    "The expected return from continuing the game is $0$\n",
    "\n",
    "Together, the expected profit of playing more cards after drawing the first black card is\n",
    "$2 \\times \\frac{1}{3} + 0 \\times \\frac{2}{3} = \\frac{2}{3}$.\n",
    "\n",
    "Since the expected profit from continuing to play the game is positive,\n",
    "the optimal choice would be to continue drawing after the first black card.\n",
    "\n",
    "This would conclude the overall expected profit from playing the game to be:\n",
    "\n",
    "$$\n",
    "-1 \\times \\frac{1}{2} +\n",
    "2 \\times \\frac{1}{2} \\times \\frac{1}{3} +\n",
    "0 \\times \\frac{1}{2} \\times \\frac{2}{3} =\n",
    "-\\frac{1}{6}\n",
    "$$\n",
    "\n",
    "Since the expected profit from optimally playing this game is negative,\n",
    "**you should not play this game**"
   ],
   "metadata": {
    "collapsed": false
   }
  },
  {
   "cell_type": "markdown",
   "source": [
    "## (b)\n",
    "\n",
    "Let's calculate again what the expected profit would be if the\n",
    "game is played optimally\n",
    "\n",
    "### Case 1: First card Red\n",
    "\n",
    "Your net profit at this point will be $-1$.\n",
    "\n",
    "The probability of this occurring is $\\frac{1}{2}$\n",
    "\n",
    "This time you would not be forced to quit, but you would need to\n",
    "calculate what the optimal choice is at this point\n",
    "\n",
    "#### Case 1-1: Red - Red\n",
    "\n",
    "The probability of drawing the second red card is $\\frac{1}{3}$.\n",
    "\n",
    "You will be forced to stop the game and the net profit will be $-2$.\n",
    "\n",
    "#### Case 1-2: Red - Black\n",
    "\n",
    "The probability of drawing the black card in the second is $\\frac{2}{3}$.\n",
    "\n",
    "Your net profit at this point is $0$.\n",
    "\n",
    "It is optimal to continue playing since you won't be forced to quit\n",
    "even if you draw all $4$ cards (with net profit $0$) and there is a\n",
    "probability of having a positive net profit if your third card is also\n",
    "black (at which point it would be optimal to quit the game).\n",
    "\n",
    "The expected net profit from the optimal choice after drawing Red-Black is:\n",
    "\n",
    "$$\n",
    "1 \\times \\frac{1}{2} +\n",
    "0 \\times \\frac{1}{2} = \\frac{1}{2}\n",
    "$$\n",
    "\n",
    "Together, the net profit from continue playing after drawing the first Red is:\n",
    "\n",
    "$$\n",
    "-1 \\times \\frac{1}{3} +\n",
    "\\frac{1}{2} \\times \\frac{2}{3} =\n",
    "0\n",
    "$$\n",
    "\n",
    "The optimal strategy is indifferent to continue playing or quiting after the first Red\n",
    "\n",
    "### Case 2: First card Black\n",
    "\n",
    "Your net profit at this point will be $1$.\n",
    "\n",
    "The probability of this occurring is $\\frac{1}{2}$\n",
    "\n",
    "It will be optimal to continue playing since there is probability of having positive\n",
    "profit of doing so and you will never be forced to quit.\n",
    "\n",
    "If the second card is also black you quit the game with net profit $2$.\n",
    "\n",
    "If the second card is red, you continue playing.\n",
    "This is because if the third card is black you quit the game with net profit $1$.\n",
    "Nevertheless, if the third card is red you can play the fourth card and end the\n",
    "game with net profit $0$.\n",
    "\n",
    "From Case 1 and Case 2, the expected net profit is:\n",
    "\n",
    "$$\n",
    "-1 \\times \\frac{1}{2} +\n",
    "2 \\times \\frac{1}{2} \\times \\frac{1}{3} +\n",
    "1 \\times \\frac{1}{2} \\times \\frac{2}{3} \\times \\frac{1}{2} +\n",
    "0 \\times \\frac{1}{2} \\times \\frac{2}{3} \\times \\frac{1}{2} =\n",
    "0\n",
    "$$\n",
    "\n",
    "Therefore, if I play, the expected optimized profit is $0$.\n",
    "There would be no difference in playing or not playing based on the expected optimized profit.\n",
    "The actual decision would depend on your preference (i.e., statistically there is no\n",
    "dominating strategy or difference)."
   ],
   "metadata": {
    "collapsed": false
   }
  },
  {
   "cell_type": "markdown",
   "source": [
    "# Problem 5."
   ],
   "metadata": {
    "collapsed": false
   }
  },
  {
   "cell_type": "markdown",
   "source": [
    "## (a)\n",
    "\n",
    "By definition:\n",
    "\n",
    "$$\n",
    "\\psi_{a, b}(w) := \\mathbf{E}[e^{iw(aR_1 + bR_2)}]\n",
    "$$\n",
    "\n",
    "Furthermore,\n",
    "\n",
    "$$\n",
    "\\begin{aligned}\n",
    "\\mathbf{E}[e^{iw(aR_1 + bR_2)}] &=\n",
    "\\mathbf{E}[e^{iawR_1 + ibwR_2}] \\\\\n",
    "&= F(aw, bw)\n",
    "\\end{aligned}\n",
    "$$\n",
    "\n",
    "Therefore, $\\psi_{a, b}(w)$ can be expressed as $F(aw, bw)$."
   ],
   "metadata": {
    "collapsed": false
   }
  },
  {
   "cell_type": "markdown",
   "source": [
    "## (b)\n",
    "\n",
    "We know that $\\log(X/Y) = \\log(X) - \\log(Y)$.\n",
    "\n",
    "Therefore, the characteristic function of $\\log(X/Y)$ would be\n",
    "equivalent to $F(1, -1)$\n",
    "\n",
    "Using this we may conclude that:\n",
    "\n",
    "$$\n",
    "\\begin{aligned}\n",
    "\\mathbf{E} 1_{X/Y > K} &=\n",
    "\\mathbf{P} (X/Y > K) \\\\\n",
    "&= \\mathbf{P} (\\log(X) - \\log(Y) > \\log(K)) \\\\\n",
    "&= \\frac{1}{2} - \\frac{1}{\\pi}\n",
    "\\int_0^{\\infty} Re \\left[\\frac{F_{1, 1}(z)}{iz} e^{-iz \\log(K)} \\right] dz\n",
    "\\end{aligned}\n",
    "$$"
   ],
   "metadata": {
    "collapsed": false
   }
  }
 ],
 "metadata": {
  "anaconda-cloud": {},
  "kernelspec": {
   "display_name": "Python 3",
   "language": "python",
   "name": "python3"
  },
  "language_info": {
   "codemirror_mode": {
    "name": "ipython",
    "version": 3
   },
   "file_extension": ".py",
   "mimetype": "text/x-python",
   "name": "python",
   "nbconvert_exporter": "python",
   "pygments_lexer": "ipython3",
   "version": "3.6.5"
  },
  "colab": {
   "provenance": []
  }
 },
 "nbformat": 4,
 "nbformat_minor": 0
}
