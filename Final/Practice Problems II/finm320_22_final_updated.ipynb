{
  "cells": [
    {
      "cell_type": "code",
      "execution_count": null,
      "metadata": {
        "id": "N3NcmSyD_n-h"
      },
      "outputs": [],
      "source": [
        "import numpy as np"
      ]
    },
    {
      "cell_type": "code",
      "execution_count": null,
      "metadata": {
        "id": "5CQyoplL_n-k"
      },
      "outputs": [],
      "source": [
        "class GBM:\n",
        "\n",
        "    def __init__(self,S0,r,sigma=None):\n",
        "        self.S0=S0\n",
        "        self.r=r\n",
        "        self.sigma=sigma"
      ]
    },
    {
      "cell_type": "code",
      "execution_count": null,
      "metadata": {
        "id": "MGfoxQrr_n-k"
      },
      "outputs": [],
      "source": [
        "class Bet:\n",
        "\n",
        "    def __init__(self,K,T,observedPrice):\n",
        "        self.K=K\n",
        "        self.T=T\n",
        "        self.observedPrice=observedPrice    \n",
        "\n",
        "    def impliedVol(self,dynamics):\n",
        "\n",
        "        if self.K != dynamics.S0:\n",
        "            raise ValueError('Please assume the ATM case')\n",
        "        if dynamics.r <= 0: \n",
        "            raise ValueError('Please assume r>0')\n",
        "            \n",
        "        # fill this in.  You may use a root-finder, but if you see a way to code this without using a root-finder, \n",
        "        # then you are not required to use a root-finder.\n",
        "            \n",
        "        return impliedVol    "
      ]
    },
    {
      "cell_type": "code",
      "source": [
        "class EYcontract:\n",
        "\n",
        "    def __init__(self,Klow,Kmid,Khigh,T0,T1):\n",
        "        self.Klow = Klow\n",
        "        self.Kmid = Kmid\n",
        "        self.Khigh = Khigh\n",
        "        self.T0 = T0\n",
        "        self.T1 = T1\n"
      ],
      "metadata": {
        "id": "qA_ASvUaC97l"
      },
      "execution_count": null,
      "outputs": []
    },
    {
      "cell_type": "code",
      "execution_count": null,
      "metadata": {
        "id": "UXmRgYDM_n-l"
      },
      "outputs": [],
      "source": [
        "class MC:\n",
        "\n",
        "    def __init__(self,M,seed):\n",
        "        self.M = M  #number of paths\n",
        "        self.rng = np.random.default_rng(seed=seed) # Seeding the random number generator with a specified number helps make the calculations reproducible\n",
        "\n",
        "    def price_EYcontract_GBM(self,contract,dynamics):\n",
        "    \n",
        "        # You complete the coding of this function\n",
        "\n",
        "        return(price, standard_error)\n",
        "        "
      ]
    },
    {
      "cell_type": "markdown",
      "metadata": {
        "id": "cssm1MLx_n-l"
      },
      "source": [
        "## Problem 1"
      ]
    },
    {
      "cell_type": "code",
      "execution_count": null,
      "metadata": {
        "id": "JLAfx1Vp_n-m"
      },
      "outputs": [],
      "source": [
        "# your solution should allow for minor perturbations of the parameters, \n",
        "# but you may assume that r>0 and that S0=K \n",
        "\n",
        "p1dynamics=GBM(S0=88,r=0.03)"
      ]
    },
    {
      "cell_type": "code",
      "execution_count": null,
      "metadata": {
        "id": "cLOQ2vLd_n-n"
      },
      "outputs": [],
      "source": [
        "p1contract=Bet(K=88,T=1.0,observedPrice=0.5)  \n",
        "#the 0.5 assumes that the contract pays $1 (or nothing).  \n",
        "#If instead you assume it pays $20 million, then this observed price needs to be changed to $10 million."
      ]
    },
    {
      "cell_type": "code",
      "execution_count": null,
      "metadata": {
        "id": "GGkgISuQ_n-n"
      },
      "outputs": [],
      "source": [
        "impliedVol = p1contract.impliedVol(p1dynamics)\n",
        "print(impliedVol)"
      ]
    },
    {
      "cell_type": "markdown",
      "metadata": {
        "id": "fL3ee1N2_n-o"
      },
      "source": [
        "## Problem 4"
      ]
    },
    {
      "cell_type": "code",
      "execution_count": null,
      "metadata": {
        "id": "LR8WHSpv_n-o"
      },
      "outputs": [],
      "source": [
        "p4dynamics = GBM(sigma=0.70,S0=10,r=0.02)"
      ]
    },
    {
      "cell_type": "code",
      "execution_count": null,
      "metadata": {
        "id": "2qPJ4byU_n-o"
      },
      "outputs": [],
      "source": [
        "p4contract = EYcontract(Klow=10,Kmid=11,Khigh=14,T0=0.5,T1=1.0)"
      ]
    },
    {
      "cell_type": "code",
      "execution_count": null,
      "metadata": {
        "id": "j9o69w-i_n-p"
      },
      "outputs": [],
      "source": [
        "p4MC = MC(M=100000,seed=0) "
      ]
    },
    {
      "cell_type": "code",
      "execution_count": null,
      "metadata": {
        "id": "v7eyVAia_n-p"
      },
      "outputs": [],
      "source": [
        "(price, standard_error) = p4MC.price_EYcontract_GBM(p4contract,p4dynamics)\n",
        "print(price, standard_error)"
      ]
    }
  ],
  "metadata": {
    "anaconda-cloud": {},
    "kernelspec": {
      "display_name": "Python 3",
      "language": "python",
      "name": "python3"
    },
    "language_info": {
      "codemirror_mode": {
        "name": "ipython",
        "version": 3
      },
      "file_extension": ".py",
      "mimetype": "text/x-python",
      "name": "python",
      "nbconvert_exporter": "python",
      "pygments_lexer": "ipython3",
      "version": "3.6.5"
    },
    "colab": {
      "provenance": []
    }
  },
  "nbformat": 4,
  "nbformat_minor": 0
}